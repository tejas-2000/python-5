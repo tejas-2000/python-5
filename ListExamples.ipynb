{
 "cells": [
  {
   "cell_type": "code",
   "execution_count": null,
   "id": "15d682e2-f1f6-4e90-bf6d-1e41e6f04feb",
   "metadata": {},
   "outputs": [],
   "source": [
    "branches = [\"CSE\",\"ECE\", \"EE\", \"ISE\",\"MECH\",\"CV\"]"
   ]
  },
  {
   "cell_type": "code",
   "execution_count": null,
   "id": "9d1b4a20-8b8a-4f8c-ba8c-475ec70a3043",
   "metadata": {},
   "outputs": [],
   "source": [
    "branches"
   ]
  },
  {
   "cell_type": "code",
   "execution_count": null,
   "id": "659e7fe3-30c3-4bcb-a3cf-78324b850d47",
   "metadata": {},
   "outputs": [],
   "source": [
    "type(branches)"
   ]
  },
  {
   "cell_type": "code",
   "execution_count": null,
   "id": "8ea84fe2-4699-4b36-933b-7af6f99d783c",
   "metadata": {},
   "outputs": [],
   "source": [
    "len(branches)"
   ]
  },
  {
   "cell_type": "code",
   "execution_count": null,
   "id": "d97301d1-4f06-4bb0-bd24-4a236917233e",
   "metadata": {},
   "outputs": [],
   "source": [
    "Bill = [\"Table1\", 'S','D', '2nd Sept 2024', 368.69]"
   ]
  },
  {
   "cell_type": "code",
   "execution_count": null,
   "id": "46f2f813-d48d-4ad8-9b21-52659fe2821c",
   "metadata": {},
   "outputs": [],
   "source": [
    "Bill"
   ]
  },
  {
   "cell_type": "code",
   "execution_count": null,
   "id": "6d4d0322-f5a2-426f-b823-f3348e649e26",
   "metadata": {},
   "outputs": [],
   "source": [
    "type(Bill)"
   ]
  },
  {
   "cell_type": "code",
   "execution_count": null,
   "id": "106afd72-7383-4d7f-ad49-879efeb4c210",
   "metadata": {},
   "outputs": [],
   "source": [
    "Bill[3]"
   ]
  },
  {
   "cell_type": "markdown",
   "id": "76858a25-a2c0-499f-a6ef-a0c5a83b64b9",
   "metadata": {},
   "source": [
    "<h3>Lists examples </h3>"
   ]
  },
  {
   "cell_type": "code",
   "execution_count": null,
   "id": "1ed503a1-554e-4ae3-992d-4c1a7b9f9ace",
   "metadata": {},
   "outputs": [],
   "source": [
    "type(list())"
   ]
  },
  {
   "cell_type": "code",
   "execution_count": null,
   "id": "28f8cfd9-5dcf-4bb3-9190-ca042d005339",
   "metadata": {},
   "outputs": [],
   "source": [
    "list([\"CSE\",\"ECE\", \"EE\", \"ISE\",\"MECH\",\"CV\"])"
   ]
  },
  {
   "cell_type": "code",
   "execution_count": null,
   "id": "678e27e5-30dd-4586-af6b-2eb216e6bef9",
   "metadata": {},
   "outputs": [],
   "source": [
    "list(Bill)"
   ]
  },
  {
   "cell_type": "code",
   "execution_count": null,
   "id": "f0c0924b-eff4-4f28-89d8-bcacfd185c8b",
   "metadata": {},
   "outputs": [],
   "source": [
    "list(\"CSE branch\")"
   ]
  },
  {
   "cell_type": "code",
   "execution_count": null,
   "id": "6c8da2ea-66bf-4fd5-a96d-a77144b20dd1",
   "metadata": {},
   "outputs": [],
   "source": [
    "Billdetails = \"b1, 5, 230, b2, 3, 180\""
   ]
  },
  {
   "cell_type": "code",
   "execution_count": null,
   "id": "d63377a3-1a45-4c86-a1db-f44788bc0b8b",
   "metadata": {},
   "outputs": [],
   "source": [
    "Billdetails"
   ]
  },
  {
   "cell_type": "code",
   "execution_count": null,
   "id": "b4d5aa43-298b-4b93-adb2-277cb79cb2a4",
   "metadata": {},
   "outputs": [],
   "source": [
    "Billdetails.split(\",\")"
   ]
  },
  {
   "cell_type": "code",
   "execution_count": null,
   "id": "ee12c4d7-3bba-4cce-adee-02ad9b95c187",
   "metadata": {},
   "outputs": [],
   "source": [
    "\"sdm:cet\".split(\":\")"
   ]
  },
  {
   "cell_type": "code",
   "execution_count": 10,
   "id": "d7538b78-d8fe-432d-9795-3906518aff20",
   "metadata": {},
   "outputs": [
    {
     "data": {
      "text/plain": [
       "['SDM', 'college', 'of', 'Engineering', 'and', 'Technology']"
      ]
     },
     "execution_count": 10,
     "metadata": {},
     "output_type": "execute_result"
    }
   ],
   "source": [
    "\"SDM college of Engineering and Technology\".split(\" \")"
   ]
  },
  {
   "cell_type": "code",
   "execution_count": null,
   "id": "76e3993b-b232-4ecd-a5ed-96dab4e3bbc4",
   "metadata": {},
   "outputs": [],
   "source": [
    "branches[2]"
   ]
  },
  {
   "cell_type": "code",
   "execution_count": null,
   "id": "6d4f14a3-fc49-4c43-9c26-361d0adda3c3",
   "metadata": {},
   "outputs": [],
   "source": [
    "branches[4]"
   ]
  },
  {
   "cell_type": "code",
   "execution_count": null,
   "id": "62945fd8-ddab-4f44-8c3a-e3954e520c28",
   "metadata": {},
   "outputs": [],
   "source": [
    "branches[0:6]"
   ]
  },
  {
   "cell_type": "code",
   "execution_count": null,
   "id": "cd6984c2-2944-431d-b7eb-9a6ca84d5643",
   "metadata": {},
   "outputs": [],
   "source": [
    "branches[1:3]"
   ]
  },
  {
   "cell_type": "code",
   "execution_count": null,
   "id": "6c6f92e0-b334-4445-85f4-f26f46597927",
   "metadata": {},
   "outputs": [],
   "source": [
    "\"AI\" in branches"
   ]
  },
  {
   "cell_type": "code",
   "execution_count": null,
   "id": "02d9b63e-5c65-458a-bbb3-c170af4db1cd",
   "metadata": {},
   "outputs": [],
   "source": [
    "\"cse\" in branches"
   ]
  },
  {
   "cell_type": "code",
   "execution_count": null,
   "id": "3039345a-5b0b-49c1-9b30-6a48297a29dd",
   "metadata": {},
   "outputs": [],
   "source": [
    "for branch in branches:\n",
    "    branch\n",
    "print(branch)"
   ]
  },
  {
   "cell_type": "code",
   "execution_count": 11,
   "id": "96cdce98-296a-4f28-9a5a-3ab054a675e7",
   "metadata": {},
   "outputs": [
    {
     "name": "stdout",
     "output_type": "stream",
     "text": [
      "20\n",
      "40\n",
      "60\n",
      "80\n",
      "100\n"
     ]
    }
   ],
   "source": [
    "numbers = [20,40,60,80,100]\n",
    "for num in numbers:\n",
    "    if num % 2 == 0:\n",
    "        print(num)"
   ]
  },
  {
   "cell_type": "code",
   "execution_count": null,
   "id": "0d26cc60-2c12-483b-83ec-2d30b153c756",
   "metadata": {},
   "outputs": [],
   "source": [
    "numbers[1] = 124"
   ]
  },
  {
   "cell_type": "code",
   "execution_count": null,
   "id": "a86b0e80-26d4-49f7-9c93-d66be9adfd4d",
   "metadata": {},
   "outputs": [],
   "source": [
    "numbers"
   ]
  },
  {
   "cell_type": "code",
   "execution_count": null,
   "id": "3d4093dd-3c5e-4b3c-84c6-52d181382b95",
   "metadata": {},
   "outputs": [],
   "source": [
    "numbers = (1,2,3,4)"
   ]
  },
  {
   "cell_type": "code",
   "execution_count": null,
   "id": "84292fac-013b-4c26-a72d-b7da9b5fca9b",
   "metadata": {
    "scrolled": true
   },
   "outputs": [],
   "source": [
    "numbers[1] = 6"
   ]
  },
  {
   "cell_type": "code",
   "execution_count": null,
   "id": "0a204283-f34f-4af3-b84d-5d789996c850",
   "metadata": {},
   "outputs": [],
   "source": [
    "colors = [\"red\", \"yellow\", \"green\", \"blue\"]"
   ]
  },
  {
   "cell_type": "code",
   "execution_count": null,
   "id": "96774bb8-1115-4137-99c4-4b18f1443f73",
   "metadata": {},
   "outputs": [],
   "source": [
    "colors[1:3] = [\"orange\", \"magenta\"]"
   ]
  },
  {
   "cell_type": "code",
   "execution_count": null,
   "id": "385b2890-449e-4841-a459-7f0d2dd3b3fe",
   "metadata": {},
   "outputs": [],
   "source": [
    "colors"
   ]
  },
  {
   "cell_type": "code",
   "execution_count": null,
   "id": "77895975-21a3-46b9-abfe-477a931465e9",
   "metadata": {},
   "outputs": [],
   "source": [
    "sum(numbers)"
   ]
  },
  {
   "cell_type": "code",
   "execution_count": null,
   "id": "042f5a89-5de0-4d0f-8a34-9c65e6d393e6",
   "metadata": {},
   "outputs": [],
   "source": [
    "numbers = [20,40,60,80,100]\n",
    "total = 0\n",
    "for nums in numbers:\n",
    "    total = total + nums\n",
    "\n",
    "total\n"
   ]
  },
  {
   "cell_type": "code",
   "execution_count": null,
   "id": "a5373b94-c7fe-468c-8d03-a3435df808d2",
   "metadata": {},
   "outputs": [],
   "source": [
    "sum([100,200,300])"
   ]
  },
  {
   "cell_type": "code",
   "execution_count": null,
   "id": "7c8c2200-3698-4f4c-822a-34edf8eceaa8",
   "metadata": {},
   "outputs": [],
   "source": [
    "min(numbers)"
   ]
  },
  {
   "cell_type": "code",
   "execution_count": null,
   "id": "ac983fbd-eb88-4e9f-bec9-e4f99d1a2748",
   "metadata": {},
   "outputs": [],
   "source": [
    "max(numbers)"
   ]
  },
  {
   "cell_type": "code",
   "execution_count": null,
   "id": "c408557b-9215-452e-9b82-ed70ba5e0658",
   "metadata": {},
   "outputs": [],
   "source": [
    "\"CSE\" in branches"
   ]
  },
  {
   "cell_type": "code",
   "execution_count": null,
   "id": "3877446e-c168-4ce5-b8fe-ce82b4227c5c",
   "metadata": {},
   "outputs": [],
   "source": [
    "nums = (1,2,3,4)"
   ]
  },
  {
   "cell_type": "code",
   "execution_count": null,
   "id": "17113178-f2ec-4d63-87c6-438dd410bfa7",
   "metadata": {},
   "outputs": [],
   "source": [
    "sqrs = [num**2 for num in nums]"
   ]
  },
  {
   "cell_type": "code",
   "execution_count": null,
   "id": "82948e5b-5f2d-4a5d-a3e1-26919a0e62b3",
   "metadata": {},
   "outputs": [],
   "source": [
    "sqrs"
   ]
  },
  {
   "cell_type": "code",
   "execution_count": null,
   "id": "da4152d3-65ef-4648-96b5-9f5ecb493773",
   "metadata": {},
   "outputs": [],
   "source": [
    "sq1 = []\n",
    "for s in nums:\n",
    "    sq1.append(s**2)\n",
    "\n",
    "sq1"
   ]
  },
  {
   "cell_type": "code",
   "execution_count": null,
   "id": "a5948ae4-795c-40f6-a774-411a2abb2478",
   "metadata": {},
   "outputs": [],
   "source": [
    "f_var = [\"9.65\", \"8.75\", \"6.98\"]\n",
    "f_nums = [float(f) for f in f_var]\n",
    "f_nums"
   ]
  },
  {
   "cell_type": "code",
   "execution_count": null,
   "id": "ed1d2265-a7ee-44a6-ad5e-810d30b951e6",
   "metadata": {},
   "outputs": [],
   "source": [
    "students = [\"Rahul\", \"Mahesh\", \"Gopal\"]"
   ]
  },
  {
   "cell_type": "code",
   "execution_count": null,
   "id": "0748dec4-a591-471a-b1fb-790229b6efe2",
   "metadata": {},
   "outputs": [],
   "source": [
    "students"
   ]
  },
  {
   "cell_type": "code",
   "execution_count": null,
   "id": "0c98fc89-60f3-44ac-833d-bb4620fe9f14",
   "metadata": {},
   "outputs": [],
   "source": [
    "students.insert(0, \"Abhinav\")"
   ]
  },
  {
   "cell_type": "code",
   "execution_count": null,
   "id": "287d2693-3b0c-4d0b-81e2-145855025cf8",
   "metadata": {},
   "outputs": [],
   "source": [
    "students"
   ]
  },
  {
   "cell_type": "code",
   "execution_count": null,
   "id": "95b5a8f9-a8ab-421b-9059-5527e5555ad1",
   "metadata": {},
   "outputs": [],
   "source": [
    "students.insert(4, \"Susheel\")"
   ]
  },
  {
   "cell_type": "code",
   "execution_count": null,
   "id": "971c8f5c-f503-487b-a749-1b11248a4cde",
   "metadata": {},
   "outputs": [],
   "source": [
    "students"
   ]
  },
  {
   "cell_type": "code",
   "execution_count": null,
   "id": "92cd8f22-2e40-4c89-ac26-211b95afc8e6",
   "metadata": {},
   "outputs": [],
   "source": [
    "students.insert(-2, \"suhaas\")"
   ]
  },
  {
   "cell_type": "code",
   "execution_count": null,
   "id": "c4fd0993-1603-4314-ae75-286bfb533e24",
   "metadata": {},
   "outputs": [],
   "source": [
    "students"
   ]
  },
  {
   "cell_type": "code",
   "execution_count": null,
   "id": "6532f3eb-8725-40cf-bd5a-eab9fc74ff2b",
   "metadata": {},
   "outputs": [],
   "source": [
    "students.pop(0)"
   ]
  },
  {
   "cell_type": "code",
   "execution_count": null,
   "id": "29bf81e3-9c29-45c0-9db8-73e94229217a",
   "metadata": {},
   "outputs": [],
   "source": [
    "students"
   ]
  },
  {
   "cell_type": "code",
   "execution_count": null,
   "id": "6de90609-8ddc-4c29-a0f2-30ae281e5155",
   "metadata": {},
   "outputs": [],
   "source": [
    "students.pop(-1)"
   ]
  },
  {
   "cell_type": "code",
   "execution_count": null,
   "id": "2e42d66b-6de3-4f53-8515-dd3e38c30b5d",
   "metadata": {},
   "outputs": [],
   "source": [
    "students"
   ]
  },
  {
   "cell_type": "code",
   "execution_count": null,
   "id": "f9759d06-3fed-4bde-a6af-bdf2edcab1a8",
   "metadata": {},
   "outputs": [],
   "source": [
    "students.append(\"veeresh\")"
   ]
  },
  {
   "cell_type": "code",
   "execution_count": null,
   "id": "37333938-78da-4a06-9b48-45176bd2a1bd",
   "metadata": {},
   "outputs": [],
   "source": [
    "students"
   ]
  },
  {
   "cell_type": "code",
   "execution_count": null,
   "id": "09fe82e3-5b80-401c-8441-71129fbecf19",
   "metadata": {},
   "outputs": [],
   "source": [
    "students.insert(len(students), \"yogesh\")"
   ]
  },
  {
   "cell_type": "code",
   "execution_count": null,
   "id": "92769e67-21ae-43a8-9711-ca56581cc65f",
   "metadata": {},
   "outputs": [],
   "source": [
    "students"
   ]
  },
  {
   "cell_type": "code",
   "execution_count": null,
   "id": "e8af21b0-38e9-44fa-a096-adbb4a0e1624",
   "metadata": {},
   "outputs": [],
   "source": [
    "students.extend([\"Sunil\", \"Sukrut\"])"
   ]
  },
  {
   "cell_type": "code",
   "execution_count": null,
   "id": "c368233f-84fb-461d-b5ec-e03bf0951031",
   "metadata": {},
   "outputs": [],
   "source": [
    "students"
   ]
  },
  {
   "cell_type": "code",
   "execution_count": null,
   "id": "1c6a2d31-150c-43d6-93f1-dc4df186d10f",
   "metadata": {},
   "outputs": [],
   "source": [
    "students.extend([\"Neeraj\",\"Rajeev\"])"
   ]
  },
  {
   "cell_type": "code",
   "execution_count": null,
   "id": "eebe4818-577e-47ac-9631-d9d6a6a41197",
   "metadata": {},
   "outputs": [],
   "source": [
    "students"
   ]
  },
  {
   "cell_type": "code",
   "execution_count": null,
   "id": "23114cf3-e4d5-4f84-a505-a386cc10cc09",
   "metadata": {},
   "outputs": [],
   "source": [
    "students.pop(-1)"
   ]
  },
  {
   "cell_type": "code",
   "execution_count": null,
   "id": "41d2ecd0-b0d4-444c-87fe-407734947b7c",
   "metadata": {},
   "outputs": [],
   "source": [
    "students"
   ]
  },
  {
   "cell_type": "code",
   "execution_count": null,
   "id": "363c8eb6-65ca-49f9-bed0-6fb9d370bb54",
   "metadata": {},
   "outputs": [],
   "source": [
    "students.pop(-1)"
   ]
  },
  {
   "cell_type": "code",
   "execution_count": null,
   "id": "c0d8aad1-bdbf-4009-b25f-3c077029168c",
   "metadata": {},
   "outputs": [],
   "source": [
    "students"
   ]
  },
  {
   "cell_type": "code",
   "execution_count": null,
   "id": "96f776a6-2dbd-4cf1-8831-51870d742a7e",
   "metadata": {},
   "outputs": [],
   "source": [
    "students.pop(-1)"
   ]
  },
  {
   "cell_type": "code",
   "execution_count": null,
   "id": "e0bf6b75-1373-403f-adaf-405fb4efeb54",
   "metadata": {},
   "outputs": [],
   "source": [
    "students"
   ]
  },
  {
   "cell_type": "code",
   "execution_count": null,
   "id": "665c0a54-8523-4229-93ae-9bbae5f94b4d",
   "metadata": {},
   "outputs": [],
   "source": [
    "nst_lst = [[2,4,6],[3,5,7]]"
   ]
  },
  {
   "cell_type": "code",
   "execution_count": null,
   "id": "aca7d91f-d033-46ec-938e-5171e1fa253d",
   "metadata": {},
   "outputs": [],
   "source": [
    "nst_lst"
   ]
  },
  {
   "cell_type": "code",
   "execution_count": null,
   "id": "7068e788-6c30-4907-94b1-ce41baed45a0",
   "metadata": {},
   "outputs": [],
   "source": [
    "len(nst_lst)"
   ]
  },
  {
   "cell_type": "code",
   "execution_count": null,
   "id": "49c0a7e6-7644-4e18-baa2-83f4fbc733e9",
   "metadata": {},
   "outputs": [],
   "source": [
    "nst_lst[1]"
   ]
  },
  {
   "cell_type": "code",
   "execution_count": null,
   "id": "2da1864f-d29a-4b7d-a536-d0ccd460df0d",
   "metadata": {},
   "outputs": [],
   "source": [
    "nst_lst[0]"
   ]
  },
  {
   "cell_type": "code",
   "execution_count": null,
   "id": "f7c6c983-356c-4e51-a771-ccd24b672811",
   "metadata": {},
   "outputs": [],
   "source": [
    "nst_lst[1][1]"
   ]
  },
  {
   "cell_type": "code",
   "execution_count": null,
   "id": "a0dd8e5c-0f79-424e-954a-cc7b462f6b63",
   "metadata": {},
   "outputs": [],
   "source": [
    "fruits = [\"Apple\", \"Orange\", \"Banana\"]"
   ]
  },
  {
   "cell_type": "code",
   "execution_count": null,
   "id": "4dec09b0-b4e9-42b2-8767-1b19f8aad32f",
   "metadata": {},
   "outputs": [],
   "source": [
    "fruits2= fruits"
   ]
  },
  {
   "cell_type": "code",
   "execution_count": null,
   "id": "68c490b2-8a5d-4560-99c4-46406870df4d",
   "metadata": {},
   "outputs": [],
   "source": [
    "fruits2"
   ]
  },
  {
   "cell_type": "code",
   "execution_count": null,
   "id": "4b4d1f88-a84f-4e6e-bf1f-1f94a5aad43a",
   "metadata": {},
   "outputs": [],
   "source": [
    "fruits2.append(\"Kivi\")"
   ]
  },
  {
   "cell_type": "code",
   "execution_count": null,
   "id": "6d6b07a9-fd67-4e79-9702-2feddbc17085",
   "metadata": {},
   "outputs": [],
   "source": [
    "fruits"
   ]
  },
  {
   "cell_type": "code",
   "execution_count": null,
   "id": "fff689c4-6cc2-412d-a8ed-1fd1a51f5063",
   "metadata": {},
   "outputs": [],
   "source": [
    "fruits2"
   ]
  },
  {
   "cell_type": "code",
   "execution_count": null,
   "id": "086dcd8f-05f6-43e2-bd88-919f9c51e277",
   "metadata": {},
   "outputs": [],
   "source": [
    "fruits2=fruits[:]"
   ]
  },
  {
   "cell_type": "code",
   "execution_count": null,
   "id": "75590cf3-edb2-4886-be8a-a90a5477af30",
   "metadata": {},
   "outputs": [],
   "source": [
    "fruits"
   ]
  },
  {
   "cell_type": "code",
   "execution_count": null,
   "id": "e9ba8d3a-276f-4ed7-84b9-9aaa66897853",
   "metadata": {},
   "outputs": [],
   "source": [
    "fruits2.append(\"Mango\")"
   ]
  },
  {
   "cell_type": "code",
   "execution_count": null,
   "id": "67f9c72d-45b9-4242-8bef-f774f9efa8fc",
   "metadata": {},
   "outputs": [],
   "source": [
    "fruits2"
   ]
  },
  {
   "cell_type": "code",
   "execution_count": null,
   "id": "24ca9071-576c-45ac-b791-d1d2609be0eb",
   "metadata": {},
   "outputs": [],
   "source": [
    "fruits"
   ]
  },
  {
   "cell_type": "code",
   "execution_count": null,
   "id": "9ceaf992-94a9-4476-a95f-5edebbb86990",
   "metadata": {},
   "outputs": [],
   "source": [
    "fruits.append(\"Chikku\")"
   ]
  },
  {
   "cell_type": "code",
   "execution_count": null,
   "id": "a6e9d663-9af0-45e0-8d82-62e6aa538704",
   "metadata": {},
   "outputs": [],
   "source": [
    "fruits"
   ]
  },
  {
   "cell_type": "code",
   "execution_count": null,
   "id": "86857783-6f3b-4165-980f-bca582445809",
   "metadata": {},
   "outputs": [],
   "source": [
    "fruits2"
   ]
  },
  {
   "cell_type": "code",
   "execution_count": null,
   "id": "34e94071-33db-426f-9598-b751de45c84a",
   "metadata": {},
   "outputs": [],
   "source": [
    "fruits.sort()"
   ]
  },
  {
   "cell_type": "code",
   "execution_count": null,
   "id": "6c38392d-afcd-4f08-a19b-c227a677e6a2",
   "metadata": {},
   "outputs": [],
   "source": [
    "fruits"
   ]
  },
  {
   "cell_type": "code",
   "execution_count": null,
   "id": "5c51615e-29f2-40c8-b3c8-7889ea47c467",
   "metadata": {},
   "outputs": [],
   "source": [
    "fruits"
   ]
  },
  {
   "cell_type": "code",
   "execution_count": null,
   "id": "24e4f727-ad10-498c-8b87-616880cab39b",
   "metadata": {},
   "outputs": [],
   "source": [
    "fruits.sort()"
   ]
  },
  {
   "cell_type": "code",
   "execution_count": null,
   "id": "f5b057ed-ca82-43b3-8f79-a39f0e808fcb",
   "metadata": {},
   "outputs": [],
   "source": [
    "fruits"
   ]
  },
  {
   "cell_type": "code",
   "execution_count": 5,
   "id": "8e399a89-4619-402a-b31d-c058a8375e5a",
   "metadata": {},
   "outputs": [],
   "source": [
    "colors = [\"red\", \"yellow\", \"green\", \"blue\"]"
   ]
  },
  {
   "cell_type": "code",
   "execution_count": 6,
   "id": "c2c9c958-5965-42a4-b3d8-ff71b6687a9b",
   "metadata": {},
   "outputs": [],
   "source": [
    "colors.sort()"
   ]
  },
  {
   "cell_type": "code",
   "execution_count": 7,
   "id": "692fd0e5-00ee-4c9e-b99c-4dca69a0c163",
   "metadata": {},
   "outputs": [
    {
     "data": {
      "text/plain": [
       "['blue', 'green', 'red', 'yellow']"
      ]
     },
     "execution_count": 7,
     "metadata": {},
     "output_type": "execute_result"
    }
   ],
   "source": [
    "colors"
   ]
  },
  {
   "cell_type": "code",
   "execution_count": null,
   "id": "bbca1cfa-f845-4996-b052-fc7938e37e91",
   "metadata": {},
   "outputs": [],
   "source": [
    "marks = [610, 110, 210, 410, 310, 510]"
   ]
  },
  {
   "cell_type": "code",
   "execution_count": null,
   "id": "5f383b3e-7445-46d1-8221-5ceba2181b06",
   "metadata": {},
   "outputs": [],
   "source": [
    "marks.sort()"
   ]
  },
  {
   "cell_type": "code",
   "execution_count": null,
   "id": "f78bac12-5071-4fd1-a137-a483e59b7b72",
   "metadata": {},
   "outputs": [],
   "source": [
    "marks"
   ]
  },
  {
   "cell_type": "code",
   "execution_count": 8,
   "id": "634402a2-275f-4ac7-bb00-7a12fa53ccfd",
   "metadata": {},
   "outputs": [],
   "source": [
    "colors.sort(key = len)"
   ]
  },
  {
   "cell_type": "code",
   "execution_count": 9,
   "id": "0e997688-5b57-43e2-85a7-6accec970831",
   "metadata": {},
   "outputs": [
    {
     "data": {
      "text/plain": [
       "['red', 'blue', 'green', 'yellow']"
      ]
     },
     "execution_count": 9,
     "metadata": {},
     "output_type": "execute_result"
    }
   ],
   "source": [
    "colors"
   ]
  },
  {
   "cell_type": "code",
   "execution_count": null,
   "id": "d3ac9d23-a941-4881-a3f8-35227a41c4ac",
   "metadata": {},
   "outputs": [],
   "source": []
  }
 ],
 "metadata": {
  "kernelspec": {
   "display_name": "Python 3 (ipykernel)",
   "language": "python",
   "name": "python3"
  },
  "language_info": {
   "codemirror_mode": {
    "name": "ipython",
    "version": 3
   },
   "file_extension": ".py",
   "mimetype": "text/x-python",
   "name": "python",
   "nbconvert_exporter": "python",
   "pygments_lexer": "ipython3",
   "version": "3.8.4"
  }
 },
 "nbformat": 4,
 "nbformat_minor": 5
}
