{
 "cells": [
  {
   "cell_type": "code",
   "execution_count": null,
   "id": "afabdc28-8889-452d-b0f1-16cd5157cd19",
   "metadata": {},
   "outputs": [],
   "source": [
    "my_tups = (20,40,60,80)"
   ]
  },
  {
   "cell_type": "code",
   "execution_count": null,
   "id": "593a1892-2e91-457a-b605-6877f0442783",
   "metadata": {},
   "outputs": [],
   "source": [
    "my_tups"
   ]
  },
  {
   "cell_type": "code",
   "execution_count": null,
   "id": "bb605c53-892f-4429-8829-9fa91b634b5c",
   "metadata": {},
   "outputs": [],
   "source": [
    "type(my_tups)"
   ]
  },
  {
   "cell_type": "code",
   "execution_count": null,
   "id": "3d4d3d7d-0261-42a0-8126-97352eb77e86",
   "metadata": {},
   "outputs": [],
   "source": [
    "my_tups[2]"
   ]
  },
  {
   "cell_type": "code",
   "execution_count": 2,
   "id": "d6342557-f7ac-4c00-bfeb-31459b8cf78a",
   "metadata": {},
   "outputs": [],
   "source": [
    "mx_tups = (\"Raghav\", 9.98, 2024)"
   ]
  },
  {
   "cell_type": "code",
   "execution_count": 3,
   "id": "cecc0912-6bfe-4c3e-a43f-646c31016801",
   "metadata": {},
   "outputs": [
    {
     "name": "stdout",
     "output_type": "stream",
     "text": [
      "('Raghav', 9.98, 2024)\n"
     ]
    }
   ],
   "source": [
    "print(mx_tups)"
   ]
  },
  {
   "cell_type": "code",
   "execution_count": null,
   "id": "6025f125-3e62-4f92-a05f-1ef22aeb3d0a",
   "metadata": {},
   "outputs": [],
   "source": [
    "mx_tups"
   ]
  },
  {
   "cell_type": "code",
   "execution_count": null,
   "id": "2f5ddc70-427b-4759-b756-695a1ef3159a",
   "metadata": {},
   "outputs": [],
   "source": [
    "tupleEx(20)"
   ]
  },
  {
   "cell_type": "code",
   "execution_count": null,
   "id": "2d3d0a3a-3d68-42fa-938a-bcf159ae3b9d",
   "metadata": {},
   "outputs": [],
   "source": [
    "tupleEx= (20)"
   ]
  },
  {
   "cell_type": "code",
   "execution_count": null,
   "id": "02c7780a-8a2c-4929-92a1-aa9d583bb38a",
   "metadata": {},
   "outputs": [],
   "source": [
    "print(tupleEx)"
   ]
  },
  {
   "cell_type": "code",
   "execution_count": null,
   "id": "47d64c2f-e86f-42ac-a136-5612d469df9a",
   "metadata": {},
   "outputs": [],
   "source": [
    "tupleEx"
   ]
  },
  {
   "cell_type": "code",
   "execution_count": null,
   "id": "154ed64e-efb1-43d6-acc2-628358605274",
   "metadata": {},
   "outputs": [],
   "source": [
    "type(tupleEx)"
   ]
  },
  {
   "cell_type": "code",
   "execution_count": null,
   "id": "d8a9c29a-a782-4039-a6c2-7e2f48950156",
   "metadata": {},
   "outputs": [],
   "source": [
    "tupleEx = (20, )"
   ]
  },
  {
   "cell_type": "code",
   "execution_count": null,
   "id": "63cc9895-d885-44d8-a82c-3d2128975afc",
   "metadata": {},
   "outputs": [],
   "source": [
    "tupleEx"
   ]
  },
  {
   "cell_type": "code",
   "execution_count": null,
   "id": "d14acf3c-ab52-490e-b87d-06af145dd17b",
   "metadata": {},
   "outputs": [],
   "source": [
    "tupleEx = (,20)"
   ]
  },
  {
   "cell_type": "code",
   "execution_count": null,
   "id": "b2b040a5-aa0e-4632-ad10-81bd62019fea",
   "metadata": {},
   "outputs": [],
   "source": [
    "tupleEx = (20, 40)"
   ]
  },
  {
   "cell_type": "code",
   "execution_count": null,
   "id": "af6f9cee-b8cf-474e-aaf3-be4adfa6ec01",
   "metadata": {},
   "outputs": [],
   "source": [
    "tupleEx"
   ]
  },
  {
   "cell_type": "code",
   "execution_count": null,
   "id": "cc7c0ad3-c1e7-46fb-a771-76aa74f5b907",
   "metadata": {},
   "outputs": [],
   "source": [
    "tuple(\"Computer\")"
   ]
  },
  {
   "cell_type": "code",
   "execution_count": null,
   "id": "55353e4d-da8b-49fe-9c64-49ca26ff356b",
   "metadata": {},
   "outputs": [],
   "source": [
    "tuple(30,35,55,70,75)"
   ]
  },
  {
   "cell_type": "code",
   "execution_count": null,
   "id": "9d596484-c76a-4f98-8e49-8618f0a9f7f1",
   "metadata": {},
   "outputs": [],
   "source": [
    "tuple(20)"
   ]
  },
  {
   "cell_type": "code",
   "execution_count": null,
   "id": "7b7366b7-3caa-4086-b30a-a023f5a781b5",
   "metadata": {},
   "outputs": [],
   "source": [
    "tupleEx(1)"
   ]
  },
  {
   "cell_type": "code",
   "execution_count": null,
   "id": "dd5feb73-bc6b-4dfb-9f66-ff79f07364ac",
   "metadata": {},
   "outputs": [],
   "source": [
    "tupleEx[1]"
   ]
  },
  {
   "cell_type": "code",
   "execution_count": null,
   "id": "9a79c835-b189-4bdf-914a-a98131b38109",
   "metadata": {},
   "outputs": [],
   "source": [
    "clg = (\"Computer\")"
   ]
  },
  {
   "cell_type": "code",
   "execution_count": null,
   "id": "b1b35fbb-0e37-48ce-b0d4-fd05da44ed7e",
   "metadata": {},
   "outputs": [],
   "source": [
    "len(clg)"
   ]
  },
  {
   "cell_type": "code",
   "execution_count": null,
   "id": "f7adefbd-39d3-44aa-986f-bce119189256",
   "metadata": {},
   "outputs": [],
   "source": [
    "nums = (22,44,66,88)"
   ]
  },
  {
   "cell_type": "code",
   "execution_count": null,
   "id": "bbaea8ba-4117-49b2-a108-1bf800246a31",
   "metadata": {},
   "outputs": [],
   "source": [
    "len(nums)"
   ]
  },
  {
   "cell_type": "code",
   "execution_count": null,
   "id": "2830eb5f-bf64-4ce5-b337-0d5b7c66c9e5",
   "metadata": {},
   "outputs": [],
   "source": [
    "nums[2]"
   ]
  },
  {
   "cell_type": "code",
   "execution_count": null,
   "id": "2c7497cc-9a0e-42b3-b748-5e54498ceed0",
   "metadata": {},
   "outputs": [],
   "source": [
    "nums[0:1]"
   ]
  },
  {
   "cell_type": "code",
   "execution_count": null,
   "id": "cb92469f-c043-44dc-99fc-293f64499577",
   "metadata": {},
   "outputs": [],
   "source": [
    "nums[0:6]"
   ]
  },
  {
   "cell_type": "code",
   "execution_count": null,
   "id": "a2d87e80-f019-4582-a579-0968d75ba32c",
   "metadata": {},
   "outputs": [],
   "source": [
    "nums[0:5]"
   ]
  },
  {
   "cell_type": "code",
   "execution_count": null,
   "id": "89914bf3-bd27-43e7-922e-61e67745ae8b",
   "metadata": {},
   "outputs": [],
   "source": [
    "nums[0:3]"
   ]
  },
  {
   "cell_type": "code",
   "execution_count": null,
   "id": "1e19e5a5-58ac-47f4-b43a-c23d688c04c7",
   "metadata": {},
   "outputs": [],
   "source": [
    "nums[0:4]"
   ]
  },
  {
   "cell_type": "code",
   "execution_count": null,
   "id": "7f4567fd-e0f5-4645-89ab-24c5c1592747",
   "metadata": {},
   "outputs": [],
   "source": [
    "nums[1] = 98"
   ]
  },
  {
   "cell_type": "code",
   "execution_count": null,
   "id": "4a67799e-9c64-4d69-a02e-4724ce4c92a3",
   "metadata": {},
   "outputs": [],
   "source": [
    "vowels = (\"a\", \"e\", \"i\", \"o\", \"u\")"
   ]
  },
  {
   "cell_type": "code",
   "execution_count": null,
   "id": "603af99d-62cc-41f5-b7c9-1a5950219b3b",
   "metadata": {},
   "outputs": [],
   "source": [
    "vowels"
   ]
  },
  {
   "cell_type": "code",
   "execution_count": null,
   "id": "ef85b379-ec3a-4781-9907-76231bddf9c1",
   "metadata": {},
   "outputs": [],
   "source": [
    "for vowel in vowels:\n",
    "    print(vowel.upper())"
   ]
  },
  {
   "cell_type": "code",
   "execution_count": null,
   "id": "610c42ed-960e-46ff-9ffd-278fe01875f5",
   "metadata": {},
   "outputs": [],
   "source": [
    "stud1 = \"vikas\", 9.87, \"5th Sem\", 'A', \"CSE\""
   ]
  },
  {
   "cell_type": "code",
   "execution_count": null,
   "id": "be237bab-eb02-4454-837c-06e4b44a4988",
   "metadata": {},
   "outputs": [],
   "source": [
    "type(stud1)"
   ]
  },
  {
   "cell_type": "code",
   "execution_count": null,
   "id": "b025a013-6394-4e57-a0bd-5867f8e1b0cf",
   "metadata": {},
   "outputs": [],
   "source": [
    "name, cgpa, Sem, Div, branch = stud1"
   ]
  },
  {
   "cell_type": "code",
   "execution_count": null,
   "id": "d2798155-975c-4a5f-b414-29d65b2e58d6",
   "metadata": {},
   "outputs": [],
   "source": [
    "name"
   ]
  },
  {
   "cell_type": "code",
   "execution_count": null,
   "id": "076dcdb5-0f62-4941-9c9a-ac2f02046066",
   "metadata": {},
   "outputs": [],
   "source": [
    "cgpa"
   ]
  },
  {
   "cell_type": "code",
   "execution_count": null,
   "id": "0eb4cfc7-a86c-4245-af7c-606f02b3e247",
   "metadata": {},
   "outputs": [],
   "source": [
    "Sem"
   ]
  },
  {
   "cell_type": "code",
   "execution_count": null,
   "id": "5eba97c9-ab60-4705-b729-51da688e50a3",
   "metadata": {},
   "outputs": [],
   "source": [
    "vowels in x"
   ]
  },
  {
   "cell_type": "code",
   "execution_count": null,
   "id": "e3f2d8e3-0a2c-40b9-8734-05579a1ccc6b",
   "metadata": {},
   "outputs": [],
   "source": [
    "x in vowels"
   ]
  },
  {
   "cell_type": "code",
   "execution_count": null,
   "id": "5595b634-1739-4dfa-892a-b402bfcdfaa8",
   "metadata": {},
   "outputs": [],
   "source": [
    "a in vowels"
   ]
  },
  {
   "cell_type": "code",
   "execution_count": null,
   "id": "c92e4356-8cdf-4fcf-9b37-91f6a0b1e403",
   "metadata": {},
   "outputs": [],
   "source": [
    "vowels"
   ]
  },
  {
   "cell_type": "code",
   "execution_count": null,
   "id": "a6f063ff-b87d-40b5-ad4c-52eae0633867",
   "metadata": {},
   "outputs": [],
   "source": [
    "'a' in vowels"
   ]
  },
  {
   "cell_type": "code",
   "execution_count": null,
   "id": "34b0c26c-195b-4f93-94ad-43926f1dc234",
   "metadata": {},
   "outputs": [],
   "source": [
    "'x' in vowels"
   ]
  },
  {
   "cell_type": "code",
   "execution_count": null,
   "id": "1f334763-c802-4beb-8453-7c83bbfd2810",
   "metadata": {},
   "outputs": [],
   "source": [
    "cls"
   ]
  },
  {
   "cell_type": "code",
   "execution_count": null,
   "id": "95131bfb-fcc2-419b-a2e1-86b2a77af98b",
   "metadata": {},
   "outputs": [],
   "source": [
    "clg"
   ]
  },
  {
   "cell_type": "code",
   "execution_count": null,
   "id": "42c8f94d-5aaf-4e1a-81f1-f5625a712ffa",
   "metadata": {},
   "outputs": [],
   "source": [
    "'C' in clg"
   ]
  },
  {
   "cell_type": "markdown",
   "id": "d87e460e-35a7-4865-a610-24fbca8bbc8d",
   "metadata": {},
   "source": [
    "<h3>Returning multiple values from the function using Tuples</h3>"
   ]
  },
  {
   "cell_type": "code",
   "execution_count": null,
   "id": "d8cfc6d7-3ad9-41e9-8bec-7f1973f076f2",
   "metadata": {},
   "outputs": [],
   "source": [
    "def add_mult(n1, n2):\n",
    "    return (n1+n2, n1*n2)\n",
    "\n",
    "add_mult(2,5)"
   ]
  },
  {
   "cell_type": "code",
   "execution_count": 1,
   "id": "565fb026-2e39-41d0-abbe-2dc387175423",
   "metadata": {},
   "outputs": [
    {
     "data": {
      "text/plain": [
       "(16, 4.0)"
      ]
     },
     "execution_count": 1,
     "metadata": {},
     "output_type": "execute_result"
    }
   ],
   "source": [
    "def mult_div(x, y):\n",
    "    return (x * y, x/y)\n",
    "\n",
    "mult_div(8,2)"
   ]
  },
  {
   "cell_type": "code",
   "execution_count": null,
   "id": "02176506-bb53-4e15-8a5a-646a6ce1d6bf",
   "metadata": {},
   "outputs": [],
   "source": []
  }
 ],
 "metadata": {
  "kernelspec": {
   "display_name": "Python 3 (ipykernel)",
   "language": "python",
   "name": "python3"
  },
  "language_info": {
   "codemirror_mode": {
    "name": "ipython",
    "version": 3
   },
   "file_extension": ".py",
   "mimetype": "text/x-python",
   "name": "python",
   "nbconvert_exporter": "python",
   "pygments_lexer": "ipython3",
   "version": "3.8.4"
  }
 },
 "nbformat": 4,
 "nbformat_minor": 5
}
