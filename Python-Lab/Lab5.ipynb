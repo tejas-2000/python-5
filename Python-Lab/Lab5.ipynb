{
 "cells": [
  {
   "cell_type": "markdown",
   "id": "4353636d-67c5-4130-b9bc-b6f4fe67b723",
   "metadata": {},
   "source": [
    "<h1>For loop</h1>"
   ]
  },
  {
   "cell_type": "code",
   "execution_count": 1,
   "id": "a697c2d4-7830-4f28-b09c-9c557afe3c1e",
   "metadata": {},
   "outputs": [
    {
     "name": "stdout",
     "output_type": "stream",
     "text": [
      "1\n",
      "2\n",
      "3\n",
      "4\n",
      "5\n",
      "6\n",
      "7\n",
      "8\n",
      "9\n",
      "10\n"
     ]
    }
   ],
   "source": [
    "for i in range(1,11):\n",
    "    print(i)"
   ]
  },
  {
   "cell_type": "code",
   "execution_count": 2,
   "id": "6a88e9e0-90e5-4616-a214-f5527e680ba1",
   "metadata": {},
   "outputs": [
    {
     "name": "stdout",
     "output_type": "stream",
     "text": [
      "1\n",
      "3\n",
      "5\n",
      "7\n",
      "9\n"
     ]
    }
   ],
   "source": [
    "for i in range(1,11,2):\n",
    "    print(i)"
   ]
  },
  {
   "cell_type": "code",
   "execution_count": 5,
   "id": "dac9dfde-c9e6-4de3-b5c2-8621f1490870",
   "metadata": {},
   "outputs": [
    {
     "name": "stdout",
     "output_type": "stream",
     "text": [
      "11\n",
      "10\n",
      "9\n",
      "8\n",
      "7\n",
      "6\n",
      "5\n",
      "4\n",
      "3\n",
      "2\n"
     ]
    }
   ],
   "source": [
    "for i in range(11,1,-1):\n",
    "    print(i)        "
   ]
  },
  {
   "cell_type": "code",
   "execution_count": 8,
   "id": "96a67abe-ca1b-413e-8828-b47482fca89c",
   "metadata": {},
   "outputs": [
    {
     "name": "stdout",
     "output_type": "stream",
     "text": [
      "11 and 16\n",
      "11 and 17\n",
      "11 and 18\n",
      "11 and 19\n",
      "11 and 20\n",
      "12 and 16\n",
      "12 and 17\n",
      "12 and 18\n",
      "12 and 19\n",
      "12 and 20\n",
      "13 and 16\n",
      "13 and 17\n",
      "13 and 18\n",
      "13 and 19\n",
      "13 and 20\n",
      "14 and 16\n",
      "14 and 17\n",
      "14 and 18\n",
      "14 and 19\n",
      "14 and 20\n",
      "15 and 16\n",
      "15 and 17\n",
      "15 and 18\n",
      "15 and 19\n",
      "15 and 20\n"
     ]
    }
   ],
   "source": [
    "for n in range(11,16):\n",
    "    for m in range(16,21):\n",
    "        print(f'{n} and {m}')\n",
    "    "
   ]
  },
  {
   "cell_type": "code",
   "execution_count": 9,
   "id": "8c6d253f-f798-4b5b-80dd-26ffae0d2ec6",
   "metadata": {},
   "outputs": [
    {
     "name": "stdout",
     "output_type": "stream",
     "text": [
      "A-GRADE\n"
     ]
    }
   ],
   "source": [
    "marks=20\n",
    "if marks>=20:\n",
    "    print(\"A-GRADE\")\n",
    "else:\n",
    "    print(\"B-GRADE\")"
   ]
  },
  {
   "cell_type": "markdown",
   "id": "f64fc7bb-f082-4249-a6d9-fb3badb1b483",
   "metadata": {},
   "source": [
    "<H2>TERNARY OPERATOR</H2>"
   ]
  },
  {
   "cell_type": "code",
   "execution_count": 11,
   "id": "c7c59898-135e-443f-b141-2a42c7c00827",
   "metadata": {},
   "outputs": [
    {
     "name": "stdout",
     "output_type": "stream",
     "text": [
      "eleigible\n"
     ]
    }
   ],
   "source": [
    "AGE=18\n",
    "print(\"eleigible\") if AGE >=18 else print(\"not eligible\")"
   ]
  },
  {
   "cell_type": "code",
   "execution_count": 12,
   "id": "458bb7ba-f464-4729-9064-4d68d34b89bf",
   "metadata": {},
   "outputs": [
    {
     "name": "stdout",
     "output_type": "stream",
     "text": [
      "Y\n",
      "O\n",
      "G\n",
      "E\n",
      "S\n",
      "H\n"
     ]
    }
   ],
   "source": [
    "name='YOGESH'\n",
    "for i in range(0,len(name)):\n",
    "    print(name[i])"
   ]
  },
  {
   "cell_type": "code",
   "execution_count": 15,
   "id": "3536d7de-c661-4c8e-90bc-e5bba85af2fa",
   "metadata": {},
   "outputs": [
    {
     "name": "stdout",
     "output_type": "stream",
     "text": [
      "11\n",
      "10\n",
      "9\n",
      "8\n",
      "7\n",
      "6\n",
      "5\n",
      "4\n",
      "3\n",
      "2\n"
     ]
    }
   ],
   "source": [
    "n=11\n",
    "for i in range(n,1,-1):\n",
    "    print(i)"
   ]
  },
  {
   "cell_type": "code",
   "execution_count": 14,
   "id": "51a34406-380a-4aaf-99f0-bad7d29d9bd8",
   "metadata": {},
   "outputs": [
    {
     "name": "stdout",
     "output_type": "stream",
     "text": [
      "55\n"
     ]
    }
   ],
   "source": [
    "n=10\n",
    "summ=0\n",
    "for i in range(n+1):\n",
    "    summ=summ+i\n",
    "print(summ)    "
   ]
  },
  {
   "cell_type": "code",
   "execution_count": 17,
   "id": "ed6ddd26-f97f-4c2c-be71-2435f1206eed",
   "metadata": {},
   "outputs": [
    {
     "name": "stdout",
     "output_type": "stream",
     "text": [
      "NUmber of even numbers 5\n"
     ]
    }
   ],
   "source": [
    "even=0\n",
    "for i in range(10):\n",
    "    if i%2==0:\n",
    "        even=even+1\n",
    "print(\"NUmber of even numbers\",even)       "
   ]
  },
  {
   "cell_type": "code",
   "execution_count": 19,
   "id": "d258a2b4-791b-4ef0-b159-cae069dbc8a7",
   "metadata": {},
   "outputs": [
    {
     "name": "stdout",
     "output_type": "stream",
     "text": [
      "55\n"
     ]
    }
   ],
   "source": [
    "n=10\n",
    "def sumn(n):\n",
    "    if n<=0:\n",
    "        return 0;\n",
    "    return n+sumn(n-1) \n",
    "nn=sumn(n)\n",
    "print(nn)"
   ]
  },
  {
   "cell_type": "markdown",
   "id": "041ab2ef-6634-46cd-9fe3-ec9e9823031e",
   "metadata": {},
   "source": [
    "n=int(input(\"Enter first number\"))\n",
    "m=int(input(\"Enter Second number\"))\n",
    "print (m,\" is min number\") if n>m else print(n,\" is min number\")\n",
    "x=min(n,m)\n",
    "print(\"min number is\", x)"
   ]
  },
  {
   "cell_type": "markdown",
   "id": "ac42ccce-ad0a-43b1-aa00-7bab4c9d4f20",
   "metadata": {},
   "source": [
    "<h1>OPERATORS</h1>"
   ]
  },
  {
   "cell_type": "code",
   "execution_count": 27,
   "id": "801447ee-e9ee-4c04-90a0-eaabd2db1c7c",
   "metadata": {},
   "outputs": [
    {
     "name": "stdout",
     "output_type": "stream",
     "text": [
      "a>b:False\n"
     ]
    }
   ],
   "source": [
    "a,b=10,20\n",
    "print(f\"a>b:{a>b}\")"
   ]
  },
  {
   "cell_type": "code",
   "execution_count": 26,
   "id": "65977898-2c7c-41f0-8a0d-423e9b4581c3",
   "metadata": {},
   "outputs": [
    {
     "name": "stdout",
     "output_type": "stream",
     "text": [
      "a>b:True\n"
     ]
    }
   ],
   "source": [
    "a,b=10,2\n",
    "print(f\"a>b:{a>b}\")"
   ]
  },
  {
   "cell_type": "code",
   "execution_count": 38,
   "id": "e9c63be3-e560-4e56-8ee7-9bf37c18957e",
   "metadata": {},
   "outputs": [
    {
     "name": "stdin",
     "output_type": "stream",
     "text": [
      "Enter NUmber of sudents 2\n"
     ]
    },
    {
     "name": "stdout",
     "output_type": "stream",
     "text": [
      "enter details of student 1\n"
     ]
    },
    {
     "name": "stdin",
     "output_type": "stream",
     "text": [
      "Enter student name YOGESH\n",
      "enter student usn 2SD22CS131\n"
     ]
    },
    {
     "name": "stdout",
     "output_type": "stream",
     "text": [
      "enter details of student 2\n"
     ]
    },
    {
     "name": "stdin",
     "output_type": "stream",
     "text": [
      "Enter student name DARSHAN\n",
      "enter student usn 2SDCS23403\n"
     ]
    },
    {
     "name": "stdout",
     "output_type": "stream",
     "text": [
      "______________________________\n",
      "si_no\t Name\t   USN\n",
      "______________________________\n",
      "1  YOGESH   2SD22CS131\n",
      "2  DARSHAN   2SDCS23403\n"
     ]
    }
   ],
   "source": [
    "n=int(input(\"Enter NUmber of sudents\"))\n",
    "snames=[]\n",
    "susns=[]\n",
    "name=\"\"\n",
    "usn=\"\"\n",
    "for i in range(1,n+1):\n",
    "    print(f\"enter details of student {i}\")\n",
    "    name=input(\"Enter student name\")\n",
    "    usn=input(\"enter student usn\")\n",
    "    snames.append(name)\n",
    "    susns.append(usn)\n",
    "print(30 *\"_\")\n",
    "print(\"si_no\\t Name\\t   USN\")\n",
    "print(30 *\"_\")\n",
    "\n",
    "for i in range (1,n+1):\n",
    "    print(f\"{i}  {snames[i-1]}   {susns[i-1]}\")\n",
    "\n",
    "    \n",
    "\n",
    "\n",
    "      "
   ]
  },
  {
   "cell_type": "code",
   "execution_count": null,
   "id": "75873de1-d6fe-4321-adcd-fa0818c692e2",
   "metadata": {},
   "outputs": [],
   "source": []
  }
 ],
 "metadata": {
  "kernelspec": {
   "display_name": "Python 3 (ipykernel)",
   "language": "python",
   "name": "python3"
  },
  "language_info": {
   "codemirror_mode": {
    "name": "ipython",
    "version": 3
   },
   "file_extension": ".py",
   "mimetype": "text/x-python",
   "name": "python",
   "nbconvert_exporter": "python",
   "pygments_lexer": "ipython3",
   "version": "3.10.10"
  }
 },
 "nbformat": 4,
 "nbformat_minor": 5
}
