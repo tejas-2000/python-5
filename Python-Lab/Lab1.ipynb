{
 "cells": [
  {
   "cell_type": "markdown",
   "id": "772b31fe-c727-427e-818a-907a41fbf4f0",
   "metadata": {},
   "source": [
    "<h2>Hello</h2>"
   ]
  },
  {
   "cell_type": "code",
   "execution_count": 6,
   "id": "aaa28214-5a5f-4a32-93af-ca552dd2ee8f",
   "metadata": {},
   "outputs": [
    {
     "name": "stdout",
     "output_type": "stream",
     "text": [
      "5\n",
      "length of: Hello  is: 5\n"
     ]
    }
   ],
   "source": [
    "print(len('hello'))\n",
    "a='Hello'\n",
    "print('length of:',a,' is:',len(a))"
   ]
  },
  {
   "cell_type": "code",
   "execution_count": 8,
   "id": "aa6f846d-f0b8-4d14-9f46-3963d7a4efcf",
   "metadata": {},
   "outputs": [
    {
     "name": "stdout",
     "output_type": "stream",
     "text": [
      "hello worldYogesh \n"
     ]
    }
   ],
   "source": [
    "print('hello world\\\n",
    "Yogesh ')"
   ]
  },
  {
   "cell_type": "code",
   "execution_count": 10,
   "id": "d7767c12-a7fe-4b9f-bd39-d23bc71c00d3",
   "metadata": {},
   "outputs": [
    {
     "name": "stdout",
     "output_type": "stream",
     "text": [
      "\n",
      "Name:Yogesh\n",
      "Branch:CSE\n",
      "USN:2SD22CS131\n",
      "\n"
     ]
    }
   ],
   "source": [
    "print('''\n",
    "Name:Yogesh\n",
    "Branch:CSE\n",
    "USN:2SD22CS131\n",
    "''')"
   ]
  },
  {
   "cell_type": "code",
   "execution_count": 11,
   "id": "d9490aad-c8ba-4bd8-b77f-c9bd2ce37aa2",
   "metadata": {},
   "outputs": [
    {
     "name": "stdout",
     "output_type": "stream",
     "text": [
      "16\n"
     ]
    }
   ],
   "source": [
    "print(0X10)"
   ]
  },
  {
   "cell_type": "code",
   "execution_count": 17,
   "id": "fda96d21-ea7c-40ac-bb4b-41ac917f2437",
   "metadata": {},
   "outputs": [
    {
     "name": "stdout",
     "output_type": "stream",
     "text": [
      "SDMCET DHARWAD\n"
     ]
    }
   ],
   "source": [
    "str1='SDMCET'\n",
    "str2='DHARWAD'\n",
    "print(str1+\" \"\n",
    "      +str2)"
   ]
  },
  {
   "cell_type": "code",
   "execution_count": 22,
   "id": "8335f39f-f87b-4fa8-b2e7-bd3dc5afdd9e",
   "metadata": {},
   "outputs": [
    {
     "name": "stdout",
     "output_type": "stream",
     "text": [
      "w\n"
     ]
    }
   ],
   "source": [
    "s='helloejijijiw'\n",
    "print(s[-1])"
   ]
  },
  {
   "cell_type": "code",
   "execution_count": 23,
   "id": "25002439-542e-47a4-bfe2-5013a59d1e83",
   "metadata": {},
   "outputs": [
    {
     "name": "stdout",
     "output_type": "stream",
     "text": [
      "SDMCET\n"
     ]
    }
   ],
   "source": [
    "print(str1)"
   ]
  },
  {
   "cell_type": "code",
   "execution_count": 28,
   "id": "9c96f98e-d0a0-47fc-8f4f-e641418fc756",
   "metadata": {},
   "outputs": [
    {
     "data": {
      "text/plain": [
       "''"
      ]
     },
     "execution_count": 28,
     "metadata": {},
     "output_type": "execute_result"
    }
   ],
   "source": [
    "str1[-1:-4]"
   ]
  },
  {
   "cell_type": "code",
   "execution_count": 31,
   "id": "9b8afa5f-a65a-4c9d-9d8d-d68b6e2228c4",
   "metadata": {},
   "outputs": [
    {
     "data": {
      "text/plain": [
       "'MCE'"
      ]
     },
     "execution_count": 31,
     "metadata": {},
     "output_type": "execute_result"
    }
   ],
   "source": [
    "str1[2:5]"
   ]
  },
  {
   "cell_type": "code",
   "execution_count": 32,
   "id": "cee367af-c48a-429f-af2a-879ca965be5a",
   "metadata": {},
   "outputs": [
    {
     "data": {
      "text/plain": [
       "'SDM'"
      ]
     },
     "execution_count": 32,
     "metadata": {},
     "output_type": "execute_result"
    }
   ],
   "source": [
    "str1[:3]"
   ]
  },
  {
   "cell_type": "code",
   "execution_count": 33,
   "id": "0ae01962-a224-488a-9f38-1e31cbcd184e",
   "metadata": {},
   "outputs": [
    {
     "data": {
      "text/plain": [
       "'DMCET'"
      ]
     },
     "execution_count": 33,
     "metadata": {},
     "output_type": "execute_result"
    }
   ],
   "source": [
    "str1[1:]"
   ]
  },
  {
   "cell_type": "code",
   "execution_count": 35,
   "id": "34d747a0-d375-423d-81f4-a534d0fae86f",
   "metadata": {},
   "outputs": [
    {
     "data": {
      "text/plain": [
       "'SDMCET'"
      ]
     },
     "execution_count": 35,
     "metadata": {},
     "output_type": "execute_result"
    }
   ],
   "source": [
    "str1[:]"
   ]
  },
  {
   "cell_type": "code",
   "execution_count": 37,
   "id": "8fe458d3-9329-4f36-87f8-5f6bc2077418",
   "metadata": {},
   "outputs": [
    {
     "data": {
      "text/plain": [
       "''"
      ]
     },
     "execution_count": 37,
     "metadata": {},
     "output_type": "execute_result"
    }
   ],
   "source": [
    "s[-3:-5]"
   ]
  },
  {
   "cell_type": "code",
   "execution_count": 38,
   "id": "a96e971b-d678-4af0-9cf8-d5301ec7d896",
   "metadata": {},
   "outputs": [
    {
     "data": {
      "text/plain": [
       "'INEM'"
      ]
     },
     "execution_count": 38,
     "metadata": {},
     "output_type": "execute_result"
    }
   ],
   "source": [
    "a='JIOCINEMA'\n",
    "a[-5:-1]"
   ]
  },
  {
   "cell_type": "code",
   "execution_count": 39,
   "id": "d3d7309a-bb91-4a27-9b8f-0bb0620c6bf9",
   "metadata": {},
   "outputs": [
    {
     "data": {
      "text/plain": [
       "'w'"
      ]
     },
     "execution_count": 39,
     "metadata": {},
     "output_type": "execute_result"
    }
   ],
   "source": [
    "s[-1:]"
   ]
  },
  {
   "cell_type": "code",
   "execution_count": 40,
   "id": "3ac6b379-0829-4b3a-98bc-6b749c8249d2",
   "metadata": {},
   "outputs": [
    {
     "data": {
      "text/plain": [
       "'iw'"
      ]
     },
     "execution_count": 40,
     "metadata": {},
     "output_type": "execute_result"
    }
   ],
   "source": [
    "s[-2:]"
   ]
  },
  {
   "cell_type": "code",
   "execution_count": 41,
   "id": "344fced3-984a-4640-b6e5-5b2e461644f8",
   "metadata": {},
   "outputs": [
    {
     "data": {
      "text/plain": [
       "'helloejijiji'"
      ]
     },
     "execution_count": 41,
     "metadata": {},
     "output_type": "execute_result"
    }
   ],
   "source": [
    "s[:-1]"
   ]
  },
  {
   "cell_type": "code",
   "execution_count": 42,
   "id": "50f9f0f9-4eb2-4637-b3ff-3d787c9e5eb0",
   "metadata": {},
   "outputs": [
    {
     "data": {
      "text/plain": [
       "'wijijijeolleh'"
      ]
     },
     "execution_count": 42,
     "metadata": {},
     "output_type": "execute_result"
    }
   ],
   "source": [
    "s[::-1]"
   ]
  },
  {
   "cell_type": "markdown",
   "id": "18b6b285-bff6-446a-b97a-448416087894",
   "metadata": {},
   "source": [
    "<h2>INPUT READING</h2>"
   ]
  },
  {
   "cell_type": "code",
   "execution_count": 48,
   "id": "39ea183f-8b7c-4c9a-9d66-7b85f16b3a0b",
   "metadata": {},
   "outputs": [
    {
     "name": "stdin",
     "output_type": "stream",
     "text": [
      "Enter A value: 5\n",
      "Enter B value: 6\n"
     ]
    },
    {
     "name": "stdout",
     "output_type": "stream",
     "text": [
      "Addition of A AND B: 11\n"
     ]
    }
   ],
   "source": [
    "A=int(input('Enter A value:'))\n",
    "B=int(input('Enter B value:'))\n",
    "C=A+B\n",
    "print('Addition of A AND B:',C)"
   ]
  },
  {
   "cell_type": "code",
   "execution_count": 50,
   "id": "0ed90461-0902-4490-926d-03011c4a14c3",
   "metadata": {},
   "outputs": [
    {
     "name": "stdin",
     "output_type": "stream",
     "text": [
      "Enter A value: 8.5\n",
      "Enter B value: 9.5\n"
     ]
    },
    {
     "name": "stdout",
     "output_type": "stream",
     "text": [
      "Addition of A AND B: 18.0\n"
     ]
    }
   ],
   "source": [
    "A=float(input('Enter A value:'))\n",
    "B=float(input('Enter B value:'))\n",
    "C=A+B\n",
    "print('Addition of A AND B:',C)"
   ]
  },
  {
   "cell_type": "code",
   "execution_count": 53,
   "id": "dc77681f-d412-477b-a23d-e37b603b9eb7",
   "metadata": {},
   "outputs": [
    {
     "name": "stdout",
     "output_type": "stream",
     "text": [
      "addition is:30\n"
     ]
    }
   ],
   "source": [
    "print(f\"addition is:{10+20}\")"
   ]
  },
  {
   "cell_type": "code",
   "execution_count": null,
   "id": "511e8f02-293e-48c4-a163-83e014a80e62",
   "metadata": {},
   "outputs": [],
   "source": []
  }
 ],
 "metadata": {
  "kernelspec": {
   "display_name": "Python 3 (ipykernel)",
   "language": "python",
   "name": "python3"
  },
  "language_info": {
   "codemirror_mode": {
    "name": "ipython",
    "version": 3
   },
   "file_extension": ".py",
   "mimetype": "text/x-python",
   "name": "python",
   "nbconvert_exporter": "python",
   "pygments_lexer": "ipython3",
   "version": "3.10.10"
  }
 },
 "nbformat": 4,
 "nbformat_minor": 5
}
