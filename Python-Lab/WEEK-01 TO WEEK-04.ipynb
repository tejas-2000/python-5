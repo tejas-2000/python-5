{
 "cells": [
  {
   "cell_type": "markdown",
   "id": "ea06922e-1ccb-4eee-846d-62caadefed79",
   "metadata": {},
   "source": [
    "<h1>WEEK-01</h1>"
   ]
  },
  {
   "cell_type": "markdown",
   "id": "24852d77-418d-4e2d-870a-b407209f4b4a",
   "metadata": {},
   "source": [
    "<h3>Q1</h3>"
   ]
  },
  {
   "cell_type": "code",
   "execution_count": 2,
   "id": "9073b231-a7cf-491f-888c-e11405fe8ca4",
   "metadata": {},
   "outputs": [
    {
     "name": "stdout",
     "output_type": "stream",
     "text": [
      "MSD\n",
      "2SD22CS131\n"
     ]
    }
   ],
   "source": [
    "print(\"MSD\")\n",
    "print(\"2SD22CS131\")"
   ]
  },
  {
   "cell_type": "markdown",
   "id": "dccaeae7-ea54-47e8-bc20-1bbbca2a1a9d",
   "metadata": {},
   "source": [
    "<h3>Q2</h3>"
   ]
  },
  {
   "cell_type": "code",
   "execution_count": 3,
   "id": "9fc01744-51cb-4c03-9e8d-fdf58d5d3b01",
   "metadata": {},
   "outputs": [
    {
     "name": "stdout",
     "output_type": "stream",
     "text": [
      "D BOSS\n"
     ]
    }
   ],
   "source": [
    "boss=\"D BOSS\"\n",
    "print(boss)"
   ]
  },
  {
   "cell_type": "markdown",
   "id": "5dc6ff89-d20e-40e9-a863-4b696f1b8666",
   "metadata": {},
   "source": [
    "<h3>Q3</h3>"
   ]
  },
  {
   "cell_type": "code",
   "execution_count": 4,
   "id": "8ba8b104-2df3-4956-82da-bccf39688b7c",
   "metadata": {},
   "outputs": [
    {
     "name": "stdout",
     "output_type": "stream",
     "text": [
      "YENRI MEDIA\n"
     ]
    }
   ],
   "source": [
    "text=\"YENRI MEDIA\"\n",
    "print(text)"
   ]
  },
  {
   "cell_type": "markdown",
   "id": "f9cc4db2-2795-4847-88e3-3d1659227522",
   "metadata": {},
   "source": [
    "<h3>Q4</h3>"
   ]
  },
  {
   "cell_type": "code",
   "execution_count": 6,
   "id": "7c13f4fa-1015-4332-9c3e-a3a3e4473bc4",
   "metadata": {},
   "outputs": [
    {
     "name": "stdin",
     "output_type": "stream",
     "text": [
      "Enter your name DARSHAN\n"
     ]
    },
    {
     "name": "stdout",
     "output_type": "stream",
     "text": [
      "Direct input: DARSHAN\n"
     ]
    },
    {
     "name": "stdin",
     "output_type": "stream",
     "text": [
      "Enter your age 07\n"
     ]
    },
    {
     "name": "stdout",
     "output_type": "stream",
     "text": [
      "07\n"
     ]
    }
   ],
   "source": [
    "#i and ii\n",
    "di=input(\"Enter your name\")\n",
    "print(\"Direct input:\",di)\n",
    "#iii\n",
    "print(input('Enter your age'))\n"
   ]
  },
  {
   "cell_type": "markdown",
   "id": "4b172979-bf50-4b27-a28b-1ae271950e11",
   "metadata": {},
   "source": [
    "<h3>Q5</h3>"
   ]
  },
  {
   "cell_type": "code",
   "execution_count": 9,
   "id": "812d3db2-5a2d-428a-9b9d-d3ce92746344",
   "metadata": {},
   "outputs": [
    {
     "name": "stdout",
     "output_type": "stream",
     "text": [
      "<class 'int'>\n",
      "<class 'str'>\n",
      "<class 'float'>\n",
      "<class 'float'>\n",
      "<class 'str'>\n",
      "<class 'bool'>\n"
     ]
    }
   ],
   "source": [
    "i=10\n",
    "print(type(i))\n",
    "ii='Hello'\n",
    "print(type(ii))\n",
    "iii=2.3\n",
    "print(type(iii))\n",
    "iv=54.23 #no double class in python\n",
    "print(type(iv))\n",
    "v='Y'\n",
    "print(type(v))\n",
    "vi=True\n",
    "print(type(vi))\n"
   ]
  },
  {
   "cell_type": "markdown",
   "id": "6ff452f3-7521-4ad5-95de-1e52346a8e36",
   "metadata": {},
   "source": [
    "<h3>Q6</h3>"
   ]
  },
  {
   "cell_type": "code",
   "execution_count": 11,
   "id": "656969a0-f691-40de-a335-f1cef1129af7",
   "metadata": {},
   "outputs": [
    {
     "name": "stdout",
     "output_type": "stream",
     "text": [
      "7\n",
      "7\n"
     ]
    }
   ],
   "source": [
    "print(len('MSDHONI'))\n",
    "d='Darshan'\n",
    "print(len(d))"
   ]
  },
  {
   "cell_type": "markdown",
   "id": "8495448d-dae5-4c0a-af0a-ad70906d7464",
   "metadata": {},
   "source": [
    "<h3>Q7</h3>"
   ]
  },
  {
   "cell_type": "code",
   "execution_count": 13,
   "id": "c2731984-1406-4092-8cca-72ffef69709e",
   "metadata": {},
   "outputs": [
    {
     "name": "stdout",
     "output_type": "stream",
     "text": [
      "\n",
      "India lift \n",
      "        the world cup\n",
      "                    after 28 yeras\n"
     ]
    }
   ],
   "source": [
    "print('''\n",
    "India lift \n",
    "        the world cup\n",
    "                    after 28 yeras''')"
   ]
  },
  {
   "cell_type": "markdown",
   "id": "324089b4-3d44-48b2-a228-938a7fa850a2",
   "metadata": {},
   "source": [
    "<h3>Q8</h3>"
   ]
  },
  {
   "cell_type": "code",
   "execution_count": 18,
   "id": "6baaf952-3000-443a-8fdb-5fa9e40d3da4",
   "metadata": {},
   "outputs": [
    {
     "name": "stdout",
     "output_type": "stream",
     "text": [
      "ms dhoni\n",
      "abcdef\n"
     ]
    }
   ],
   "source": [
    "print('ms'+' dhoni')\n",
    "x='abc'\n",
    "y='def'\n",
    "print(x+y)"
   ]
  },
  {
   "cell_type": "code",
   "execution_count": null,
   "id": "9f238a6a-be78-45c3-a15d-1c2ecbd734fb",
   "metadata": {},
   "outputs": [],
   "source": []
  },
  {
   "cell_type": "markdown",
   "id": "582596a8-67ae-4a29-bf1a-de8210287cf5",
   "metadata": {},
   "source": [
    "<H3>Q9</H3>"
   ]
  },
  {
   "cell_type": "code",
   "execution_count": 22,
   "id": "a14ce55c-3ba1-45ae-8327-823470fb1e0e",
   "metadata": {},
   "outputs": [
    {
     "name": "stdin",
     "output_type": "stream",
     "text": [
      "Enter student name YOGESH\n"
     ]
    },
    {
     "name": "stdout",
     "output_type": "stream",
     "text": [
      "YOGESH\n"
     ]
    }
   ],
   "source": [
    "sname=input('Enter student name')\n",
    "print(sname)"
   ]
  },
  {
   "cell_type": "markdown",
   "id": "ac0d4bfe-c1b2-4617-b10d-641af0ada22b",
   "metadata": {},
   "source": [
    "<H3>Q10</H3>"
   ]
  },
  {
   "cell_type": "code",
   "execution_count": 24,
   "id": "d8261f08-f4dd-4613-9c02-f8ad24b4a92f",
   "metadata": {},
   "outputs": [
    {
     "name": "stdin",
     "output_type": "stream",
     "text": [
      "Enter number 1 10\n",
      "Enter number 2 5\n"
     ]
    },
    {
     "name": "stdout",
     "output_type": "stream",
     "text": [
      "addition of  10 + 5 is: 15\n",
      "Subtraction of  10 - 5 is: 5\n",
      "Division of  10 / 5 is: 2.0\n",
      "Multiplication of  10 * 5 is: 50\n"
     ]
    }
   ],
   "source": [
    "n1=int(input('Enter number 1'))\n",
    "n2=int(input('Enter number 2'))\n",
    "print('addition of ',n1,'+',n2,'is:',n1+n2)\n",
    "print('Subtraction of ',n1,'-',n2,'is:',n1-n2)\n",
    "print('Division of ',n1,'/',n2,'is:',n1/n2)\n",
    "print('Multiplication of ',n1,'*',n2,'is:',n1*n2)"
   ]
  },
  {
   "cell_type": "markdown",
   "id": "83e41bff-c7cb-4e51-a264-353c6cc62b00",
   "metadata": {},
   "source": [
    "<H3>Q11</H3>"
   ]
  },
  {
   "cell_type": "code",
   "execution_count": 27,
   "id": "502119c9-95d9-4226-9fa0-b47b8336b0bd",
   "metadata": {},
   "outputs": [
    {
     "name": "stdout",
     "output_type": "stream",
     "text": [
      "Character at index 4: O\n",
      "String index out of range\n",
      "Character at index -1: I\n"
     ]
    }
   ],
   "source": [
    "text='MSDHONI'\n",
    "print('Character at index 4:',text[4])\n",
    "try:\n",
    "    print('character at index 20:',text[20])\n",
    "except IndexError:\n",
    "    print('String index out of range')\n",
    "print('Character at index -1:',text[-1])    "
   ]
  },
  {
   "cell_type": "markdown",
   "id": "13f10166-2479-479c-927e-fef0b9f4ee91",
   "metadata": {},
   "source": [
    "<h3>Q12</h3>"
   ]
  },
  {
   "cell_type": "code",
   "execution_count": 34,
   "id": "556abd82-c75c-406c-a918-1ed3708e3355",
   "metadata": {},
   "outputs": [
    {
     "name": "stdout",
     "output_type": "stream",
     "text": [
      "llo,Wo\n",
      "Hello\n",
      "W\n",
      "Hello,World\n",
      "lo,\n",
      "Hello,\n",
      "World\n"
     ]
    }
   ],
   "source": [
    "t='Hello,World'\n",
    "print(t[2:8])\n",
    "print(t[:5])\n",
    "print(t[-5])\n",
    "print(t[:])\n",
    "print(t[-8:-5])\n",
    "print(t[:-5])\n",
    "print(t[-5:])"
   ]
  },
  {
   "cell_type": "markdown",
   "id": "235896ca-9dea-4692-9d2d-fcb6cf0bd2d7",
   "metadata": {},
   "source": [
    "<h3>Q13</h3>"
   ]
  },
  {
   "cell_type": "code",
   "execution_count": 47,
   "id": "d63fcbf6-ddba-4fb9-8b54-4fc1d916b167",
   "metadata": {},
   "outputs": [
    {
     "name": "stdout",
     "output_type": "stream",
     "text": [
      "D boss\n"
     ]
    }
   ],
   "source": [
    "B='D'\n",
    "print(B.upper(),'BOSS'.lower())"
   ]
  },
  {
   "cell_type": "markdown",
   "id": "8626b4a9-f0ed-43e3-a527-ad78e3e02dc6",
   "metadata": {},
   "source": [
    "<h3>Q14</h3>"
   ]
  },
  {
   "cell_type": "code",
   "execution_count": 44,
   "id": "c4d2f251-0254-4097-86df-96c824ed613e",
   "metadata": {},
   "outputs": [
    {
     "name": "stdout",
     "output_type": "stream",
     "text": [
      "WHAT YOU PEOPLE ARE DOING      \n",
      "     WHAT YOU PEOPLE ARE DOING\n",
      "WHAT YOU PEOPLE ARE DOING\n"
     ]
    }
   ],
   "source": [
    "s='     WHAT YOU PEOPLE ARE DOING      '\n",
    "print(s.lstrip())\n",
    "print(s.rstrip())\n",
    "print(s.strip())"
   ]
  },
  {
   "cell_type": "markdown",
   "id": "5b0e5a8f-bf58-48af-a66d-4ad6725a5497",
   "metadata": {},
   "source": [
    "<h3>Q15</h3>"
   ]
  },
  {
   "cell_type": "code",
   "execution_count": 46,
   "id": "fe58634e-d6f8-4632-9aee-a7a8756901fa",
   "metadata": {},
   "outputs": [
    {
     "name": "stdout",
     "output_type": "stream",
     "text": [
      "Starting index: 0  Ending index: 4\n"
     ]
    }
   ],
   "source": [
    "text='DBOSS'\n",
    "print('Starting index:',len(text)-len(text),' Ending index:',len(text)-1)"
   ]
  },
  {
   "cell_type": "markdown",
   "id": "9dc9ca46-5015-413e-9897-1b784d778432",
   "metadata": {},
   "source": [
    "<h1>WEEK-02</h1>"
   ]
  },
  {
   "cell_type": "markdown",
   "id": "d105addb-998d-4444-ad91-9e3aa78487f2",
   "metadata": {},
   "source": [
    "<h3>Q1</h3>\n"
   ]
  },
  {
   "cell_type": "code",
   "execution_count": 50,
   "id": "3cb5a530-8fe4-4c81-a3ca-b163c98bb529",
   "metadata": {},
   "outputs": [
    {
     "name": "stdout",
     "output_type": "stream",
     "text": [
      "10\n",
      "10.0\n",
      "10.7\n",
      "10\n"
     ]
    }
   ],
   "source": [
    "num_int=10\n",
    "print(num_int)\n",
    "print(float(num_int))\n",
    "\n",
    "num_float=10.7\n",
    "print(num_float)\n",
    "print(int(num_float))"
   ]
  },
  {
   "cell_type": "markdown",
   "id": "164c57bd-b89a-4c25-a48d-5f8f81016f6d",
   "metadata": {},
   "source": [
    "<h3>Q2</h3>"
   ]
  },
  {
   "cell_type": "code",
   "execution_count": 51,
   "id": "102c7d3d-3b64-4812-96ac-4e3d1e64d735",
   "metadata": {},
   "outputs": [
    {
     "name": "stdin",
     "output_type": "stream",
     "text": [
      "Enter name MSD\n",
      "Enter an integer 7\n"
     ]
    },
    {
     "name": "stdout",
     "output_type": "stream",
     "text": [
      "MSDMSDMSDMSDMSDMSDMSD\n"
     ]
    }
   ],
   "source": [
    "userstring=input('Enter name')\n",
    "N=int(input('Enter an integer'))\n",
    "print(userstring*N)"
   ]
  },
  {
   "cell_type": "markdown",
   "id": "7a0a511b-6679-4e13-ab84-f128cb5f729e",
   "metadata": {},
   "source": [
    "<h3>Q3</h3>"
   ]
  },
  {
   "cell_type": "code",
   "execution_count": 52,
   "id": "f29c0826-7ec1-4209-95d6-1a971d8ed43d",
   "metadata": {
    "scrolled": true
   },
   "outputs": [
    {
     "ename": "TypeError",
     "evalue": "can't multiply sequence by non-int of type 'str'",
     "output_type": "error",
     "traceback": [
      "\u001b[1;31m---------------------------------------------------------------------------\u001b[0m",
      "\u001b[1;31mTypeError\u001b[0m                                 Traceback (most recent call last)",
      "Cell \u001b[1;32mIn[52], line 3\u001b[0m\n\u001b[0;32m      1\u001b[0m a\u001b[38;5;241m=\u001b[39m\u001b[38;5;124m\"\u001b[39m\u001b[38;5;124mhello\u001b[39m\u001b[38;5;124m\"\u001b[39m\n\u001b[0;32m      2\u001b[0m b\u001b[38;5;241m=\u001b[39m\u001b[38;5;124m\"\u001b[39m\u001b[38;5;124mworld\u001b[39m\u001b[38;5;124m\"\u001b[39m\n\u001b[1;32m----> 3\u001b[0m \u001b[38;5;28mprint\u001b[39m(\u001b[43ma\u001b[49m\u001b[38;5;241;43m*\u001b[39;49m\u001b[43mb\u001b[49m)\n",
      "\u001b[1;31mTypeError\u001b[0m: can't multiply sequence by non-int of type 'str'"
     ]
    }
   ],
   "source": [
    "a=\"hello\"\n",
    "b=\"world\"\n",
    "print(a*b)"
   ]
  },
  {
   "cell_type": "markdown",
   "id": "080c85b7-e705-4d48-9438-a1bdd9116aef",
   "metadata": {},
   "source": [
    "<h3>Q4</h3>"
   ]
  },
  {
   "cell_type": "code",
   "execution_count": 53,
   "id": "b9fe75c8-60cc-48b4-8a15-a36525c10d7d",
   "metadata": {},
   "outputs": [
    {
     "name": "stdout",
     "output_type": "stream",
     "text": [
      "Yogesh7\n"
     ]
    }
   ],
   "source": [
    "print('Yogesh'+str(7))"
   ]
  },
  {
   "cell_type": "markdown",
   "id": "78c06e03-75e7-4de9-b1e1-1bad169f3f9c",
   "metadata": {},
   "source": [
    "<h3>Q5</h3>"
   ]
  },
  {
   "cell_type": "code",
   "execution_count": 64,
   "id": "b2e1902c-6a09-4db5-b58f-46fa4424e67d",
   "metadata": {},
   "outputs": [
    {
     "name": "stdout",
     "output_type": "stream",
     "text": [
      "Name: Yogesh  Age: 21  score: 95.5\n",
      "Name: Yogesh  Age: 21  score: 95.5\n",
      "Name: Yogesh  Age: 21  score: 95.5\n"
     ]
    }
   ],
   "source": [
    "name='Yogesh'\n",
    "age=21\n",
    "score=95.5\n",
    "print('Name:',name,' Age:',age,' score:',score)\n",
    "print('Name: '+name,' Age: '+str(age)+'  score: '+str(score))\n",
    "print(f'Name: {name}  Age: {age}  score: {score}')\n",
    "\n"
   ]
  },
  {
   "cell_type": "markdown",
   "id": "e754ab02-3dd9-4e27-a31a-8df131db4dc9",
   "metadata": {},
   "source": [
    "<h3>Q6</h3>"
   ]
  },
  {
   "cell_type": "code",
   "execution_count": 66,
   "id": "7154ef65-e1db-4f7c-b99a-b3b75e196254",
   "metadata": {},
   "outputs": [
    {
     "name": "stdout",
     "output_type": "stream",
     "text": [
      "14\n",
      "-1\n"
     ]
    }
   ],
   "source": [
    "mainstring='PLUS OR MINUS PUBLICITY IN ALWAYS'\n",
    "substring1='PUBLICITY'\n",
    "substring2='YENRI'\n",
    "print(mainstring.find(substring1))\n",
    "print(mainstring.find(substring2))\n"
   ]
  },
  {
   "cell_type": "markdown",
   "id": "f2114ab4-e1fd-4c75-b750-a87b1880297e",
   "metadata": {},
   "source": [
    "<h3>Q7</h3>"
   ]
  },
  {
   "cell_type": "code",
   "execution_count": 75,
   "id": "a780309b-7062-4080-a3b2-b0b72c2741e5",
   "metadata": {},
   "outputs": [
    {
     "name": "stdout",
     "output_type": "stream",
     "text": [
      "ALUS OR MINUS AUBLICITY IN OO OALOWAYS\n",
      "APUS OR MINUS PUBLICITY IN OO OALOWAYS\n",
      "PLUS AND MINUS PUBLICITY IN OO OALOWAYS\n"
     ]
    }
   ],
   "source": [
    "mainstring='PLUS OR MINUS PUBLICITY IN OO OALOWAYS'\n",
    "print(mainstring.replace('P','A'))\n",
    "print(mainstring.replace('PL','AP'))\n",
    "print(mainstring.replace('OR','AND'))\n",
    "\n"
   ]
  },
  {
   "cell_type": "markdown",
   "id": "589a0c2a-1f54-4d3f-90ea-43fbe80cade7",
   "metadata": {},
   "source": [
    "<H1>WEEK-03</H1>"
   ]
  },
  {
   "cell_type": "markdown",
   "id": "d891ec7e-6a38-446f-8a14-e53cc8ee3566",
   "metadata": {},
   "source": [
    "<h3>Q1</h3>"
   ]
  },
  {
   "cell_type": "code",
   "execution_count": 81,
   "id": "da2d2ebe-8c4c-481d-849f-42578ac9a04a",
   "metadata": {},
   "outputs": [
    {
     "name": "stdout",
     "output_type": "stream",
     "text": [
      "40.17107384637533\n",
      "40.171073846375336\n"
     ]
    }
   ],
   "source": [
    "import math\n",
    "x=2\n",
    "e=2.718281828459045\n",
    "n=3\n",
    "print(x*(e**n))\n",
    "\n",
    "print(x*math.exp(n))"
   ]
  },
  {
   "cell_type": "markdown",
   "id": "378a93e0-d5d7-48d1-b780-511f0648fec6",
   "metadata": {},
   "source": [
    "<h3>Q2</h3>"
   ]
  },
  {
   "cell_type": "code",
   "execution_count": 82,
   "id": "785b0a00-ff95-4ee4-8726-aa798ed921b8",
   "metadata": {},
   "outputs": [
    {
     "name": "stdout",
     "output_type": "stream",
     "text": [
      "formatted number:7_895_848_947_518_451\n"
     ]
    }
   ],
   "source": [
    "N=7895848947518451\n",
    "print(f'formatted number:{N:_}')"
   ]
  },
  {
   "cell_type": "markdown",
   "id": "3e1bbc02-cc13-46dd-96e3-aad419875f27",
   "metadata": {},
   "source": [
    "<H3>Q3</H3>"
   ]
  },
  {
   "cell_type": "code",
   "execution_count": 90,
   "id": "4c5e88eb-240b-43f3-9424-8a6e1a8b9de6",
   "metadata": {},
   "outputs": [
    {
     "name": "stdin",
     "output_type": "stream",
     "text": [
      "Enter number 1: 10\n",
      "Enter number 2: 6\n"
     ]
    },
    {
     "name": "stdout",
     "output_type": "stream",
     "text": [
      "1.6666666666666667\n",
      "1\n"
     ]
    }
   ],
   "source": [
    "a1=int(input('Enter number 1:'))\n",
    "a2=int(input('Enter number 2:'))\n",
    "print(a1/a2)\n",
    "print(a1//a2)\n"
   ]
  },
  {
   "cell_type": "markdown",
   "id": "092645af-5520-4226-8115-ae4b85fed406",
   "metadata": {},
   "source": [
    "<H3>Q4</H3>"
   ]
  },
  {
   "cell_type": "code",
   "execution_count": 91,
   "id": "98446009-9020-4798-9c08-a8b8adb91fbb",
   "metadata": {},
   "outputs": [
    {
     "name": "stdout",
     "output_type": "stream",
     "text": [
      "The result of expression x*(y+(p*q)-r)/s is:25.0\n"
     ]
    }
   ],
   "source": [
    "x=10\n",
    "y=5\n",
    "p=3\n",
    "q=2\n",
    "r=1\n",
    "s=4\n",
    "print(f'The result of expression x*(y+(p*q)-r)/s is:{x*(y+(p*q)-r)/s}')"
   ]
  },
  {
   "cell_type": "markdown",
   "id": "0381f938-dbcf-4285-b971-9249836cab7a",
   "metadata": {},
   "source": [
    "<h3>Q5</h3>"
   ]
  },
  {
   "cell_type": "code",
   "execution_count": 96,
   "id": "7fa40f1b-924e-4028-b319-36f96117bd93",
   "metadata": {},
   "outputs": [
    {
     "name": "stdout",
     "output_type": "stream",
     "text": [
      "10.288\n"
     ]
    }
   ],
   "source": [
    "x=10.2878451879485\n",
    "print(round(x,3))"
   ]
  },
  {
   "cell_type": "markdown",
   "id": "51888989-1cf7-440b-8d54-345aaf2ebf54",
   "metadata": {},
   "source": [
    "<h1>WEEK-04</h1>"
   ]
  },
  {
   "cell_type": "markdown",
   "id": "e68bed88-1522-4b9a-92dd-76660603dca3",
   "metadata": {},
   "source": [
    "<H3>Q1</H3>"
   ]
  },
  {
   "cell_type": "code",
   "execution_count": 101,
   "id": "7ea886aa-886c-4571-85d6-153e7368affd",
   "metadata": {},
   "outputs": [
    {
     "name": "stdout",
     "output_type": "stream",
     "text": [
      "Name:21\n",
      "Age:Yogesh\n",
      "\n",
      "\n",
      "Name:Yogesh\n",
      "Age:21\n"
     ]
    }
   ],
   "source": [
    "name='Yogesh'\n",
    "age=21\n",
    "print('Name:{1}\\nAge:{0}'.format(name,age))\n",
    "print('\\n')\n",
    "print('Name:{1}\\nAge:{0}'.format(age,name))"
   ]
  },
  {
   "cell_type": "markdown",
   "id": "060a4827-0ba9-4c39-a761-73bc66eda8c6",
   "metadata": {},
   "source": [
    "<h3>Q2</h3>"
   ]
  },
  {
   "cell_type": "code",
   "execution_count": 104,
   "id": "8a63ebcc-3c7b-4c59-8ccb-78100005b9ff",
   "metadata": {},
   "outputs": [
    {
     "name": "stdout",
     "output_type": "stream",
     "text": [
      "10.3\n",
      "7\n",
      "8\n"
     ]
    }
   ],
   "source": [
    "print(round(10.2999451,3))\n",
    "print(abs(-7))\n",
    "print(pow(2,3))"
   ]
  },
  {
   "cell_type": "markdown",
   "id": "c8ca9765-f4b2-4490-ac0c-26089b4ff787",
   "metadata": {},
   "source": [
    "<h3>Q3</h3>"
   ]
  },
  {
   "cell_type": "code",
   "execution_count": 106,
   "id": "f1a7d147-cf56-486c-96f3-61b893795e0f",
   "metadata": {},
   "outputs": [
    {
     "name": "stdout",
     "output_type": "stream",
     "text": [
      "Result of pow(x,y,z):1\n",
      "Result of (x**y)%z:1\n",
      "Result of (x**y):125\n"
     ]
    }
   ],
   "source": [
    "def evaluate_exp(x,y,z):\n",
    "    result_a=pow(x,y,z)\n",
    "    result_b=(x**y)%z\n",
    "    result_c=x**y\n",
    "    return result_a,result_b,result_c\n",
    "\n",
    "x=5\n",
    "y=3\n",
    "z=2\n",
    "results=evaluate_exp(x,y,z)\n",
    "print(f'Result of pow(x,y,z):{results[0]}')\n",
    "print(f'Result of (x**y)%z:{results[1]}')\n",
    "print(f'Result of (x**y):{results[2]}')"
   ]
  },
  {
   "cell_type": "markdown",
   "id": "e2809550-b433-43f5-98e6-85f709083f21",
   "metadata": {},
   "source": [
    "<h3>Q4</h3>"
   ]
  },
  {
   "cell_type": "code",
   "execution_count": 112,
   "id": "9db216f3-2400-48f4-874b-21fd0c96b52f",
   "metadata": {},
   "outputs": [
    {
     "name": "stdout",
     "output_type": "stream",
     "text": [
      "False\n",
      "True\n"
     ]
    }
   ],
   "source": [
    "print(10.23.is_integer())\n",
    "x=10\n",
    "print(x.is_integer())\n"
   ]
  },
  {
   "cell_type": "markdown",
   "id": "4d169952-1bf8-4d27-9026-c4827d574fe4",
   "metadata": {},
   "source": [
    "<h3>Q5</h3>"
   ]
  },
  {
   "cell_type": "code",
   "execution_count": 121,
   "id": "ad409bea-c78e-4f31-a2f5-7fc2530bf3a3",
   "metadata": {},
   "outputs": [
    {
     "name": "stdout",
     "output_type": "stream",
     "text": [
      "31.78\n"
     ]
    }
   ],
   "source": [
    "f=31.77535\n",
    "d=4\n",
    "print(f'{f:.{d}}')\n"
   ]
  },
  {
   "cell_type": "markdown",
   "id": "f0afc58f-03ce-4f27-845e-342ea60968b3",
   "metadata": {},
   "source": [
    "<h3>Q6</h3>"
   ]
  },
  {
   "cell_type": "code",
   "execution_count": 125,
   "id": "07cf43d0-ed21-445c-815f-b45d3b05f78e",
   "metadata": {},
   "outputs": [
    {
     "name": "stdout",
     "output_type": "stream",
     "text": [
      "31.7753\n"
     ]
    }
   ],
   "source": [
    "fs='%.{0}f'.format(d)\n",
    "fn=fs%f\n",
    "print(fn)\n",
    "#same as round"
   ]
  },
  {
   "cell_type": "markdown",
   "id": "2f995cfa-1342-4313-9b4b-7a66c99a679d",
   "metadata": {},
   "source": [
    "<H3>Q7</H3>"
   ]
  },
  {
   "cell_type": "code",
   "execution_count": 127,
   "id": "09ecf53f-85e8-43fc-af4b-c4f967f6b678",
   "metadata": {},
   "outputs": [
    {
     "name": "stdout",
     "output_type": "stream",
     "text": [
      "3.0\n",
      "4.0\n"
     ]
    }
   ],
   "source": [
    "complexnumber=3+4j\n",
    "print(complexnumber.real)\n",
    "print(complexnumber.imag)"
   ]
  },
  {
   "cell_type": "markdown",
   "id": "39f8f254-f56f-4b40-9313-0f12612b7da6",
   "metadata": {},
   "source": [
    "<h3>Q8</h3>"
   ]
  },
  {
   "cell_type": "code",
   "execution_count": 128,
   "id": "1f779077-7562-4144-b5ba-3eacc8c39f15",
   "metadata": {},
   "outputs": [
    {
     "name": "stdout",
     "output_type": "stream",
     "text": [
      "(14-5j)\n",
      "(-4+9j)\n"
     ]
    }
   ],
   "source": [
    "x,y=5+2j,9-7j\n",
    "print(x+y)\n",
    "print(x-y)"
   ]
  },
  {
   "cell_type": "markdown",
   "id": "2e3c39b7-c94b-4aa5-8a94-01883be55d85",
   "metadata": {},
   "source": [
    "<h3>Q9</h3>"
   ]
  },
  {
   "cell_type": "code",
   "execution_count": 130,
   "id": "293d840a-8b26-430f-852f-a11a4645101d",
   "metadata": {},
   "outputs": [
    {
     "name": "stdout",
     "output_type": "stream",
     "text": [
      "Good morning: YOGESH\n"
     ]
    }
   ],
   "source": [
    "def wishmsg(name):\n",
    "    print('Good morning:',name)\n",
    "wishmsg('YOGESH')    \n",
    "    \n"
   ]
  },
  {
   "cell_type": "markdown",
   "id": "08907b27-4ad5-4202-b617-3d9f33915e4d",
   "metadata": {},
   "source": [
    "<h3>Q10</h3>"
   ]
  },
  {
   "cell_type": "code",
   "execution_count": 131,
   "id": "59d55759-8e4f-42e6-9699-e735048790a1",
   "metadata": {},
   "outputs": [
    {
     "name": "stdout",
     "output_type": "stream",
     "text": [
      "15\n",
      "5\n",
      "50\n"
     ]
    }
   ],
   "source": [
    "def arithmetic(n1,n2):\n",
    "    print(n1+n2)\n",
    "    print(n1-n2)\n",
    "    print(n1*n2)\n",
    "arithmetic(10,5)    "
   ]
  },
  {
   "cell_type": "code",
   "execution_count": null,
   "id": "d746d60c-d44a-4ef9-b9e5-82652e1a9676",
   "metadata": {},
   "outputs": [],
   "source": []
  }
 ],
 "metadata": {
  "kernelspec": {
   "display_name": "Python 3 (ipykernel)",
   "language": "python",
   "name": "python3"
  },
  "language_info": {
   "codemirror_mode": {
    "name": "ipython",
    "version": 3
   },
   "file_extension": ".py",
   "mimetype": "text/x-python",
   "name": "python",
   "nbconvert_exporter": "python",
   "pygments_lexer": "ipython3",
   "version": "3.12.6"
  }
 },
 "nbformat": 4,
 "nbformat_minor": 5
}
