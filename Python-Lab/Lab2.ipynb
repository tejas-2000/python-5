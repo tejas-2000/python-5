{
 "cells": [
  {
   "cell_type": "markdown",
   "id": "7028e0e9-25a2-4d5d-9ab6-872e80318155",
   "metadata": {},
   "source": [
    "<h1>Strings Built-in functions</h1>"
   ]
  },
  {
   "cell_type": "code",
   "execution_count": null,
   "id": "0bfa0257-55a5-4ece-a42b-8f8e8397953b",
   "metadata": {},
   "outputs": [],
   "source": []
  },
  {
   "cell_type": "code",
   "execution_count": 6,
   "id": "077209ae-11d5-49a1-a420-452802995021",
   "metadata": {},
   "outputs": [
    {
     "data": {
      "text/plain": [
       "'SDMCET'"
      ]
     },
     "execution_count": 6,
     "metadata": {},
     "output_type": "execute_result"
    }
   ],
   "source": [
    "\"sdmcet\".upper()"
   ]
  },
  {
   "cell_type": "code",
   "execution_count": 8,
   "id": "87e62843-37c4-47fb-b6e5-ffe3937cfd92",
   "metadata": {},
   "outputs": [
    {
     "data": {
      "text/plain": [
       "'sdm'"
      ]
     },
     "execution_count": 8,
     "metadata": {},
     "output_type": "execute_result"
    }
   ],
   "source": [
    "\"sDM\".lower()"
   ]
  },
  {
   "cell_type": "code",
   "execution_count": 9,
   "id": "48905b2e-f83a-44e4-a5e9-5a620ac2a73b",
   "metadata": {},
   "outputs": [],
   "source": [
    "coll=\"SDM College\""
   ]
  },
  {
   "cell_type": "code",
   "execution_count": 10,
   "id": "55e81da6-5936-466e-9637-c16f77d8a2df",
   "metadata": {
    "jupyter": {
     "source_hidden": true
    }
   },
   "outputs": [
    {
     "name": "stdout",
     "output_type": "stream",
     "text": [
      "SDM COLLEGE\n"
     ]
    }
   ],
   "source": [
    "print(coll.upper())"
   ]
  },
  {
   "cell_type": "code",
   "execution_count": 11,
   "id": "a8a9ebdd-eec9-4e84-9cf9-f924322f1bb0",
   "metadata": {},
   "outputs": [
    {
     "name": "stdout",
     "output_type": "stream",
     "text": [
      "sdm college\n"
     ]
    }
   ],
   "source": [
    "print(coll.lower())"
   ]
  },
  {
   "cell_type": "code",
   "execution_count": 12,
   "id": "34a2262d-1fa4-4a45-ae4d-38a52cb952fe",
   "metadata": {},
   "outputs": [
    {
     "data": {
      "text/plain": [
       "'sdmcet  college   hjyj  '"
      ]
     },
     "execution_count": 12,
     "metadata": {},
     "output_type": "execute_result"
    }
   ],
   "source": [
    "college=\"  sdmcet  college   hjyj  \"\n",
    "college.lstrip()"
   ]
  },
  {
   "cell_type": "code",
   "execution_count": 13,
   "id": "34b8294c-ef0a-4a86-8625-5f88e6bbaf9a",
   "metadata": {},
   "outputs": [
    {
     "data": {
      "text/plain": [
       "'  sdmcet  college   hjyj'"
      ]
     },
     "execution_count": 13,
     "metadata": {},
     "output_type": "execute_result"
    }
   ],
   "source": [
    "college.rstrip()"
   ]
  },
  {
   "cell_type": "code",
   "execution_count": 14,
   "id": "5f6fdc66-5a1b-43f8-a580-6de7b924fbce",
   "metadata": {
    "scrolled": true
   },
   "outputs": [
    {
     "data": {
      "text/plain": [
       "'sdmcet  college   hjyj'"
      ]
     },
     "execution_count": 14,
     "metadata": {},
     "output_type": "execute_result"
    }
   ],
   "source": [
    "college.strip()"
   ]
  },
  {
   "cell_type": "code",
   "execution_count": 15,
   "id": "73276dff-ecbf-4e46-a304-c9da61c7c321",
   "metadata": {},
   "outputs": [
    {
     "data": {
      "text/plain": [
       "2"
      ]
     },
     "execution_count": 15,
     "metadata": {},
     "output_type": "execute_result"
    }
   ],
   "source": [
    "college.find(\"sd\")"
   ]
  },
  {
   "cell_type": "code",
   "execution_count": 16,
   "id": "3e7c88ed-4393-4b43-aaf0-432e002ccfb8",
   "metadata": {},
   "outputs": [
    {
     "data": {
      "text/plain": [
       "21"
      ]
     },
     "execution_count": 16,
     "metadata": {},
     "output_type": "execute_result"
    }
   ],
   "source": [
    "college.find(\"j\")"
   ]
  },
  {
   "cell_type": "code",
   "execution_count": 17,
   "id": "08c3a49f-507e-4461-b87a-8b55d8b3b317",
   "metadata": {},
   "outputs": [
    {
     "data": {
      "text/plain": [
       "True"
      ]
     },
     "execution_count": 17,
     "metadata": {},
     "output_type": "execute_result"
    }
   ],
   "source": [
    "name=\"yogesh patil\"\n",
    "name.startswith(\"yogesh\")\n"
   ]
  },
  {
   "cell_type": "code",
   "execution_count": 18,
   "id": "bbdad75e-feac-42ee-81d7-7ae74f4b8949",
   "metadata": {},
   "outputs": [
    {
     "data": {
      "text/plain": [
       "False"
      ]
     },
     "execution_count": 18,
     "metadata": {},
     "output_type": "execute_result"
    }
   ],
   "source": [
    "name.startswith(\"hjh\")"
   ]
  },
  {
   "cell_type": "code",
   "execution_count": 19,
   "id": "f2669d3e-1570-4955-8c93-00b9ccc554d7",
   "metadata": {},
   "outputs": [
    {
     "data": {
      "text/plain": [
       "True"
      ]
     },
     "execution_count": 19,
     "metadata": {},
     "output_type": "execute_result"
    }
   ],
   "source": [
    "name.endswith(\"l\")"
   ]
  },
  {
   "cell_type": "code",
   "execution_count": 22,
   "id": "f265ee06-29de-48a1-8625-e6a6e70eb276",
   "metadata": {
    "scrolled": true
   },
   "outputs": [
    {
     "name": "stdout",
     "output_type": "stream",
     "text": [
      "hello hello hello hello hello hello hello \n"
     ]
    }
   ],
   "source": [
    "print(\"hello \"*7)"
   ]
  },
  {
   "cell_type": "code",
   "execution_count": 35,
   "id": "1f3d56df-fb5a-44ec-b822-0300406a3865",
   "metadata": {},
   "outputs": [
    {
     "data": {
      "text/plain": [
       "'hello hello hello hello hello '"
      ]
     },
     "execution_count": 35,
     "metadata": {},
     "output_type": "execute_result"
    }
   ],
   "source": [
    "name='hello '\n",
    "mul='5'\n",
    "name*(int(mul))"
   ]
  },
  {
   "cell_type": "code",
   "execution_count": null,
   "id": "5726fed5-3410-4b65-b274-24a646649fb4",
   "metadata": {},
   "outputs": [],
   "source": [
    "\"SDM COLLEGE \""
   ]
  },
  {
   "cell_type": "code",
   "execution_count": 36,
   "id": "ff94b919-3adf-41c4-9f58-806588830c22",
   "metadata": {},
   "outputs": [
    {
     "name": "stdout",
     "output_type": "stream",
     "text": [
      "HELLO,HI,MO,KGF\n"
     ]
    }
   ],
   "source": [
    "A,B,C,D='HELLO','HI','MO','KGF'\n",
    "print(A,B,C,D,sep=',')"
   ]
  },
  {
   "cell_type": "markdown",
   "id": "7016d764-1449-4d89-91d2-20134b5d3f45",
   "metadata": {},
   "source": [
    "IA1,IA2,IA3,CTA,CIE=8,15,2,5,28\n",
    "print(\"i scored '+IA1+IA2+IA3+' IN ALL IA'S '+CTA+' \")"
   ]
  },
  {
   "cell_type": "code",
   "execution_count": 39,
   "id": "314a572d-a66a-47ff-a068-34d0c4089bc2",
   "metadata": {},
   "outputs": [
    {
     "name": "stdout",
     "output_type": "stream",
     "text": [
      "i scored 25  IN ALL IA'S\n"
     ]
    }
   ],
   "source": [
    "IA1,IA2,IA3,CTA,CIE=8,15,2,5,28 \n",
    "print(\"i scored\",(IA1+IA2+IA3),\" IN ALL IA'S\")\n",
    "aj=10\n"
   ]
  },
  {
   "cell_type": "code",
   "execution_count": 44,
   "id": "1c61648a-3ce3-4eff-909c-74c1bf3cecaa",
   "metadata": {},
   "outputs": [
    {
     "data": {
      "text/plain": [
       "'sdmcet 30'"
      ]
     },
     "execution_count": 44,
     "metadata": {},
     "output_type": "execute_result"
    }
   ],
   "source": [
    "f\"sdmcet {a+20}\""
   ]
  },
  {
   "cell_type": "code",
   "execution_count": 47,
   "id": "3aa21f05-4b2c-48a1-bfe1-3605a1bcc6d4",
   "metadata": {},
   "outputs": [
    {
     "name": "stdout",
     "output_type": "stream",
     "text": [
      "i scored 8,15,2 in all ia's and cie is 28\n"
     ]
    }
   ],
   "source": [
    "print(f\"i scored {IA1},{IA2},{IA3} in all ia's and cie is {CIE}\")"
   ]
  },
  {
   "cell_type": "code",
   "execution_count": 48,
   "id": "af286f91-ce96-40ec-a9bd-64584f0cfc8f",
   "metadata": {},
   "outputs": [
    {
     "data": {
      "text/plain": [
       "4"
      ]
     },
     "execution_count": 48,
     "metadata": {},
     "output_type": "execute_result"
    }
   ],
   "source": [
    "COLLEGE='SDM COLLEGE'\n",
    "COLLEGE.find('CO')"
   ]
  },
  {
   "cell_type": "code",
   "execution_count": 49,
   "id": "d761f0bd-f557-4b28-bb33-91f41e8f4d41",
   "metadata": {},
   "outputs": [
    {
     "data": {
      "text/plain": [
       "'yDM COLLEGE'"
      ]
     },
     "execution_count": 49,
     "metadata": {},
     "output_type": "execute_result"
    }
   ],
   "source": [
    "COLLEGE.replace('S','y')"
   ]
  },
  {
   "cell_type": "code",
   "execution_count": 50,
   "id": "b3259f14-e9b4-4c42-8cd1-6779366228fe",
   "metadata": {},
   "outputs": [
    {
     "name": "stdout",
     "output_type": "stream",
     "text": [
      "__main__\n"
     ]
    }
   ],
   "source": [
    "print(__name__)"
   ]
  },
  {
   "cell_type": "code",
   "execution_count": 51,
   "id": "56845ad4-aa51-4b5b-8764-849ce9907e72",
   "metadata": {},
   "outputs": [
    {
     "data": {
      "text/plain": [
       "50000.0"
      ]
     },
     "execution_count": 51,
     "metadata": {},
     "output_type": "execute_result"
    }
   ],
   "source": [
    "5e4"
   ]
  },
  {
   "cell_type": "code",
   "execution_count": 52,
   "id": "a2ea0012-f21c-4f97-8f87-e7aff9e88540",
   "metadata": {},
   "outputs": [
    {
     "data": {
      "text/plain": [
       "inf"
      ]
     },
     "execution_count": 52,
     "metadata": {},
     "output_type": "execute_result"
    }
   ],
   "source": [
    "2e400"
   ]
  },
  {
   "cell_type": "code",
   "execution_count": null,
   "id": "c0b89ccf-1d5c-4039-ba60-752ab126931d",
   "metadata": {},
   "outputs": [],
   "source": []
  }
 ],
 "metadata": {
  "kernelspec": {
   "display_name": "Python 3 (ipykernel)",
   "language": "python",
   "name": "python3"
  },
  "language_info": {
   "codemirror_mode": {
    "name": "ipython",
    "version": 3
   },
   "file_extension": ".py",
   "mimetype": "text/x-python",
   "name": "python",
   "nbconvert_exporter": "python",
   "pygments_lexer": "ipython3",
   "version": "3.10.10"
  }
 },
 "nbformat": 4,
 "nbformat_minor": 5
}
