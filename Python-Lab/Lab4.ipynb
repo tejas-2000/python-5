{
 "cells": [
  {
   "cell_type": "markdown",
   "id": "a39197c7-a75c-4a5c-aca2-ab7806517d34",
   "metadata": {},
   "source": [
    "<h1>Fixed floating point value</h1>"
   ]
  },
  {
   "cell_type": "code",
   "execution_count": 7,
   "id": "5134b199-4c23-4452-8209-fe1a6388fd03",
   "metadata": {},
   "outputs": [
    {
     "data": {
      "text/plain": [
       "'The formatted floating point is fixed value is:8.33'"
      ]
     },
     "execution_count": 7,
     "metadata": {},
     "output_type": "execute_result"
    }
   ],
   "source": [
    "rate=8.326\n",
    "f\"The formatted floating point is fixed value is:{rate:.2f}\"\n"
   ]
  },
  {
   "cell_type": "markdown",
   "id": "766dc447-1dc0-4c0f-a565-42aeb04836fc",
   "metadata": {},
   "source": [
    "f\"The formatted floating point is fixed value is:{rate:.3f}\""
   ]
  },
  {
   "cell_type": "code",
   "execution_count": 8,
   "id": "852f50b2-d999-4250-b1b7-609143a409b1",
   "metadata": {},
   "outputs": [
    {
     "data": {
      "text/plain": [
       "82.35"
      ]
     },
     "execution_count": 8,
     "metadata": {},
     "output_type": "execute_result"
    }
   ],
   "source": [
    "round(82.35,2)"
   ]
  },
  {
   "cell_type": "code",
   "execution_count": 10,
   "id": "2a79b88e-06d2-4fed-a3d3-c9be14b722b5",
   "metadata": {},
   "outputs": [
    {
     "data": {
      "text/plain": [
       "'formatted decimal value is :95.60%'"
      ]
     },
     "execution_count": 10,
     "metadata": {},
     "output_type": "execute_result"
    }
   ],
   "source": [
    "rate1=0.956\n",
    "f\"formatted decimal value is :{rate1:.2%}\" "
   ]
  },
  {
   "cell_type": "code",
   "execution_count": 12,
   "id": "a8768546-314a-4767-8c04-629aea692d61",
   "metadata": {},
   "outputs": [
    {
     "data": {
      "text/plain": [
       "' formatted result:1,234,587'"
      ]
     },
     "execution_count": 12,
     "metadata": {},
     "output_type": "execute_result"
    }
   ],
   "source": [
    "num=1234587\n",
    "f' formatted result:{num:,}'"
   ]
  },
  {
   "cell_type": "code",
   "execution_count": 13,
   "id": "69402d8a-4d6c-476f-9cab-e1151a67efaf",
   "metadata": {},
   "outputs": [
    {
     "data": {
      "text/plain": [
       "(2+3j)"
      ]
     },
     "execution_count": 13,
     "metadata": {},
     "output_type": "execute_result"
    }
   ],
   "source": [
    "2+3j"
   ]
  },
  {
   "cell_type": "code",
   "execution_count": 14,
   "id": "538ceb97-fd67-44d1-973a-ee41d9e90ac1",
   "metadata": {},
   "outputs": [
    {
     "data": {
      "text/plain": [
       "10.0"
      ]
     },
     "execution_count": 14,
     "metadata": {},
     "output_type": "execute_result"
    }
   ],
   "source": [
    "cmnum=10+9j\n",
    "cmnum.real"
   ]
  },
  {
   "cell_type": "code",
   "execution_count": 15,
   "id": "5d6eeade-258f-4d84-86f2-72e1f3278aa7",
   "metadata": {},
   "outputs": [
    {
     "data": {
      "text/plain": [
       "9.0"
      ]
     },
     "execution_count": 15,
     "metadata": {},
     "output_type": "execute_result"
    }
   ],
   "source": [
    "cmnum.imag"
   ]
  },
  {
   "cell_type": "code",
   "execution_count": 16,
   "id": "3bc8f869-fd2b-480c-a419-987dcc3e4435",
   "metadata": {},
   "outputs": [
    {
     "data": {
      "text/plain": [
       "(14-5j)"
      ]
     },
     "execution_count": 16,
     "metadata": {},
     "output_type": "execute_result"
    }
   ],
   "source": [
    "x,y=5+2j,9-7j\n",
    "\n",
    "x+y"
   ]
  },
  {
   "cell_type": "code",
   "execution_count": 18,
   "id": "508fb184-fedb-4fe3-8dc3-88d8e6bbf5fc",
   "metadata": {},
   "outputs": [
    {
     "data": {
      "text/plain": [
       "(-4+9j)"
      ]
     },
     "execution_count": 18,
     "metadata": {},
     "output_type": "execute_result"
    }
   ],
   "source": [
    "x-y"
   ]
  },
  {
   "cell_type": "code",
   "execution_count": 19,
   "id": "97b9ee11-78ba-4f52-bdf7-5eace0644035",
   "metadata": {},
   "outputs": [
    {
     "data": {
      "text/plain": [
       "(59-17j)"
      ]
     },
     "execution_count": 19,
     "metadata": {},
     "output_type": "execute_result"
    }
   ],
   "source": [
    "x*y"
   ]
  },
  {
   "cell_type": "code",
   "execution_count": 20,
   "id": "86643748-8a45-4c0c-96a8-e494183c5749",
   "metadata": {},
   "outputs": [
    {
     "data": {
      "text/plain": [
       "(0.23846153846153847+0.4076923076923077j)"
      ]
     },
     "execution_count": 20,
     "metadata": {},
     "output_type": "execute_result"
    }
   ],
   "source": [
    "x/y"
   ]
  },
  {
   "cell_type": "markdown",
   "id": "5a35460d-5d7d-4a61-8ad4-e86f46169208",
   "metadata": {},
   "source": [
    "  <h1 align=\"center\">Functions</h1>"
   ]
  },
  {
   "cell_type": "code",
   "execution_count": 22,
   "id": "4433d215-e66b-4c7a-8a1a-e9233d17ba97",
   "metadata": {},
   "outputs": [
    {
     "name": "stdout",
     "output_type": "stream",
     "text": [
      "Hello world\n",
      "Hello world\n"
     ]
    }
   ],
   "source": [
    "def f1():\n",
    "    print('Hello world')\n",
    "\n",
    "f1()\n",
    "f1()\n",
    "    "
   ]
  },
  {
   "cell_type": "code",
   "execution_count": 24,
   "id": "df9c9352-64ee-49ec-b9a0-dc2b33e10ffc",
   "metadata": {},
   "outputs": [
    {
     "name": "stdout",
     "output_type": "stream",
     "text": [
      "Hello Yogesh\n",
      "Hello Yogesh\n"
     ]
    }
   ],
   "source": [
    "def f2(name):\n",
    "    print('Hello',name)\n",
    "\n",
    "f2('Yogesh')\n",
    "f2('Yogesh')\n",
    "    "
   ]
  },
  {
   "cell_type": "code",
   "execution_count": 25,
   "id": "92757bf3-afc5-4e25-b584-bbb88e337cf0",
   "metadata": {
    "scrolled": true
   },
   "outputs": [
    {
     "name": "stdout",
     "output_type": "stream",
     "text": [
      "12\n"
     ]
    }
   ],
   "source": [
    "def f3(A,B):\n",
    "    return A+B\n",
    "print(f3(10,2))    \n",
    "    "
   ]
  },
  {
   "cell_type": "code",
   "execution_count": 27,
   "id": "142530d9-52e2-4354-ad1e-125e365046e8",
   "metadata": {},
   "outputs": [
    {
     "name": "stdin",
     "output_type": "stream",
     "text": [
      "enter your name YOGESH\n"
     ]
    },
    {
     "name": "stdout",
     "output_type": "stream",
     "text": [
      "good morning YOGESH\n"
     ]
    }
   ],
   "source": [
    "def wish(name,greet):\n",
    "    print(greet,name)\n",
    "\n",
    "name=input('enter your name')\n",
    "wish(name,'good morning')    "
   ]
  },
  {
   "cell_type": "code",
   "execution_count": 30,
   "id": "26d89bb5-d66a-47a1-bcce-bcc8c009065d",
   "metadata": {},
   "outputs": [
    {
     "name": "stdin",
     "output_type": "stream",
     "text": [
      "Enter number1: 7\n",
      "Enter number2: 4\n"
     ]
    },
    {
     "name": "stdout",
     "output_type": "stream",
     "text": [
      "Addition is: 11\n",
      "Subtarction is: 3\n",
      "Multipliacation is: 28\n",
      "Division is: 11\n"
     ]
    }
   ],
   "source": [
    "def mathop(a,b):\n",
    "    print('Addition is:',a+b)\n",
    "    print('Subtarction is:',a-b)\n",
    "    print('Multipliacation is:',a*b)\n",
    "    print('Division is:',a+b)\n",
    "n1=int(input('Enter number1:'))   \n",
    "n2=int(input('Enter number2:')) \n",
    "mathop(n1,n2)    "
   ]
  },
  {
   "cell_type": "code",
   "execution_count": 29,
   "id": "ac5c6e75-d1ad-4823-85de-c0c3433bf04c",
   "metadata": {},
   "outputs": [
    {
     "name": "stdout",
     "output_type": "stream",
     "text": [
      "addition is :12\n"
     ]
    }
   ],
   "source": [
    "print(f\"addition is :{10+2}\")"
   ]
  },
  {
   "cell_type": "code",
   "execution_count": 31,
   "id": "50014070-6101-46d2-a995-9dcaa7ed23aa",
   "metadata": {},
   "outputs": [
    {
     "name": "stdin",
     "output_type": "stream",
     "text": [
      "Enter number1: 7\n",
      "Enter number2: 4\n"
     ]
    },
    {
     "name": "stdout",
     "output_type": "stream",
     "text": [
      "addition of two numbers is:11\n",
      "subtraction of two numbers is:3\n",
      "multiplication of two numbers is:28\n"
     ]
    }
   ],
   "source": [
    "def mathopf(a,b):\n",
    "    print(f\"addition of two numbers is:{a+b}\")\n",
    "    print(f\"subtraction of two numbers is:{a-b}\")\n",
    "    print(f\"multiplication of two numbers is:{a*b}\")\n",
    "    \n",
    "n1=int(input('Enter number1:'))   \n",
    "n2=int(input('Enter number2:')) \n",
    "mathopf(n1,n2)    "
   ]
  },
  {
   "cell_type": "code",
   "execution_count": 35,
   "id": "fde59ac2-54b1-4cf0-8cff-1f257dfd2f6f",
   "metadata": {},
   "outputs": [
    {
     "name": "stdin",
     "output_type": "stream",
     "text": [
      "Enter number1: 7\n",
      "Enter number2: 4\n"
     ]
    },
    {
     "name": "stdout",
     "output_type": "stream",
     "text": [
      "11\n"
     ]
    }
   ],
   "source": [
    "def mathopf(a,b):\n",
    "     return a+b\n",
    "    \n",
    "n1=int(input('Enter number1:'))   \n",
    "n2=int(input('Enter number2:')) \n",
    "print(mathopf(n1,n2) )\n"
   ]
  },
  {
   "cell_type": "code",
   "execution_count": 42,
   "id": "d37607d1-209c-48e4-b78b-6e168cff232c",
   "metadata": {},
   "outputs": [
    {
     "name": "stdin",
     "output_type": "stream",
     "text": [
      "Enter number1: 7\n",
      "Enter number2: 4\n"
     ]
    },
    {
     "name": "stdout",
     "output_type": "stream",
     "text": [
      "Addition is\n",
      "11\n",
      "sub is\n",
      "3\n"
     ]
    }
   ],
   "source": [
    "def mathopY(a,b):\n",
    "    print(\"Addition is\")\n",
    "    yield a+b\n",
    "    print(\"sub is\")\n",
    "    yield a-b\n",
    "    \n",
    "    \n",
    "n1=int(input('Enter number1:'))   \n",
    "n2=int(input('Enter number2:')) \n",
    "operation=mathopY(7,4)\n",
    "print(next(operation))\n",
    "print(next(operation))\n",
    "\n"
   ]
  },
  {
   "cell_type": "code",
   "execution_count": 43,
   "id": "8193e9fe-a7b5-46a7-b3c2-ae0e6d7e83f8",
   "metadata": {},
   "outputs": [
    {
     "name": "stdout",
     "output_type": "stream",
     "text": [
      "simple intrest is :200.0\n"
     ]
    }
   ],
   "source": [
    "def simpleintrest(p,r,t):\n",
    "    return (p*r*t)/100\n",
    "print(f\"simple intrest is :{simpleintrest(100,10,20)}\")    "
   ]
  },
  {
   "cell_type": "code",
   "execution_count": 46,
   "id": "1868caea-1846-4dd8-b478-29faab1711ed",
   "metadata": {},
   "outputs": [
    {
     "name": "stdin",
     "output_type": "stream",
     "text": [
      "Enter length of rectangle 7\n",
      "Enter breadth of rectangle 4\n"
     ]
    },
    {
     "name": "stdout",
     "output_type": "stream",
     "text": [
      "THe area of reactangle is:40\n"
     ]
    }
   ],
   "source": [
    "def rect(length,breadth):\n",
    "    return length*breadth\n",
    "l=int(input(\"Enter length of rectangle\"))\n",
    "b=int(input(\"Enter breadth of rectangle\"))\n",
    "print(f\"THe area of reactangle is:{rect(a,b)}\")      \n",
    "      "
   ]
  },
  {
   "cell_type": "markdown",
   "id": "e0977040-7521-45fc-a99f-bc38eb7d34bd",
   "metadata": {},
   "source": [
    "<h1 align=\"center\">Loops</h1>"
   ]
  },
  {
   "cell_type": "code",
   "execution_count": 53,
   "id": "60802aed-32f6-446f-8f35-23699049af28",
   "metadata": {},
   "outputs": [
    {
     "name": "stdout",
     "output_type": "stream",
     "text": [
      "120\n"
     ]
    }
   ],
   "source": [
    "i=1\n",
    "fact=1\n",
    "while i<5:\n",
    "    i=i+1\n",
    "    fact=fact*i\n",
    "print(fact)    \n",
    "    \n",
    "    "
   ]
  },
  {
   "cell_type": "code",
   "execution_count": 54,
   "id": "8b78bd8f-2b13-45a7-8677-38930583f10c",
   "metadata": {},
   "outputs": [
    {
     "name": "stdout",
     "output_type": "stream",
     "text": [
      "120\n"
     ]
    }
   ],
   "source": [
    "i=1\n",
    "fact=1\n",
    "while i<=5:\n",
    "    fact=fact*i\n",
    "    i=i+1\n",
    "    \n",
    "print(fact)    \n",
    "    \n",
    "    "
   ]
  },
  {
   "cell_type": "code",
   "execution_count": 61,
   "id": "2d0deedf-5ff7-4a91-8869-52def9b94504",
   "metadata": {},
   "outputs": [
    {
     "name": "stdin",
     "output_type": "stream",
     "text": [
      "Enter number 7\n"
     ]
    },
    {
     "name": "stdout",
     "output_type": "stream",
     "text": [
      "7X1 =7\n",
      "7X2 =14\n",
      "7X3 =21\n",
      "7X4 =28\n",
      "7X5 =35\n",
      "7X6 =42\n",
      "7X7 =49\n",
      "7X8 =56\n",
      "7X9 =63\n",
      "7X10 =70\n"
     ]
    }
   ],
   "source": [
    "n=int(input(\"Enter number\"))\n",
    "i=1\n",
    "while(i!=11):\n",
    "    print(f\"{n}X{i} ={n*i}\")\n",
    "    i=i+1\n",
    "    \n",
    "    "
   ]
  },
  {
   "cell_type": "code",
   "execution_count": 63,
   "id": "920ac600-0a9e-4aea-8d1d-fcbcc23f8797",
   "metadata": {},
   "outputs": [
    {
     "name": "stdout",
     "output_type": "stream",
     "text": [
      "1\n",
      "2\n",
      "3\n",
      "4\n",
      "5\n",
      "6\n",
      "7\n",
      "8\n",
      "9\n",
      "10\n"
     ]
    }
   ],
   "source": [
    "n=1\n",
    "while(n!=11):\n",
    "    \n",
    "    print(n)\n",
    "    n=n+1"
   ]
  },
  {
   "cell_type": "code",
   "execution_count": 64,
   "id": "26f7045b-0676-4bd9-8e9b-6ceed2b048f7",
   "metadata": {},
   "outputs": [
    {
     "name": "stdin",
     "output_type": "stream",
     "text": [
      "Enter range of natural number 50\n"
     ]
    },
    {
     "name": "stdout",
     "output_type": "stream",
     "text": [
      "1\n",
      "2\n",
      "3\n",
      "4\n",
      "5\n",
      "6\n",
      "7\n",
      "8\n",
      "9\n",
      "10\n",
      "11\n",
      "12\n",
      "13\n",
      "14\n",
      "15\n",
      "16\n",
      "17\n",
      "18\n",
      "19\n",
      "20\n",
      "21\n",
      "22\n",
      "23\n",
      "24\n",
      "25\n",
      "26\n",
      "27\n",
      "28\n",
      "29\n",
      "30\n",
      "31\n",
      "32\n",
      "33\n",
      "34\n",
      "35\n",
      "36\n",
      "37\n",
      "38\n",
      "39\n",
      "40\n",
      "41\n",
      "42\n",
      "43\n",
      "44\n",
      "45\n",
      "46\n",
      "47\n",
      "48\n",
      "49\n",
      "50\n"
     ]
    }
   ],
   "source": [
    "i=1\n",
    "n=int(input(\"Enter range of natural number\"))\n",
    "while(i<=n):\n",
    "    print(i)\n",
    "    i=i+1"
   ]
  },
  {
   "cell_type": "code",
   "execution_count": null,
   "id": "cf1feba7-e744-4e43-ae5a-43df79aef4a3",
   "metadata": {},
   "outputs": [],
   "source": [
    "name=input(\"Enter name\")\n",
    "l=len(name)\n",
    "i=0\n",
    "while(i<l):\n",
    "    print(name[i],\"At :\",i)\n",
    "    i=i+1"
   ]
  },
  {
   "cell_type": "code",
   "execution_count": null,
   "id": "810621be-ed0c-47e3-a559-b7dfce26320c",
   "metadata": {},
   "outputs": [],
   "source": []
  }
 ],
 "metadata": {
  "kernelspec": {
   "display_name": "Python 3 (ipykernel)",
   "language": "python",
   "name": "python3"
  },
  "language_info": {
   "codemirror_mode": {
    "name": "ipython",
    "version": 3
   },
   "file_extension": ".py",
   "mimetype": "text/x-python",
   "name": "python",
   "nbconvert_exporter": "python",
   "pygments_lexer": "ipython3",
   "version": "3.10.10"
  }
 },
 "nbformat": 4,
 "nbformat_minor": 5
}
