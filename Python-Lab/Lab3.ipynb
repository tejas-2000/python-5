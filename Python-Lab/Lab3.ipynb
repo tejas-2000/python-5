{
 "cells": [
  {
   "cell_type": "markdown",
   "id": "b42fb7fe-ab4c-4806-9c67-ad3a09cb062c",
   "metadata": {},
   "source": [
    "## String slicing using third parameter"
   ]
  },
  {
   "cell_type": "code",
   "execution_count": 5,
   "id": "04744f99-f2b0-4369-9154-7ff8420cca93",
   "metadata": {},
   "outputs": [
    {
     "data": {
      "text/plain": [
       "'sdm c'"
      ]
     },
     "execution_count": 5,
     "metadata": {},
     "output_type": "execute_result"
    }
   ],
   "source": [
    "mystr=\"sdm college of engineering and technology\"\n",
    "mystr[0:5]"
   ]
  },
  {
   "cell_type": "code",
   "execution_count": 6,
   "id": "d94ce9ec-48aa-4a76-8cd8-fdc65e0baa4f",
   "metadata": {},
   "outputs": [
    {
     "data": {
      "text/plain": [
       "'sdm colleg'"
      ]
     },
     "execution_count": 6,
     "metadata": {},
     "output_type": "execute_result"
    }
   ],
   "source": [
    "mystr[0:10]"
   ]
  },
  {
   "cell_type": "code",
   "execution_count": 7,
   "id": "4914a0de-3d59-4e9c-a013-75288b227fc8",
   "metadata": {},
   "outputs": [
    {
     "data": {
      "text/plain": [
       "'smcle'"
      ]
     },
     "execution_count": 7,
     "metadata": {},
     "output_type": "execute_result"
    }
   ],
   "source": [
    "mystr[0:10:2] #using 3 parameter in this it will jump by two string............"
   ]
  },
  {
   "cell_type": "code",
   "execution_count": 8,
   "id": "4bb68751-378c-46a2-b626-85f9e3522f11",
   "metadata": {},
   "outputs": [
    {
     "data": {
      "text/plain": [
       "'sdm college of engineering and technology'"
      ]
     },
     "execution_count": 8,
     "metadata": {},
     "output_type": "execute_result"
    }
   ],
   "source": [
    "mystr"
   ]
  },
  {
   "cell_type": "code",
   "execution_count": 9,
   "id": "b8d987eb-4c3c-4d3f-8be6-50d737bf4a09",
   "metadata": {},
   "outputs": [
    {
     "name": "stdout",
     "output_type": "stream",
     "text": [
      "sdm college of engineering and technology\n"
     ]
    }
   ],
   "source": [
    "print(mystr)"
   ]
  },
  {
   "cell_type": "code",
   "execution_count": 12,
   "id": "8f2afa53-29d9-4df5-8c7e-c65b2a764c03",
   "metadata": {},
   "outputs": [
    {
     "data": {
      "text/plain": [
       "'ygolonhcet dna gnireenigne fo egelloc mds'"
      ]
     },
     "execution_count": 12,
     "metadata": {},
     "output_type": "execute_result"
    }
   ],
   "source": [
    "mystr[-1:-42:-1]"
   ]
  },
  {
   "cell_type": "code",
   "execution_count": 15,
   "id": "69471770-11cd-4217-88db-0f82e1a1dd74",
   "metadata": {},
   "outputs": [
    {
     "data": {
      "text/plain": [
       "0.2"
      ]
     },
     "execution_count": 15,
     "metadata": {},
     "output_type": "execute_result"
    }
   ],
   "source": [
    "2*pow(10,-1)"
   ]
  },
  {
   "cell_type": "code",
   "execution_count": 16,
   "id": "7435dd99-7521-40d6-bb4e-5041e81c0f5b",
   "metadata": {},
   "outputs": [
    {
     "data": {
      "text/plain": [
       "20"
      ]
     },
     "execution_count": 16,
     "metadata": {},
     "output_type": "execute_result"
    }
   ],
   "source": [
    "2*(10**1)"
   ]
  },
  {
   "cell_type": "code",
   "execution_count": 17,
   "id": "86293760-d0c4-4383-a525-9403deb3caa6",
   "metadata": {},
   "outputs": [
    {
     "data": {
      "text/plain": [
       "1000000000"
      ]
     },
     "execution_count": 17,
     "metadata": {},
     "output_type": "execute_result"
    }
   ],
   "source": [
    "10_00_00_00_00"
   ]
  },
  {
   "cell_type": "code",
   "execution_count": 18,
   "id": "b3e60f61-90d2-4d09-b751-97e642736a4d",
   "metadata": {},
   "outputs": [
    {
     "data": {
      "text/plain": [
       "0.6666666666666666"
      ]
     },
     "execution_count": 18,
     "metadata": {},
     "output_type": "execute_result"
    }
   ],
   "source": [
    "2/3\n"
   ]
  },
  {
   "cell_type": "code",
   "execution_count": 19,
   "id": "0ffaecd1-b093-4725-9116-63419489f5d5",
   "metadata": {},
   "outputs": [
    {
     "data": {
      "text/plain": [
       "0"
      ]
     },
     "execution_count": 19,
     "metadata": {},
     "output_type": "execute_result"
    }
   ],
   "source": [
    "2//3"
   ]
  },
  {
   "cell_type": "code",
   "execution_count": 20,
   "id": "81160e8f-60ca-4bc6-8bbe-f97b3520e0df",
   "metadata": {},
   "outputs": [
    {
     "ename": "SyntaxError",
     "evalue": "invalid syntax (407072566.py, line 1)",
     "output_type": "error",
     "traceback": [
      "\u001b[0;36m  Cell \u001b[0;32mIn[20], line 1\u001b[0;36m\u001b[0m\n\u001b[0;31m    2///3\u001b[0m\n\u001b[0m       ^\u001b[0m\n\u001b[0;31mSyntaxError\u001b[0m\u001b[0;31m:\u001b[0m invalid syntax\n"
     ]
    }
   ],
   "source": [
    "2///3"
   ]
  },
  {
   "cell_type": "code",
   "execution_count": 21,
   "id": "bc1430cb-c20b-440f-884b-d90a31082345",
   "metadata": {},
   "outputs": [
    {
     "data": {
      "text/plain": [
       "1"
      ]
     },
     "execution_count": 21,
     "metadata": {},
     "output_type": "execute_result"
    }
   ],
   "source": [
    "3//2"
   ]
  },
  {
   "cell_type": "code",
   "execution_count": 26,
   "id": "e9b2b1dc-d991-4738-b8ac-376bbd50dc4d",
   "metadata": {},
   "outputs": [
    {
     "name": "stdin",
     "output_type": "stream",
     "text": [
      "enter a number1 5\n",
      "enter a number2 10\n"
     ]
    },
    {
     "name": "stdout",
     "output_type": "stream",
     "text": [
      "Integer divison is 0\n",
      "normal divison is 0.5\n"
     ]
    }
   ],
   "source": [
    "n1=int(input(\"enter a number1\"))\n",
    "n2=int(input(\"enter a number2\"))\n",
    "result=n1//n2\n",
    "result2=n1/n2\n",
    "##f\"{n1}{n2} {result}\"\n",
    "print(\"Integer divison is\",result)\n",
    "print(\"normal divison is\",result2)"
   ]
  },
  {
   "cell_type": "code",
   "execution_count": 28,
   "id": "5f1fdb03-1819-49ba-a82a-e3f5295cf8ec",
   "metadata": {},
   "outputs": [
    {
     "name": "stdin",
     "output_type": "stream",
     "text": [
      "enter the value of p 1\n",
      "enter the value of q 1\n",
      "enter the value of r 1\n",
      "enter the value of s 1\n",
      "enter the value of x 1\n",
      "enter the value of y 1\n"
     ]
    },
    {
     "name": "stdout",
     "output_type": "stream",
     "text": [
      "the expressin is here 1.0\n"
     ]
    }
   ],
   "source": [
    "p=int(input(\"enter the value of p\"))\n",
    "q=int(input(\"enter the value of q\"))\n",
    "r=int(input(\"enter the value of r\"))\n",
    "s=int(input(\"enter the value of s\"))\n",
    "x=int(input(\"enter the value of x\"))\n",
    "y=int(input(\"enter the value of y\"))\n",
    "\n",
    "print(\"the expressin is here\",x*(y+(p*q)-r)/s)"
   ]
  },
  {
   "cell_type": "code",
   "execution_count": 30,
   "id": "8d32ab70-0bdc-420c-a1bf-b10c5eb38998",
   "metadata": {},
   "outputs": [
    {
     "name": "stdin",
     "output_type": "stream",
     "text": [
      "enter the value of a 2\n",
      "enter the value of b 2\n",
      "enter the value of d 2\n",
      "enter the value of e 2\n",
      "enter the value of f 2\n",
      "enter the value of c 2\n"
     ]
    },
    {
     "name": "stdout",
     "output_type": "stream",
     "text": [
      "the expression is here result -10\n"
     ]
    }
   ],
   "source": [
    "a = int(input(\"enter the value of a\"))\n",
    "b = int(input(\"enter the value of b\"))\n",
    "d= int(input(\"enter the value of d\"))\n",
    "e = int(input(\"enter the value of e\"))\n",
    "f = int(input(\"enter the value of f\"))\n",
    "c = int(input(\"enter the value of c\"))\n",
    "print(\"the expression is here result\",a-b*(c+d//e)*f)"
   ]
  },
  {
   "cell_type": "code",
   "execution_count": 32,
   "id": "e75e746a-7e7b-4b59-aa2b-136392e00e65",
   "metadata": {},
   "outputs": [
    {
     "name": "stdout",
     "output_type": "stream",
     "text": [
      "8\n"
     ]
    }
   ],
   "source": [
    "print(2*4)"
   ]
  },
  {
   "cell_type": "code",
   "execution_count": 34,
   "id": "416b08b5-c050-4d8f-bf11-bc1aafc15500",
   "metadata": {},
   "outputs": [
    {
     "data": {
      "text/plain": [
       "2"
      ]
     },
     "execution_count": 34,
     "metadata": {},
     "output_type": "execute_result"
    }
   ],
   "source": [
    "round(1.5)"
   ]
  },
  {
   "cell_type": "code",
   "execution_count": 37,
   "id": "5c83095e-2761-4146-9530-933022f793bf",
   "metadata": {},
   "outputs": [
    {
     "data": {
      "text/plain": [
       "10"
      ]
     },
     "execution_count": 37,
     "metadata": {},
     "output_type": "execute_result"
    }
   ],
   "source": [
    "round(10.5)"
   ]
  },
  {
   "cell_type": "code",
   "execution_count": 38,
   "id": "5ff8b5cb-5534-42df-b865-725ca1e550c8",
   "metadata": {},
   "outputs": [
    {
     "data": {
      "text/plain": [
       "10.44"
      ]
     },
     "execution_count": 38,
     "metadata": {},
     "output_type": "execute_result"
    }
   ],
   "source": [
    "round(10.444,2)"
   ]
  },
  {
   "cell_type": "code",
   "execution_count": 46,
   "id": "0a143b78-9597-40a8-bc2c-9f4c44b95ad1",
   "metadata": {},
   "outputs": [
    {
     "data": {
      "text/plain": [
       "'3.14 8 2000'"
      ]
     },
     "execution_count": 46,
     "metadata": {},
     "output_type": "execute_result"
    }
   ],
   "source": [
    "\"{} {} {}\".format(round(3.142,2),pow(2,3),(2*10**3))"
   ]
  },
  {
   "cell_type": "code",
   "execution_count": 50,
   "id": "60766b7c-ae02-472a-bdc9-e49d5b562b96",
   "metadata": {},
   "outputs": [
    {
     "name": "stdin",
     "output_type": "stream",
     "text": [
      "enter value x 5\n",
      "enter value y 4\n",
      "enter value z 7\n"
     ]
    },
    {
     "name": "stdout",
     "output_type": "stream",
     "text": [
      "2\n"
     ]
    }
   ],
   "source": [
    "x=int(input(\"enter value x\" ))\n",
    "y=int(input(\"enter value y\" ))\n",
    "z=int(input(\"enter value z\" ))\n",
    "##print(\"the expression is\",pow(x,y)%z)\n",
    "print((x**y)%z)"
   ]
  },
  {
   "cell_type": "code",
   "execution_count": null,
   "id": "0fde3ed7-7d6a-4216-ba6c-fc27a6b47d03",
   "metadata": {
    "editable": true,
    "slideshow": {
     "slide_type": ""
    },
    "tags": []
   },
   "outputs": [],
   "source": []
  }
 ],
 "metadata": {
  "kernelspec": {
   "display_name": "Python 3 (ipykernel)",
   "language": "python",
   "name": "python3"
  },
  "language_info": {
   "codemirror_mode": {
    "name": "ipython",
    "version": 3
   },
   "file_extension": ".py",
   "mimetype": "text/x-python",
   "name": "python",
   "nbconvert_exporter": "python",
   "pygments_lexer": "ipython3",
   "version": "3.10.10"
  }
 },
 "nbformat": 4,
 "nbformat_minor": 5
}
