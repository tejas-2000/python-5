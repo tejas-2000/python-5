{
 "cells": [
  {
   "cell_type": "markdown",
   "id": "4ef683b8-d322-4070-97cc-2d3fa1cd740b",
   "metadata": {},
   "source": [
    "<h1>NUMPY PROGRAMS</h1>"
   ]
  },
  {
   "cell_type": "markdown",
   "id": "ab8fe85e-afbe-4643-b8b8-a0d8f216a647",
   "metadata": {},
   "source": [
    "<H3>CREATING NUMPY</H3>"
   ]
  },
  {
   "cell_type": "code",
   "execution_count": 2,
   "id": "7b6e436c-206f-460e-ad9e-0e5c5b70ec01",
   "metadata": {},
   "outputs": [
    {
     "name": "stdout",
     "output_type": "stream",
     "text": [
      "[1 2 3]\n"
     ]
    }
   ],
   "source": [
    "import numpy as np\n",
    "a=np.array([1,2,3])\n",
    "print(a)"
   ]
  },
  {
   "cell_type": "code",
   "execution_count": 14,
   "id": "3b41f083-e836-4e82-9741-1d574ed6a0b4",
   "metadata": {},
   "outputs": [
    {
     "name": "stdout",
     "output_type": "stream",
     "text": [
      "[[1 2 3]\n",
      " [4 5 6]]\n"
     ]
    }
   ],
   "source": [
    "b=np.array([[1,2,3],[4,5,6]])\n",
    "print(b) "
   ]
  },
  {
   "cell_type": "code",
   "execution_count": 31,
   "id": "5a66eab2-6502-43a7-ae2d-ab20f25fc6e7",
   "metadata": {},
   "outputs": [
    {
     "name": "stdout",
     "output_type": "stream",
     "text": [
      "[[[1 2]\n",
      "  [3 4]\n",
      "  [5 6]]]\n"
     ]
    }
   ],
   "source": [
    "c=np.array([[[1,2],[3,4],[5,6]]])\n",
    "print(c)"
   ]
  },
  {
   "cell_type": "code",
   "execution_count": 5,
   "id": "47d98816-4566-44a4-9c07-63e75b6e3c4f",
   "metadata": {},
   "outputs": [
    {
     "name": "stdout",
     "output_type": "stream",
     "text": [
      "['1' '2' '3']\n",
      "[1. 2. 3.]\n"
     ]
    }
   ],
   "source": [
    "e=np.array([1,2,3],dtype=str)\n",
    "d=np.array([1,2,3],dtype=float)\n",
    "print(e)\n",
    "print(d)"
   ]
  },
  {
   "cell_type": "code",
   "execution_count": 10,
   "id": "9751def2-8bd8-4ce3-b647-f55f32bf0d3f",
   "metadata": {},
   "outputs": [
    {
     "data": {
      "text/plain": [
       "array([[ 1,  2,  3,  4,  5],\n",
       "       [ 6,  7,  8,  9, 10]])"
      ]
     },
     "execution_count": 10,
     "metadata": {},
     "output_type": "execute_result"
    }
   ],
   "source": [
    "np.arange(1,11,1).reshape(2,5)"
   ]
  },
  {
   "cell_type": "code",
   "execution_count": 12,
   "id": "a0f20d79-d21b-4493-8c9a-7060d31e9666",
   "metadata": {},
   "outputs": [
    {
     "data": {
      "text/plain": [
       "array([[1., 1., 1., 1.],\n",
       "       [1., 1., 1., 1.],\n",
       "       [1., 1., 1., 1.]])"
      ]
     },
     "execution_count": 12,
     "metadata": {},
     "output_type": "execute_result"
    }
   ],
   "source": [
    "np.ones((3,4))"
   ]
  },
  {
   "cell_type": "code",
   "execution_count": 13,
   "id": "953b1746-f387-4f14-8ac2-15f28850b1b7",
   "metadata": {},
   "outputs": [
    {
     "data": {
      "text/plain": [
       "array([[0., 0., 0., 0.],\n",
       "       [0., 0., 0., 0.],\n",
       "       [0., 0., 0., 0.]])"
      ]
     },
     "execution_count": 13,
     "metadata": {},
     "output_type": "execute_result"
    }
   ],
   "source": [
    "np.zeros((3,4))"
   ]
  },
  {
   "cell_type": "code",
   "execution_count": 14,
   "id": "df6b6e30-9c3e-43df-a8de-6048cc53ccf7",
   "metadata": {},
   "outputs": [
    {
     "data": {
      "text/plain": [
       "array([[0.8029546 , 0.05426577, 0.34826446, 0.56132297],\n",
       "       [0.62235178, 0.14903778, 0.01447662, 0.066523  ],\n",
       "       [0.93192623, 0.38251758, 0.33388632, 0.29769991]])"
      ]
     },
     "execution_count": 14,
     "metadata": {},
     "output_type": "execute_result"
    }
   ],
   "source": [
    "np.random.random((3,4))"
   ]
  },
  {
   "cell_type": "code",
   "execution_count": 18,
   "id": "74a2babe-b1ed-4350-9a8f-37ee0387972b",
   "metadata": {},
   "outputs": [
    {
     "data": {
      "text/plain": [
       "array([12.  , 12.25, 12.5 , 12.75, 13.  ])"
      ]
     },
     "execution_count": 18,
     "metadata": {},
     "output_type": "execute_result"
    }
   ],
   "source": [
    "np.linspace(12,13,5)\n",
    "# The total range is:\n",
    "# 13−12=1\n",
    "# There are \n",
    "# 5−1=4 intervals because there are 5 points.\n",
    "# The interval size (step size) is:\n",
    "# Step size=Range/Number of intervals=1/4=0.25\n",
    "# Result:\n",
    "# The function generates 5 evenly spaced points between 12 and 13. These are:\n",
    "# [12.0,12.25,12.5,12.75,13.0]\n",
    "# Starting at 12.0, each subsequent value increases by 0.25\n",
    "# 0.25:\n",
    "# 12.0+0.25=12.25\n",
    "# 12.5+0.25=12.75\n",
    "# 12.75+0.25=13.0 (stop value)\n",
    "\n"
   ]
  },
  {
   "cell_type": "code",
   "execution_count": 19,
   "id": "a6e7abf8-d327-4dca-bbda-e6df580f8694",
   "metadata": {},
   "outputs": [
    {
     "data": {
      "text/plain": [
       "array([[1., 0., 0.],\n",
       "       [0., 1., 0.],\n",
       "       [0., 0., 1.]])"
      ]
     },
     "execution_count": 19,
     "metadata": {},
     "output_type": "execute_result"
    }
   ],
   "source": [
    "np.identity(3)"
   ]
  },
  {
   "cell_type": "code",
   "execution_count": 27,
   "id": "95f99f1e-8b7b-4956-9de1-64e11a348328",
   "metadata": {},
   "outputs": [
    {
     "data": {
      "text/plain": [
       "array([[[ 0],\n",
       "        [ 1]],\n",
       "\n",
       "       [[ 2],\n",
       "        [ 3]],\n",
       "\n",
       "       [[ 4],\n",
       "        [ 5]],\n",
       "\n",
       "       [[ 6],\n",
       "        [ 7]],\n",
       "\n",
       "       [[ 8],\n",
       "        [ 9]],\n",
       "\n",
       "       [[10],\n",
       "        [11]]])"
      ]
     },
     "execution_count": 27,
     "metadata": {},
     "output_type": "execute_result"
    }
   ],
   "source": [
    "np.arange(12).reshape(6,2,1)"
   ]
  },
  {
   "cell_type": "code",
   "execution_count": 28,
   "id": "d004af88-d1af-4911-9d1b-f0d0ac419259",
   "metadata": {},
   "outputs": [
    {
     "data": {
      "text/plain": [
       "1"
      ]
     },
     "execution_count": 28,
     "metadata": {},
     "output_type": "execute_result"
    }
   ],
   "source": [
    "a.ndim"
   ]
  },
  {
   "cell_type": "code",
   "execution_count": 32,
   "id": "4167f482-1fde-4fde-b00b-b0ce8c43a543",
   "metadata": {},
   "outputs": [
    {
     "data": {
      "text/plain": [
       "3"
      ]
     },
     "execution_count": 32,
     "metadata": {},
     "output_type": "execute_result"
    }
   ],
   "source": [
    "c.ndim"
   ]
  },
  {
   "cell_type": "code",
   "execution_count": 36,
   "id": "8acf5d1e-269b-4191-be6f-07eda1cee9f3",
   "metadata": {},
   "outputs": [
    {
     "name": "stdout",
     "output_type": "stream",
     "text": [
      "(1, 3, 2)\n",
      "[[[1 2]\n",
      "  [3 4]\n",
      "  [5 6]]]\n"
     ]
    }
   ],
   "source": [
    "print(c.shape)\n",
    "print(c)"
   ]
  },
  {
   "cell_type": "code",
   "execution_count": 38,
   "id": "79659655-5dce-4fea-bec9-7a181c26eabf",
   "metadata": {},
   "outputs": [
    {
     "data": {
      "text/plain": [
       "array([1, 2, 3])"
      ]
     },
     "execution_count": 38,
     "metadata": {},
     "output_type": "execute_result"
    }
   ],
   "source": [
    "a.shape #3\n",
    "a"
   ]
  },
  {
   "cell_type": "code",
   "execution_count": 39,
   "id": "9bab7105-2946-498d-9e81-d0251ac9bd4e",
   "metadata": {},
   "outputs": [
    {
     "data": {
      "text/plain": [
       "6"
      ]
     },
     "execution_count": 39,
     "metadata": {},
     "output_type": "execute_result"
    }
   ],
   "source": [
    "c.size"
   ]
  },
  {
   "cell_type": "markdown",
   "id": "a2bc003d-ac38-467b-9aba-3cf8cdb68893",
   "metadata": {},
   "source": [
    "<h3>Array Operations</h3>"
   ]
  },
  {
   "cell_type": "code",
   "execution_count": 3,
   "id": "7eff85e1-944a-4b79-91bf-3c7f96d7038b",
   "metadata": {},
   "outputs": [],
   "source": [
    "import numpy as np\n",
    "a=np.arange(0,12).reshape(3,4)\n",
    "a1=np.arange(13,25).reshape(2,3,2)"
   ]
  },
  {
   "cell_type": "code",
   "execution_count": 49,
   "id": "a0f9cf89-e0a0-4790-b97b-b8eb1392754c",
   "metadata": {},
   "outputs": [
    {
     "data": {
      "text/plain": [
       "array([[False, False, False, False],\n",
       "       [False, False, False, False],\n",
       "       [ True,  True,  True,  True]])"
      ]
     },
     "execution_count": 49,
     "metadata": {},
     "output_type": "execute_result"
    }
   ],
   "source": [
    "a>7"
   ]
  },
  {
   "cell_type": "code",
   "execution_count": 50,
   "id": "b952f7c7-24fe-48c5-90cf-ed480f3a669f",
   "metadata": {},
   "outputs": [
    {
     "data": {
      "text/plain": [
       "array([[ 2,  3,  4,  5],\n",
       "       [ 6,  7,  8,  9],\n",
       "       [10, 11, 12, 13]])"
      ]
     },
     "execution_count": 50,
     "metadata": {},
     "output_type": "execute_result"
    }
   ],
   "source": [
    "a+2"
   ]
  },
  {
   "cell_type": "code",
   "execution_count": 51,
   "id": "29b6fce3-95b9-4710-a8e1-63d5f853e09a",
   "metadata": {},
   "outputs": [
    {
     "ename": "ValueError",
     "evalue": "operands could not be broadcast together with shapes (2,3,2) (3,4) ",
     "output_type": "error",
     "traceback": [
      "\u001b[1;31m---------------------------------------------------------------------------\u001b[0m",
      "\u001b[1;31mValueError\u001b[0m                                Traceback (most recent call last)",
      "Cell \u001b[1;32mIn[51], line 1\u001b[0m\n\u001b[1;32m----> 1\u001b[0m \u001b[43ma1\u001b[49m\u001b[38;5;241;43m+\u001b[39;49m\u001b[43ma\u001b[49m\n",
      "\u001b[1;31mValueError\u001b[0m: operands could not be broadcast together with shapes (2,3,2) (3,4) "
     ]
    }
   ],
   "source": [
    "a1+a"
   ]
  },
  {
   "cell_type": "code",
   "execution_count": 63,
   "id": "e2e704c2-b95c-4112-9d55-907a40527a03",
   "metadata": {},
   "outputs": [
    {
     "name": "stdout",
     "output_type": "stream",
     "text": [
      "[[[13 15]\n",
      "  [17 19]\n",
      "  [21 23]]\n",
      "\n",
      " [[25 27]\n",
      "  [29 31]\n",
      "  [33 35]]]\n",
      "19\n",
      "25\n"
     ]
    }
   ],
   "source": [
    "a1=np.arange(13,25).reshape(3,4)\n",
    "c=(a1+a).reshape(2,3,2)\n",
    "print(c)\n",
    "\n",
    "print(c[0,1,1])\n",
    "print(c[1,0,0])"
   ]
  },
  {
   "cell_type": "code",
   "execution_count": 5,
   "id": "fe4561ba-51b1-4332-a283-f3f1ac89faca",
   "metadata": {},
   "outputs": [
    {
     "data": {
      "text/plain": [
       "array([[[7, 3, 6, 1, 7, 2, 4, 8, 6, 3],\n",
       "        [1, 5, 9, 1, 6, 9, 2, 1, 6, 4],\n",
       "        [3, 8, 1, 4, 6, 5, 5, 9, 2, 5]],\n",
       "\n",
       "       [[9, 1, 2, 6, 1, 1, 2, 5, 3, 9],\n",
       "        [3, 5, 7, 9, 8, 3, 1, 7, 9, 8],\n",
       "        [8, 8, 4, 4, 7, 6, 5, 2, 9, 5]]], dtype=int32)"
      ]
     },
     "execution_count": 5,
     "metadata": {},
     "output_type": "execute_result"
    }
   ],
   "source": [
    "import numpy as py\n",
    "py.random.randint(1,10,60).reshape(2,3,10)"
   ]
  },
  {
   "cell_type": "code",
   "execution_count": 10,
   "id": "95896447-db82-4d73-8165-04ec6e0e88b7",
   "metadata": {},
   "outputs": [
    {
     "name": "stdout",
     "output_type": "stream",
     "text": [
      "[[[ 1  2  3]\n",
      "  [ 4  5  6]]\n",
      "\n",
      " [[ 7  8  9]\n",
      "  [10 11 12]]\n",
      "\n",
      " [[13 14 15]\n",
      "  [16 17 18]]]\n"
     ]
    }
   ],
   "source": [
    "matrix=np.arange(1,19,1).reshape(3,2,3) #rows columns elements\n",
    "print(matrix)"
   ]
  },
  {
   "cell_type": "code",
   "execution_count": 12,
   "id": "7f05cd5a-f156-410d-a2ba-30af8dc098fe",
   "metadata": {},
   "outputs": [
    {
     "name": "stdout",
     "output_type": "stream",
     "text": [
      "[[[ 1  2  3  4  5  6  7  8  9]\n",
      "  [10 11 12 13 14 15 16 17 18]]]\n"
     ]
    }
   ],
   "source": [
    "matrix2=np.arange(1,19,1).reshape(1,2,9)\n",
    "print(matrix2)"
   ]
  },
  {
   "cell_type": "code",
   "execution_count": 13,
   "id": "becdf606-4605-43cc-9d46-d4d0816edc9e",
   "metadata": {},
   "outputs": [
    {
     "name": "stdout",
     "output_type": "stream",
     "text": [
      "[[1 2 3]\n",
      " [4 5 6]\n",
      " [7 8 9]]\n",
      "[1 5 9]\n",
      "[1 2 3 4 5 6 7 8 9]\n",
      "1\n",
      "9\n",
      "5.0\n",
      "45\n"
     ]
    }
   ],
   "source": [
    "import numpy as np\n",
    "m1=np.array([[1,2,3],[4,5,6],[7,8,9]])\n",
    "print(m1)\n",
    "print(m1.diagonal())\n",
    "print(m1.flatten())\n",
    "print(m1.min())\n",
    "print(m1.max())\n",
    "print(m1.mean())\n",
    "print(m1.sum())"
   ]
  },
  {
   "cell_type": "code",
   "execution_count": 14,
   "id": "2b444a6a-1fe1-4ca2-a869-9a903024e9e4",
   "metadata": {},
   "outputs": [
    {
     "name": "stdout",
     "output_type": "stream",
     "text": [
      "[[1 2 3]\n",
      " [4 5 6]\n",
      " [7 8 9]]\n",
      "[[10 11 12]\n",
      " [13 14 15]\n",
      " [16 17 18]]\n",
      "[[ 1  2  3 10 11 12]\n",
      " [ 4  5  6 13 14 15]\n",
      " [ 7  8  9 16 17 18]]\n",
      "********************\n",
      "[[ 1  2  3]\n",
      " [ 4  5  6]\n",
      " [ 7  8  9]\n",
      " [10 11 12]\n",
      " [13 14 15]\n",
      " [16 17 18]]\n"
     ]
    }
   ],
   "source": [
    "m1=np.array([[1,2,3],[4,5,6],[7,8,9]])\n",
    "m2=np.array([[10,11,12],[13,14,15],[16,17,18]])\n",
    "print(m1)\n",
    "print(m2)\n",
    "print(np.hstack((m1,m2)))\n",
    "print(20*'*')\n",
    "print(np.vstack((m1,m2)))"
   ]
  },
  {
   "cell_type": "code",
   "execution_count": null,
   "id": "32a3e105-0d0f-4376-b8e2-2df248cb3901",
   "metadata": {},
   "outputs": [],
   "source": []
  }
 ],
 "metadata": {
  "kernelspec": {
   "display_name": "Python 3 (ipykernel)",
   "language": "python",
   "name": "python3"
  },
  "language_info": {
   "codemirror_mode": {
    "name": "ipython",
    "version": 3
   },
   "file_extension": ".py",
   "mimetype": "text/x-python",
   "name": "python",
   "nbconvert_exporter": "python",
   "pygments_lexer": "ipython3",
   "version": "3.12.6"
  }
 },
 "nbformat": 4,
 "nbformat_minor": 5
}
