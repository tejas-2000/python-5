{
 "cells": [
  {
   "cell_type": "markdown",
   "id": "b112dcc5-5d23-4ea4-b768-33358b180e82",
   "metadata": {},
   "source": [
    "<center><h2><b>NumPy library</b></h2></center>\n",
    "<h3><p>NumPy is a powerful <b>Python library</b> that makes working with large set of numbers much easier and faster. It provides a way to create and manipulate arrays, which are like lists but more efficient for numerical computations.</p></h3>"
   ]
  },
  {
   "cell_type": "markdown",
   "id": "f80250bf-efad-4bc4-91b0-21712c7abceb",
   "metadata": {},
   "source": [
    "### (1) Creation of nested list object"
   ]
  },
  {
   "cell_type": "code",
   "execution_count": 2,
   "id": "5f7b4252-dd5e-4034-aefa-c6695c882fb9",
   "metadata": {},
   "outputs": [
    {
     "name": "stdout",
     "output_type": "stream",
     "text": [
      "<class 'list'>\n"
     ]
    }
   ],
   "source": [
    "mat = [[2,4,6,8],[3,5,7,9],[12,14,16,18],[11,13,15,17]]\n",
    "print(type(mat))"
   ]
  },
  {
   "cell_type": "code",
   "execution_count": 3,
   "id": "963b274c-5fb8-41bd-844f-5f7281530bc9",
   "metadata": {},
   "outputs": [
    {
     "data": {
      "text/plain": [
       "14"
      ]
     },
     "execution_count": 3,
     "metadata": {},
     "output_type": "execute_result"
    }
   ],
   "source": [
    "mat[2][1]"
   ]
  },
  {
   "cell_type": "markdown",
   "id": "dedbecb7-4adc-420b-af0b-84f466328b4e",
   "metadata": {},
   "source": [
    "### (2) Multiplying array element"
   ]
  },
  {
   "cell_type": "code",
   "execution_count": 4,
   "id": "3b5da2c0-c7a0-4741-9e0a-f1422295952c",
   "metadata": {},
   "outputs": [
    {
     "data": {
      "text/plain": [
       "10"
      ]
     },
     "execution_count": 4,
     "metadata": {},
     "output_type": "execute_result"
    }
   ],
   "source": [
    "mat[1][1] * 2"
   ]
  },
  {
   "cell_type": "code",
   "execution_count": 7,
   "id": "3f81f27c-273f-4518-bb83-92b6b1fc68ea",
   "metadata": {},
   "outputs": [],
   "source": [
    "for row in mat:\n",
    "    for col in range(len(mat)):\n",
    "        row[col] = row[col] * 2"
   ]
  },
  {
   "cell_type": "code",
   "execution_count": null,
   "id": "6a619f2b-11fb-40f2-8664-382cb9a2408c",
   "metadata": {},
   "outputs": [],
   "source": [
    "mat"
   ]
  },
  {
   "cell_type": "markdown",
   "id": "d01a16d1-dd0c-4aba-a153-6e33fbcebcd9",
   "metadata": {},
   "source": [
    "### Array creation & slicing"
   ]
  },
  {
   "cell_type": "code",
   "execution_count": 2,
   "id": "faf3aad0-afe0-4c13-b019-fdf93ffd7d32",
   "metadata": {},
   "outputs": [
    {
     "data": {
      "text/plain": [
       "array([[6, 7]])"
      ]
     },
     "execution_count": 2,
     "metadata": {},
     "output_type": "execute_result"
    }
   ],
   "source": [
    "import numpy as py\n",
    "\n",
    "# a = py.array([1,2,3,4,5,6])\n",
    "a1 = py.array([[1,2],[4,5],[5,6],[6,7]])\n",
    "# py.shape(a)\n",
    "# print(a.ndim)\n",
    "# a[-1]\n",
    "a1[-1:-2:-1]\n",
    "# a[4:2:-1] # traversed in reverse order start and stop are positive but stepping is only -ve, so 5 is 4th index, and 4 is 3rd index"
   ]
  },
  {
   "cell_type": "markdown",
   "id": "43624d6c-ea91-44f0-96bc-8ffdb6d69f00",
   "metadata": {},
   "source": [
    "### Array creation and it's operations"
   ]
  },
  {
   "cell_type": "code",
   "execution_count": 10,
   "id": "5c77db6b-1d90-4301-909f-aa29d208e816",
   "metadata": {},
   "outputs": [
    {
     "data": {
      "text/plain": [
       "array([ True,  True,  True,  True,  True])"
      ]
     },
     "execution_count": 10,
     "metadata": {},
     "output_type": "execute_result"
    }
   ],
   "source": [
    "Nums = py.array([11,22,33,44,55])\n",
    "# Nums<20\n",
    "# Nums>15\n",
    "Nums != 10"
   ]
  },
  {
   "cell_type": "code",
   "execution_count": 11,
   "id": "1fb63f24-9697-4afb-a0a6-f00ee5cd5feb",
   "metadata": {},
   "outputs": [
    {
     "data": {
      "text/plain": [
       "array([[[9],\n",
       "        [6]],\n",
       "\n",
       "       [[8],\n",
       "        [3]],\n",
       "\n",
       "       [[8],\n",
       "        [4]]])"
      ]
     },
     "execution_count": 11,
     "metadata": {},
     "output_type": "execute_result"
    }
   ],
   "source": [
    "#Generate random integer with specified numbers between given range\n",
    "import numpy as py\n",
    "py.random.randint(1,10,6).reshape(3,2,1) # reshape(depth/level_of_array/No_of_2Darray, row, column)"
   ]
  },
  {
   "cell_type": "markdown",
   "id": "cfca3a26-38d3-4d8f-a417-f4681f54aa94",
   "metadata": {},
   "source": [
    "### Extracting the required array using slicing"
   ]
  },
  {
   "cell_type": "code",
   "execution_count": 3,
   "id": "52ff4812-f85f-4fa6-a4b2-ce7f1d47af5f",
   "metadata": {},
   "outputs": [
    {
     "name": "stdout",
     "output_type": "stream",
     "text": [
      "[[ 2  4  6  8 10]\n",
      " [ 1  3  5  7  9]\n",
      " [ 1  2  3  4  5]]\n",
      "\n",
      " After slicing:\n"
     ]
    },
    {
     "data": {
      "text/plain": [
       "array([[2, 4],\n",
       "       [1, 3],\n",
       "       [1, 2]])"
      ]
     },
     "execution_count": 3,
     "metadata": {},
     "output_type": "execute_result"
    }
   ],
   "source": [
    "TwoD_arr = py.array([[2,4,6,8,10],[1,3,5,7,9],[1,2,3,4,5]])\n",
    "print(TwoD_arr)\n",
    "print(\"\\n After slicing:\")\n",
    "# TwoD_arr[:3,:2].shape\n",
    "# TwoD_arr[1:3,1:3]\n",
    "TwoD_arr[:3,:2]"
   ]
  },
  {
   "cell_type": "markdown",
   "id": "6802e159-5f6c-4fa8-9cf0-7f151300b7f4",
   "metadata": {},
   "source": [
    "### (3) printing array in the form of matrix ($ pip3 install numpy)"
   ]
  },
  {
   "cell_type": "code",
   "execution_count": null,
   "id": "1c0eb45c-3c00-468c-a970-63f436091d4c",
   "metadata": {},
   "outputs": [],
   "source": [
    "import numpy as np\n",
    "matrix = np.array([[11,22,33],[44,55,66],[77,88,99]])\n",
    "print(type(matrix))\n",
    "print(matrix)"
   ]
  },
  {
   "cell_type": "code",
   "execution_count": null,
   "id": "e9105053-7c88-4426-a60d-0487adbcadff",
   "metadata": {},
   "outputs": [],
   "source": [
    "print(matrix)"
   ]
  },
  {
   "cell_type": "code",
   "execution_count": null,
   "id": "b18f564c-65c4-4e00-bd46-c309730ac38f",
   "metadata": {
    "scrolled": true
   },
   "outputs": [],
   "source": [
    "matrix[0][1]"
   ]
  },
  {
   "cell_type": "code",
   "execution_count": null,
   "id": "8321b834-c147-4c61-817b-8248cfd44e99",
   "metadata": {},
   "outputs": [],
   "source": [
    "matrix[0,1]"
   ]
  },
  {
   "cell_type": "markdown",
   "id": "e2883fc7-5eb7-4940-ad5d-1748f1b493a1",
   "metadata": {},
   "source": [
    "### (4) Creating array with different type"
   ]
  },
  {
   "cell_type": "code",
   "execution_count": null,
   "id": "834812ed-776e-456f-b69a-0ffc9abd70ad",
   "metadata": {},
   "outputs": [],
   "source": [
    "np.array([[1, 2, 3], ['a', 'b', 'c']])"
   ]
  },
  {
   "cell_type": "code",
   "execution_count": null,
   "id": "24e83866-87f8-4d93-ab6f-750f3d5f0236",
   "metadata": {},
   "outputs": [],
   "source": [
    "import numpy as np\n",
    "\n",
    "arr = np.array(['hello', 'world', 'numpy'])\n",
    "print(arr)\n",
    "# print(arr.reshape(3,1,1))"
   ]
  },
  {
   "cell_type": "code",
   "execution_count": null,
   "id": "ffd5fa6b-aa85-4c96-bcc6-52e67c01c634",
   "metadata": {},
   "outputs": [],
   "source": [
    "matrix = np.array([\n",
    "     [[1, 2, 3], [4, 5, 6]],\n",
    "    [[7, 8, 9], [10, 11, 12]],\n",
    "    [[13, 14, 15], [16, 17, 18]]\n",
    "])\n",
    "# print(type(matrix))\n",
    "print(matrix)\n",
    "# 3DArray_Indexing[2DArr_position][row][col] or 3DArray_Indexing[depth_index][row_index][column_index]\n",
    "print(matrix[0,1,2])"
   ]
  },
  {
   "cell_type": "code",
   "execution_count": null,
   "id": "84077991-91b4-4b0c-b9eb-c12fad61bffb",
   "metadata": {},
   "outputs": [],
   "source": [
    "print(matrix)"
   ]
  },
  {
   "cell_type": "code",
   "execution_count": null,
   "id": "e33715f8-18cc-4504-8f8d-f03409a41b02",
   "metadata": {},
   "outputs": [],
   "source": [
    "matrix[1][1][2]"
   ]
  },
  {
   "cell_type": "code",
   "execution_count": null,
   "id": "20bb8f91-16af-4cb5-ad39-47ba425c5453",
   "metadata": {},
   "outputs": [],
   "source": [
    "matrix[1, 1, 2]"
   ]
  },
  {
   "cell_type": "markdown",
   "id": "0a34f818-7dbb-4d63-9aa6-67962cbb5672",
   "metadata": {},
   "source": [
    "### (5) Array Operations"
   ]
  },
  {
   "cell_type": "code",
   "execution_count": null,
   "id": "9a8db46f-83a8-49f6-90ab-411653492017",
   "metadata": {},
   "outputs": [],
   "source": [
    "m1 = np.array([[11,22,11],[33,44,55]])\n",
    "print(m1.shape)\n",
    "# m1.ndim\n",
    "# m1.size\n",
    "print(m1)"
   ]
  },
  {
   "cell_type": "code",
   "execution_count": null,
   "id": "3f315e8c-c482-48d0-9c7e-9dc10739168e",
   "metadata": {},
   "outputs": [],
   "source": [
    "matrix = np.array([[1, 1, 1], [1, 1, 1], [1, 1, 1,]])\n",
    "2 * matrix"
   ]
  },
  {
   "cell_type": "code",
   "execution_count": null,
   "id": "c01386d5-a804-4061-8e33-055da45fd228",
   "metadata": {},
   "outputs": [],
   "source": [
    "second_matrix = np.array([[1, 1, 1], [1, 1, 1], [1, 1, 1]])\n",
    "second_matrix - matrix"
   ]
  },
  {
   "cell_type": "code",
   "execution_count": null,
   "id": "1efef40a-6278-4835-82a8-688b2c555c4c",
   "metadata": {},
   "outputs": [],
   "source": [
    "matrix = np.array([[1, 1, 1], [2, 2, 2], [3, 3, 3]]) # 1*1,1*1,1*1; 2*2,2*2,2*2, 3*3,3*3,3*3\n",
    "matrix * matrix"
   ]
  },
  {
   "cell_type": "code",
   "execution_count": null,
   "id": "2e58af4d-d5d2-4e21-b898-87719ad585c6",
   "metadata": {},
   "outputs": [],
   "source": [
    "matrix @ matrix"
   ]
  },
  {
   "cell_type": "code",
   "execution_count": null,
   "id": "9d4f731d-3921-4481-8b13-6e1eec9bb089",
   "metadata": {},
   "outputs": [],
   "source": [
    "np.matmul(matrix, matrix)"
   ]
  },
  {
   "cell_type": "markdown",
   "id": "7480feab-0564-4e97-9a73-2fc788245433",
   "metadata": {},
   "source": [
    "### (6) Common array operations"
   ]
  },
  {
   "cell_type": "code",
   "execution_count": null,
   "id": "47861f76-ca44-459c-9d97-6dc9417ad9a5",
   "metadata": {},
   "outputs": [],
   "source": [
    "Num_mat = np.array([[1, 2, 3], [4, 5, 6], [7, 8, 9]])\n",
    "# Get a tuple of axis length\n",
    "matrix.shape\n",
    "\n",
    "# Get an array of the diagonal entries\n",
    "matrix.diagonal()\n",
    "\n",
    "# Get a 1-dimensional array of all entries\n",
    "matrix.flatten()\n",
    "\n",
    "# Get the transpose of an array\n",
    "matrix.transpose()\n",
    "\n",
    "# Calculate the minimum entry\n",
    "matrix.min()\n",
    "\n",
    "# Calculate the maximum entry\n",
    "matrix.max()\n",
    "\n",
    "# Calculate the average value of all entries\n",
    "matrix.mean()\n",
    "\n",
    "# Calculate the sum of all entries\n",
    "matrix.sum()"
   ]
  },
  {
   "attachments": {},
   "cell_type": "markdown",
   "id": "49e4be26-87d1-4183-a20d-c5c7108c6931",
   "metadata": {},
   "source": [
    "## (7) Stacking and Shaping Arrays: Two arrays can be stacked <b>vertically</b> using np.vstack() or <b>horizontally</b> using np.hstack() if their axis sizes match:"
   ]
  },
  {
   "cell_type": "code",
   "execution_count": 5,
   "id": "ef540836-bf5f-4297-811f-b2397ee99aa1",
   "metadata": {},
   "outputs": [
    {
     "data": {
      "text/plain": [
       "array([[ 1,  2,  3],\n",
       "       [ 4,  5,  6],\n",
       "       [ 7,  8,  9],\n",
       "       [10, 11, 12],\n",
       "       [13, 14, 15],\n",
       "       [16, 17, 18]])"
      ]
     },
     "execution_count": 5,
     "metadata": {},
     "output_type": "execute_result"
    }
   ],
   "source": [
    "import numpy as np\n",
    "Mat_A = np.array([[1, 2, 3], [4, 5, 6], [7, 8, 9]])\n",
    "Mat_B = np.array([[10, 11, 12], [13, 14, 15], [16, 17, 18]])\n",
    "\n",
    "#print array in vertically\n",
    "np.hstack((Mat_A, Mat_B))\n",
    "np.vstack((Mat_A, Mat_B))"
   ]
  },
  {
   "cell_type": "code",
   "execution_count": 11,
   "id": "3872327f-bc07-4e72-8ae6-665de73a010e",
   "metadata": {
    "scrolled": true
   },
   "outputs": [
    {
     "data": {
      "text/plain": [
       "array([[ 1,  2,  3, 10, 11, 12],\n",
       "       [ 4,  5,  6, 13, 14, 15],\n",
       "       [ 7,  8,  9, 16, 17, 18]])"
      ]
     },
     "execution_count": 11,
     "metadata": {},
     "output_type": "execute_result"
    }
   ],
   "source": [
    "#print array in horizontally\n",
    "np.hstack((Mat_A, Mat_B))\n",
    "# np.hstack([Mat_B])"
   ]
  },
  {
   "cell_type": "code",
   "execution_count": null,
   "id": "842cee08-f033-4a32-8b10-592c447bfd2d",
   "metadata": {},
   "outputs": [],
   "source": [
    "Mat_A.reshape(9,1)"
   ]
  },
  {
   "cell_type": "markdown",
   "id": "aedd856a-1ecd-4c95-a03e-1be1b9622998",
   "metadata": {},
   "source": [
    "### (8) arange() function in Numpy"
   ]
  },
  {
   "cell_type": "code",
   "execution_count": 15,
   "id": "e8170785-be48-4ac5-a100-33800660bfa5",
   "metadata": {},
   "outputs": [
    {
     "data": {
      "text/plain": [
       "array([ 1,  4,  7, 10])"
      ]
     },
     "execution_count": 15,
     "metadata": {},
     "output_type": "execute_result"
    }
   ],
   "source": [
    "import numpy\n",
    "Seq_mat = numpy.arange(1,13,3)\n",
    "# print(Seq_mat)\n",
    "Seq_mat"
   ]
  },
  {
   "cell_type": "markdown",
   "id": "e90ea182-95d9-486e-8a10-210173bcaa1e",
   "metadata": {},
   "source": [
    "### (9) arange() with stepping value"
   ]
  },
  {
   "cell_type": "code",
   "execution_count": 16,
   "id": "3bffda06-c1a1-4319-b79d-815e3cf99da3",
   "metadata": {},
   "outputs": [
    {
     "data": {
      "text/plain": [
       "array([[[ 1,  2],\n",
       "        [ 3,  4]],\n",
       "\n",
       "       [[ 5,  6],\n",
       "        [ 7,  8]],\n",
       "\n",
       "       [[ 9, 10],\n",
       "        [11, 12]]])"
      ]
     },
     "execution_count": 16,
     "metadata": {},
     "output_type": "execute_result"
    }
   ],
   "source": [
    "np.arange(1, 13).reshape(3, 2, 2)"
   ]
  },
  {
   "cell_type": "markdown",
   "id": "4a37f398-5335-4b29-ba46-5502e0136e48",
   "metadata": {},
   "source": [
    "### (10) create an array with random numbers"
   ]
  },
  {
   "cell_type": "code",
   "execution_count": null,
   "id": "fd245667-7f0c-425b-bbef-8a40efe67eed",
   "metadata": {},
   "outputs": [],
   "source": [
    "numpy.random.random([2,2])"
   ]
  },
  {
   "cell_type": "markdown",
   "id": "8e306c0c-c2a5-40b7-a028-2ff955e23b0b",
   "metadata": {},
   "source": [
    "###### <center><h1>Simple Problems<h1></center>"
   ]
  },
  {
   "cell_type": "markdown",
   "id": "08f638b1-504d-4a98-a1fc-a695d8282627",
   "metadata": {},
   "source": [
    "## (1) Create a 3 × 3 array named first_matrix that includes the numbers 3 through 11 by using arange() function and  reshape the array object"
   ]
  },
  {
   "cell_type": "code",
   "execution_count": 18,
   "id": "3cc05328-6217-487b-8549-d0e8ee76fade",
   "metadata": {},
   "outputs": [
    {
     "name": "stdout",
     "output_type": "stream",
     "text": [
      "[[ 3  4  5]\n",
      " [ 6  7  8]\n",
      " [ 9 10 11]]\n"
     ]
    }
   ],
   "source": [
    "import numpy as np\n",
    "\n",
    "# Create a NumPy array with numbers from 3 to 11\n",
    "numbers = np.arange(3, 12)\n",
    "\n",
    "# Reshape the array into a 3x3 matrix\n",
    "first_matrix = numbers.reshape(3, 3)\n",
    "\n",
    "print(first_matrix)"
   ]
  },
  {
   "cell_type": "markdown",
   "id": "b6116736-6155-4c20-b4f0-2982bfdc8849",
   "metadata": {},
   "source": [
    "### (2) Find array mean."
   ]
  },
  {
   "cell_type": "code",
   "execution_count": 15,
   "id": "f20e177f-d5ce-48d2-a1bc-c3e0a0c636fe",
   "metadata": {
    "jupyter": {
     "source_hidden": true
    }
   },
   "outputs": [
    {
     "name": "stdout",
     "output_type": "stream",
     "text": [
      "Array: [11 22 33 44 55]\n",
      "Mean: 33.0\n"
     ]
    }
   ],
   "source": [
    "import numpy as np\n",
    "\n",
    "# Create a NumPy array\n",
    "arr = np.array([11,22,33,44,55])\n",
    "# arr = np.random.random([2,3])\n",
    "\n",
    "# Calculate the mean of the array\n",
    "mean_value = np.mean(arr)\n",
    "\n",
    "print(\"Array:\", arr)\n",
    "print(\"Mean:\", mean_value)"
   ]
  },
  {
   "cell_type": "markdown",
   "id": "d10b2100-77aa-4104-9b3a-a03c1f97e001",
   "metadata": {},
   "source": [
    "### (3) Display the minimum, maximum and mean of all entries in first_matrix."
   ]
  },
  {
   "cell_type": "code",
   "execution_count": 20,
   "id": "fc817ae2-601a-4d01-a58c-fbee66e707d7",
   "metadata": {
    "jupyter": {
     "source_hidden": true
    }
   },
   "outputs": [
    {
     "name": "stdout",
     "output_type": "stream",
     "text": [
      "Min is 3\n",
      "Max is 11\n",
      "Mean is 7.0\n"
     ]
    }
   ],
   "source": [
    "# Display the min, max and mean of all entries in the matrix\n",
    "print(f\"Min is {first_matrix.min()}\")\n",
    "print(f\"Max is {first_matrix.max()}\")\n",
    "print(f\"Mean is {first_matrix.mean()}\")"
   ]
  },
  {
   "cell_type": "markdown",
   "id": "abbb0b9d-c1d6-45ea-b318-425ac5b395a8",
   "metadata": {
    "jp-MarkdownHeadingCollapsed": true
   },
   "source": [
    "### (4) Square every entry in first_matrix using the ** operator, and save the results in an array named second_matrix."
   ]
  },
  {
   "cell_type": "code",
   "execution_count": 21,
   "id": "35327270-70bf-42bf-8c7c-79e94c3a3992",
   "metadata": {},
   "outputs": [],
   "source": [
    "# Square every entry and save in a new matrix\n",
    "second_matrix = first_matrix**2"
   ]
  },
  {
   "cell_type": "markdown",
   "id": "93894455-c86f-4bcf-bf2f-9f4495c985bc",
   "metadata": {},
   "source": [
    "### (5) Stack first_matrix on top of second_matrix and save the results in an array named third_matrix. Also Test by placing them side-by-side"
   ]
  },
  {
   "cell_type": "code",
   "execution_count": 22,
   "id": "5feeb719-e631-4ce0-8c03-63447430113d",
   "metadata": {},
   "outputs": [],
   "source": [
    "# Put first_matrix on top of second_matrix\n",
    "third_matrix = np.vstack([first_matrix, second_matrix])"
   ]
  },
  {
   "cell_type": "code",
   "execution_count": null,
   "id": "7b18b888-5c12-4355-80bf-26661c4f334b",
   "metadata": {},
   "outputs": [],
   "source": [
    "third_matrix"
   ]
  },
  {
   "cell_type": "markdown",
   "id": "8ada3cd4-7d5e-40b1-b7e5-203c419f67b1",
   "metadata": {},
   "source": [
    "### (6) Use the @ operator to calculate the matrix product of third_matrix by first_matrix."
   ]
  },
  {
   "cell_type": "code",
   "execution_count": 23,
   "id": "c5001e8f-0158-4467-8e7c-a49c6cdeb9f2",
   "metadata": {},
   "outputs": [
    {
     "name": "stdout",
     "output_type": "stream",
     "text": [
      "[[  78   90  102]\n",
      " [ 132  153  174]\n",
      " [ 186  216  246]\n",
      " [ 348  398  448]\n",
      " [ 978 1127 1276]\n",
      " [1932 2234 2536]]\n"
     ]
    }
   ],
   "source": [
    "# Calculate the dot product of third_matrix by first_matrix\n",
    "print(third_matrix @ first_matrix)"
   ]
  },
  {
   "cell_type": "markdown",
   "id": "2088fd0e-8dda-4e26-86db-480d23417a93",
   "metadata": {},
   "source": [
    "### (7) Reshape third_matrix into an array of dimensions 3 × 3 × 2."
   ]
  },
  {
   "cell_type": "code",
   "execution_count": 24,
   "id": "c1b923d0-9e27-4cdd-ba10-9c51e471a801",
   "metadata": {},
   "outputs": [
    {
     "name": "stdout",
     "output_type": "stream",
     "text": [
      "[[[  3   4]\n",
      "  [  5   6]\n",
      "  [  7   8]]\n",
      "\n",
      " [[  9  10]\n",
      "  [ 11   9]\n",
      "  [ 16  25]]\n",
      "\n",
      " [[ 36  49]\n",
      "  [ 64  81]\n",
      "  [100 121]]]\n"
     ]
    }
   ],
   "source": [
    "# Reshape third_matrix into a 3x3x2 matrix: reshape(dimension x row x column)\n",
    "third_matrix = third_matrix.reshape(3, 3, 2)\n",
    "print(third_matrix)\n"
   ]
  },
  {
   "cell_type": "code",
   "execution_count": null,
   "id": "6b4fe874-1e10-4ff8-aefe-9209b91f1ed5",
   "metadata": {},
   "outputs": [],
   "source": [
    "third_matrix.ndim"
   ]
  }
 ],
 "metadata": {
  "kernelspec": {
   "display_name": "Python 3",
   "language": "python",
   "name": "python3"
  },
  "language_info": {
   "codemirror_mode": {
    "name": "ipython",
    "version": 3
   },
   "file_extension": ".py",
   "mimetype": "text/x-python",
   "name": "python",
   "nbconvert_exporter": "python",
   "pygments_lexer": "ipython3",
   "version": "3.12.6"
  }
 },
 "nbformat": 4,
 "nbformat_minor": 5
}
