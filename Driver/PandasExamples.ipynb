{
 "cells": [
  {
   "cell_type": "markdown",
   "id": "91f9e3ff-4d2e-4ed8-99e3-3b6ba58d6217",
   "metadata": {},
   "source": [
    "<center><b><h1>Pandas Library<h5>$pip install pandas [or] !pip install pandas</h5></h1></b></center>\n"
   ]
  },
  {
   "cell_type": "markdown",
   "id": "4799e3b8-38f2-451b-bd8b-07b5d819b58e",
   "metadata": {},
   "source": [
    "### (1) Creating Series & dataframes"
   ]
  },
  {
   "cell_type": "code",
   "execution_count": 1,
   "id": "c259fa6d-dee7-4107-a93b-09311d351b76",
   "metadata": {},
   "outputs": [],
   "source": [
    "import pandas as pd\n"
   ]
  },
  {
   "cell_type": "code",
   "execution_count": 2,
   "id": "0bad73aa-be9c-490a-9aa9-1537c46578f3",
   "metadata": {},
   "outputs": [
    {
     "name": "stdout",
     "output_type": "stream",
     "text": [
      "<class 'pandas.core.series.Series'>\n"
     ]
    }
   ],
   "source": [
    "import pandas as pd\n",
    "ss = pd.Series([1,2,3,4,5])\n",
    "ss\n",
    "print(type(ss))"
   ]
  },
  {
   "cell_type": "markdown",
   "id": "3308ee44-e249-416a-972d-07843d1233f3",
   "metadata": {},
   "source": [
    "### (2) Series with customized index"
   ]
  },
  {
   "cell_type": "code",
   "execution_count": 7,
   "id": "2f6847f0-1afa-46cc-b56b-220105468444",
   "metadata": {},
   "outputs": [
    {
     "data": {
      "text/plain": [
       "0    False\n",
       "1    False\n",
       "2     True\n",
       "3     True\n",
       "4    False\n",
       "5     True\n",
       "6    False\n",
       "7     True\n",
       "8    False\n",
       "Name: Marks, dtype: bool"
      ]
     },
     "execution_count": 7,
     "metadata": {},
     "output_type": "execute_result"
    }
   ],
   "source": [
    "ss = pd.Series([1,2,2,2,3,3,4,4,5], name='Marks')\n",
    "#print(ss)\n",
    "ss.duplicated()"
   ]
  },
  {
   "cell_type": "markdown",
   "id": "c406212d-aedf-4274-a94d-c69268a2f97e",
   "metadata": {},
   "source": [
    "### (3) Basic Mathematical operations on searies"
   ]
  },
  {
   "cell_type": "code",
   "execution_count": 11,
   "id": "d94a7de7-0313-4503-af92-413ecc864e86",
   "metadata": {},
   "outputs": [
    {
     "data": {
      "text/plain": [
       "Series([], Name: Marks, dtype: int64)"
      ]
     },
     "execution_count": 11,
     "metadata": {},
     "output_type": "execute_result"
    }
   ],
   "source": [
    "#ss[1:5]\n",
    "# ss + 2\n",
    "# ss * 2\n",
    "# ss + ss\n",
    "ss.loc[11:33]\n",
    "# ss.head()\n",
    "# ss"
   ]
  },
  {
   "cell_type": "markdown",
   "id": "f74d727d-6fb0-464e-bc12-ec444c7116c5",
   "metadata": {},
   "source": [
    "### (4) Creating a dataframe with multiple series"
   ]
  },
  {
   "cell_type": "code",
   "execution_count": 12,
   "id": "55bfc5e2-ee6f-44e0-8d7f-29925a3fd26e",
   "metadata": {},
   "outputs": [
    {
     "data": {
      "text/html": [
       "<div>\n",
       "<style scoped>\n",
       "    .dataframe tbody tr th:only-of-type {\n",
       "        vertical-align: middle;\n",
       "    }\n",
       "\n",
       "    .dataframe tbody tr th {\n",
       "        vertical-align: top;\n",
       "    }\n",
       "\n",
       "    .dataframe thead th {\n",
       "        text-align: right;\n",
       "    }\n",
       "</style>\n",
       "<table border=\"1\" class=\"dataframe\">\n",
       "  <thead>\n",
       "    <tr style=\"text-align: right;\">\n",
       "      <th></th>\n",
       "      <th>apples</th>\n",
       "      <th>oranges</th>\n",
       "    </tr>\n",
       "  </thead>\n",
       "  <tbody>\n",
       "    <tr>\n",
       "      <th>0</th>\n",
       "      <td>3</td>\n",
       "      <td>0</td>\n",
       "    </tr>\n",
       "    <tr>\n",
       "      <th>1</th>\n",
       "      <td>2</td>\n",
       "      <td>3</td>\n",
       "    </tr>\n",
       "    <tr>\n",
       "      <th>2</th>\n",
       "      <td>0</td>\n",
       "      <td>7</td>\n",
       "    </tr>\n",
       "    <tr>\n",
       "      <th>3</th>\n",
       "      <td>1</td>\n",
       "      <td>2</td>\n",
       "    </tr>\n",
       "  </tbody>\n",
       "</table>\n",
       "</div>"
      ],
      "text/plain": [
       "   apples  oranges\n",
       "0       3        0\n",
       "1       2        3\n",
       "2       0        7\n",
       "3       1        2"
      ]
     },
     "execution_count": 12,
     "metadata": {},
     "output_type": "execute_result"
    }
   ],
   "source": [
    "import pandas as pd\n",
    "data = {\n",
    "    'apples': [3, 2, 0, 1], \n",
    "    'oranges': [0, 3, 7, 2]\n",
    "}\n",
    "purchases = pd.DataFrame(data)\n",
    "purchases"
   ]
  },
  {
   "cell_type": "markdown",
   "id": "65d51a93-50bb-48f6-bd3f-e77c5f2fdc62",
   "metadata": {},
   "source": [
    "### (5) Customize index and locate customer Order"
   ]
  },
  {
   "cell_type": "code",
   "execution_count": 13,
   "id": "92b97072-d65a-462e-8743-22bc9e39e8f2",
   "metadata": {},
   "outputs": [
    {
     "name": "stdout",
     "output_type": "stream",
     "text": [
      "        apples  oranges\n",
      "Mick         3        0\n",
      "Robert       2        3\n",
      "Lily         0        7\n",
      "David        1        2 \n",
      "\n",
      "~~~Customer order:~~~\n",
      "apples     3\n",
      "oranges    0\n",
      "Name: Mick, dtype: int64\n"
     ]
    }
   ],
   "source": [
    "purchases = pd.DataFrame(data, index=['Mick', 'Robert', 'Lily', 'David'])\n",
    "print(purchases,\"\\n\")\n",
    "print('~~~Customer order:~~~')\n",
    "print(purchases.loc['Mick'])\n",
    "# purchases.loc()"
   ]
  },
  {
   "cell_type": "markdown",
   "id": "8f0a1f2a-35c1-4360-9bff-f48a11967bf5",
   "metadata": {},
   "source": [
    "### (6) Reading data from the csv file"
   ]
  },
  {
   "cell_type": "code",
   "execution_count": null,
   "id": "f50621f1-b2d4-42b7-b8e0-201e3574dbf4",
   "metadata": {},
   "outputs": [],
   "source": [
    "df = pd.read_csv('city_temperatures.csv')\n",
    "print(df)"
   ]
  },
  {
   "cell_type": "code",
   "execution_count": 18,
   "id": "23f910e5-e720-4ff1-9f5c-37913feb7144",
   "metadata": {
    "scrolled": true
   },
   "outputs": [
    {
     "name": "stdout",
     "output_type": "stream",
     "text": [
      "           Temp\n",
      "City           \n",
      "Delhi        32\n",
      "Mumbai       28\n",
      "Kolkata      30\n",
      "Chennai      35\n",
      "Bangalore    25\n"
     ]
    }
   ],
   "source": [
    "df = pd.read_csv('city_temperatures.csv', index_col=0)\n",
    "print(df)\n",
    "# TempData = pd.read_csv(\"city_temperatures.csv\", index_col=1)\n",
    "# print(TempData)"
   ]
  },
  {
   "cell_type": "markdown",
   "id": "429c40b3-50a9-4ca5-9bdc-9370c99bb565",
   "metadata": {},
   "source": [
    "### (7) Viewing specified number of rows using head() function"
   ]
  },
  {
   "cell_type": "code",
   "execution_count": 21,
   "id": "1027b56c-6f69-4eb7-8a1e-39bf0108d766",
   "metadata": {},
   "outputs": [
    {
     "data": {
      "text/html": [
       "<div>\n",
       "<style scoped>\n",
       "    .dataframe tbody tr th:only-of-type {\n",
       "        vertical-align: middle;\n",
       "    }\n",
       "\n",
       "    .dataframe tbody tr th {\n",
       "        vertical-align: top;\n",
       "    }\n",
       "\n",
       "    .dataframe thead th {\n",
       "        text-align: right;\n",
       "    }\n",
       "</style>\n",
       "<table border=\"1\" class=\"dataframe\">\n",
       "  <thead>\n",
       "    <tr style=\"text-align: right;\">\n",
       "      <th></th>\n",
       "      <th>City</th>\n",
       "      <th>Temp</th>\n",
       "    </tr>\n",
       "  </thead>\n",
       "  <tbody>\n",
       "    <tr>\n",
       "      <th>0</th>\n",
       "      <td>Delhi</td>\n",
       "      <td>32</td>\n",
       "    </tr>\n",
       "    <tr>\n",
       "      <th>1</th>\n",
       "      <td>Mumbai</td>\n",
       "      <td>28</td>\n",
       "    </tr>\n",
       "    <tr>\n",
       "      <th>2</th>\n",
       "      <td>Kolkata</td>\n",
       "      <td>30</td>\n",
       "    </tr>\n",
       "  </tbody>\n",
       "</table>\n",
       "</div>"
      ],
      "text/plain": [
       "      City   Temp\n",
       "0    Delhi     32\n",
       "1   Mumbai     28\n",
       "2  Kolkata     30"
      ]
     },
     "execution_count": 21,
     "metadata": {},
     "output_type": "execute_result"
    }
   ],
   "source": [
    "# df.head(4)\n",
    "TempData.head(3)"
   ]
  },
  {
   "cell_type": "markdown",
   "id": "a18e79e2-7ca0-4300-8561-f87675de57ec",
   "metadata": {},
   "source": [
    "### (8) To view last 'N' rows using tail() function "
   ]
  },
  {
   "cell_type": "code",
   "execution_count": null,
   "id": "7c32fee0-f156-4ea5-a3c9-cb8a05fb74dc",
   "metadata": {},
   "outputs": [],
   "source": [
    "TempData.tail(2)"
   ]
  },
  {
   "cell_type": "markdown",
   "id": "105f4c11-ee7d-4a62-9691-45449b3b9f7f",
   "metadata": {},
   "source": [
    "### (9) print information about a DataFrame - The index dtype and columns, non-null values and memory usage."
   ]
  },
  {
   "cell_type": "code",
   "execution_count": 15,
   "id": "162983d3-244b-4bf3-97cc-20eca0619a60",
   "metadata": {},
   "outputs": [
    {
     "name": "stdout",
     "output_type": "stream",
     "text": [
      "~~~~~~~~Base Data~~~~\n",
      "        City   Temp\n",
      "0      Delhi     32\n",
      "1     Mumbai     28\n",
      "2    Kolkata     30\n",
      "3    Chennai     35\n",
      "4  Bangalore     25\n",
      "<class 'pandas.core.frame.DataFrame'>\n",
      "RangeIndex: 5 entries, 0 to 4\n",
      "Data columns (total 2 columns):\n",
      " #   Column  Non-Null Count  Dtype \n",
      "---  ------  --------------  ----- \n",
      " 0   City    5 non-null      object\n",
      " 1    Temp   5 non-null      int64 \n",
      "dtypes: int64(1), object(1)\n",
      "memory usage: 212.0+ bytes\n"
     ]
    }
   ],
   "source": [
    "TempData = pd.read_csv(\"city_temperatures.csv\")\n",
    "print('~~~~~~~~Base Data~~~~')\n",
    "print(TempData)\n",
    "TempData.info()"
   ]
  },
  {
   "cell_type": "markdown",
   "id": "2da9986b-903f-4a55-97eb-1b911b89ad70",
   "metadata": {},
   "source": [
    "### (10) The dimensionality of the DataFrame"
   ]
  },
  {
   "cell_type": "code",
   "execution_count": 16,
   "id": "70c04856-3035-4e0f-bf0a-72b5ca8c14d7",
   "metadata": {},
   "outputs": [
    {
     "data": {
      "text/plain": [
       "(5, 2)"
      ]
     },
     "execution_count": 16,
     "metadata": {},
     "output_type": "execute_result"
    }
   ],
   "source": [
    "TempData.shape"
   ]
  },
  {
   "cell_type": "markdown",
   "id": "06629edd-3b16-4d51-8eb0-f3234fed033d",
   "metadata": {},
   "source": [
    "### (11) Handling duplicates --> Return boolean Series denoting duplicate rows."
   ]
  },
  {
   "cell_type": "code",
   "execution_count": 30,
   "id": "99e9d853-e3f5-4847-8741-4a20574f6f11",
   "metadata": {},
   "outputs": [
    {
     "name": "stdout",
     "output_type": "stream",
     "text": [
      "    name  age  salary\n",
      "0  Vinay   25   50000\n",
      "1  Vivek   28   60000\n",
      "2  Vinay   25   50000\n",
      "3  Vinod   30   70000\n",
      "4  Vinay   25   50000 \n",
      "\n",
      "Duplicate elements\n",
      "    name  age  salary\n",
      "2  Vinay   25   50000\n",
      "4  Vinay   25   50000\n"
     ]
    }
   ],
   "source": [
    "Empdf = pd.DataFrame({\n",
    "     'name': ['Vinay', 'Vivek', 'Vinay', 'Vinod', 'Vinay'],\n",
    "     'age': [25, 28, 25, 30, 25],\n",
    "     'salary': [50000, 60000, 50000, 70000, 50000]\n",
    "})\n",
    "# Empdf = pd.concat([Empdf,Empdf])\n",
    "print(Empdf,\"\\n\")\n",
    "print(\"Duplicate elements\")\n",
    "# Empdf.duplicated()\n",
    "# print(Empdf.drop_duplicates()) #To drop the duplicate rows\n",
    "firstrow = Empdf.duplicated(keep = 'first')\n",
    "firstrow\n",
    "# duplicates=Empdf[firstrow]\n",
    "# print(duplicates)\n",
    "#inplace=False: The method creates a modified copy of the object and returns it, leaving the original object unchanged. \n",
    "#inplace=True: The method modifies the original object directly, without returning anything (None is returned).\n",
    "# print(Empdf.drop_duplicates(inplace=False))\n",
    "# Empdf"
   ]
  },
  {
   "cell_type": "markdown",
   "id": "1a93d52f-8683-4303-8d00-b4a161e6a2f5",
   "metadata": {},
   "source": [
    "### (12) To find duplicates on specific column(s)->use subset."
   ]
  },
  {
   "cell_type": "code",
   "execution_count": null,
   "id": "7cb36a7d-f918-430e-9c30-5b6cab5bdeb4",
   "metadata": {},
   "outputs": [],
   "source": [
    "# Empdf.duplicated(subset=['salary'])\n",
    "# Empdf.duplicated(subset=['age'])\n",
    "# Empdf.duplicated(subset=['name'])"
   ]
  },
  {
   "cell_type": "markdown",
   "id": "7e56bb43-4c5b-4746-97a9-b91b141d0cd0",
   "metadata": {},
   "source": [
    "### (13) Customize the required duplicate row with argument keep : {'first', 'last', False}, default 'first' Determines which duplicates (if any) to mark."
   ]
  },
  {
   "cell_type": "code",
   "execution_count": null,
   "id": "565d0eda-38a7-40b6-a5df-c647bbc53642",
   "metadata": {
    "scrolled": true
   },
   "outputs": [],
   "source": [
    "print(Empdf)\n",
    "print('Keeping required duplicate element\\n')\n",
    "firstrow = Empdf.duplicated(keep='first')\n",
    "# lastrow = Empdf.duplicated(keep='last')\n",
    "\n",
    "print('--After data manipulation--')\n",
    "print(lastrow)"
   ]
  },
  {
   "cell_type": "markdown",
   "id": "0d8b86ee-7b42-4911-88e9-a8866f5a677a",
   "metadata": {},
   "source": [
    "### (14) Read data from JSON file"
   ]
  },
  {
   "cell_type": "code",
   "execution_count": null,
   "id": "91884c17-39ec-47da-8885-cf4e834e4f91",
   "metadata": {},
   "outputs": [],
   "source": [
    "moviesDF = pd.read_json('TopRatedMovies.json')\n",
    "# print(moviesDF)\n",
    "# moviesDF.head(3)\n",
    "# moviesDF.info()\n",
    "# moviesDF.shape"
   ]
  },
  {
   "cell_type": "code",
   "execution_count": null,
   "id": "e396f8bb-7a25-4195-80ea-11bcb614a5e4",
   "metadata": {},
   "outputs": [],
   "source": [
    " #ignore_index is used to set or reset index values of indivisual series\n",
    "tempDF = pd.concat([moviesDF, moviesDF], ignore_index = False)\n",
    "tempDF\n",
    "# tempDF.duplicated(subset=['Title'])\n",
    "# tempDF.shape"
   ]
  },
  {
   "cell_type": "markdown",
   "id": "e3a4b0e9-62a2-4f13-9df3-bf38b268a8b2",
   "metadata": {},
   "source": [
    "### (15) Column cleanup"
   ]
  },
  {
   "cell_type": "markdown",
   "id": "494edb35-472e-4172-8d04-b3c54898d095",
   "metadata": {},
   "source": [
    "### (i) Print all the column names as a list"
   ]
  },
  {
   "cell_type": "code",
   "execution_count": null,
   "id": "8698f728-c58d-4259-82f9-17c70e79daa7",
   "metadata": {},
   "outputs": [],
   "source": [
    "moviesDF.columns"
   ]
  },
  {
   "cell_type": "code",
   "execution_count": null,
   "id": "996bb572-c20f-440a-adb1-6564046a89d0",
   "metadata": {},
   "outputs": [],
   "source": [
    "# Rename the columns by passing renamed column headers as a dictionary object.\n",
    "moviesDF.rename(columns={'Title':'Cinema_Title', \n",
    "                        'Genre':'Movie_Type',\n",
    "                        'Release_year': 'Year_of_Release',\n",
    "                        'Rating':'Feedback'})\n",
    "print('Without casing')\n",
    "print(moviesDF.columns)\n",
    "print('With casing')\n",
    "moviesDF.columns = [col.upper() for col in moviesDF]   #can also use lowercase - col.lower() or col.upper()\n",
    "print(moviesDF)"
   ]
  },
  {
   "cell_type": "markdown",
   "id": "1120a29a-08fd-414b-9139-1257061f6d59",
   "metadata": {},
   "source": [
    "### (16) Working with missing values - None or NaN or NaT"
   ]
  },
  {
   "cell_type": "code",
   "execution_count": 5,
   "id": "88353b8f-97eb-40dc-968b-ba47b9c264d9",
   "metadata": {
    "scrolled": true
   },
   "outputs": [
    {
     "name": "stdout",
     "output_type": "stream",
     "text": [
      "       name        toy       born\n",
      "0    Alfred        NaN        NaT\n",
      "1    Batman  Batmobile 1940-04-25\n",
      "2  Catwoman   Bullwhip        NaT\n"
     ]
    },
    {
     "data": {
      "text/html": [
       "<div>\n",
       "<style scoped>\n",
       "    .dataframe tbody tr th:only-of-type {\n",
       "        vertical-align: middle;\n",
       "    }\n",
       "\n",
       "    .dataframe tbody tr th {\n",
       "        vertical-align: top;\n",
       "    }\n",
       "\n",
       "    .dataframe thead th {\n",
       "        text-align: right;\n",
       "    }\n",
       "</style>\n",
       "<table border=\"1\" class=\"dataframe\">\n",
       "  <thead>\n",
       "    <tr style=\"text-align: right;\">\n",
       "      <th></th>\n",
       "      <th>name</th>\n",
       "      <th>toy</th>\n",
       "      <th>born</th>\n",
       "    </tr>\n",
       "  </thead>\n",
       "  <tbody>\n",
       "    <tr>\n",
       "      <th>0</th>\n",
       "      <td>Alfred</td>\n",
       "      <td>NaN</td>\n",
       "      <td>NaT</td>\n",
       "    </tr>\n",
       "    <tr>\n",
       "      <th>1</th>\n",
       "      <td>Batman</td>\n",
       "      <td>Batmobile</td>\n",
       "      <td>1940-04-25</td>\n",
       "    </tr>\n",
       "    <tr>\n",
       "      <th>2</th>\n",
       "      <td>Catwoman</td>\n",
       "      <td>Bullwhip</td>\n",
       "      <td>NaT</td>\n",
       "    </tr>\n",
       "  </tbody>\n",
       "</table>\n",
       "</div>"
      ],
      "text/plain": [
       "       name        toy       born\n",
       "0    Alfred        NaN        NaT\n",
       "1    Batman  Batmobile 1940-04-25\n",
       "2  Catwoman   Bullwhip        NaT"
      ]
     },
     "execution_count": 5,
     "metadata": {},
     "output_type": "execute_result"
    }
   ],
   "source": [
    "import numpy as np\n",
    "df = pd.DataFrame({\"name\": ['Alfred', 'Batman', 'Catwoman'],\n",
    "                  \"toy\": [np.nan, 'Batmobile', 'Bullwhip'],\n",
    "                   \"born\": [pd.NaT, pd.Timestamp(\"1940-04-25\"),\n",
    "                            pd.NaT]})\n",
    "print(df)\n",
    "# Drop the rows where at least one element is missing.\n",
    "# df.dropna()\n",
    "# Drop the columns where at least one element is missing.\n",
    "df.dropna(axis='columns')\n",
    "# Drop the rows where all elements are missing.\n",
    "df.dropna(how='all')"
   ]
  },
  {
   "cell_type": "code",
   "execution_count": 7,
   "id": "699213f2-01eb-4923-bb0f-a9937f99425a",
   "metadata": {},
   "outputs": [
    {
     "data": {
      "text/html": [
       "<div>\n",
       "<style scoped>\n",
       "    .dataframe tbody tr th:only-of-type {\n",
       "        vertical-align: middle;\n",
       "    }\n",
       "\n",
       "    .dataframe tbody tr th {\n",
       "        vertical-align: top;\n",
       "    }\n",
       "\n",
       "    .dataframe thead th {\n",
       "        text-align: right;\n",
       "    }\n",
       "</style>\n",
       "<table border=\"1\" class=\"dataframe\">\n",
       "  <thead>\n",
       "    <tr style=\"text-align: right;\">\n",
       "      <th></th>\n",
       "      <th>Rank</th>\n",
       "      <th>Title</th>\n",
       "      <th>Genre</th>\n",
       "      <th>Description</th>\n",
       "      <th>Director</th>\n",
       "      <th>Actors</th>\n",
       "      <th>Year</th>\n",
       "      <th>Runtime (Minutes)</th>\n",
       "      <th>Rating</th>\n",
       "      <th>Votes</th>\n",
       "      <th>Revenue (Millions)</th>\n",
       "      <th>Metascore</th>\n",
       "    </tr>\n",
       "  </thead>\n",
       "  <tbody>\n",
       "    <tr>\n",
       "      <th>0</th>\n",
       "      <td>1</td>\n",
       "      <td>Guardians of the Galaxy</td>\n",
       "      <td>Action,Adventure,Sci-Fi</td>\n",
       "      <td>A group of intergalactic criminals are forced ...</td>\n",
       "      <td>James Gunn</td>\n",
       "      <td>Chris Pratt, Vin Diesel, Bradley Cooper, Zoe S...</td>\n",
       "      <td>2014</td>\n",
       "      <td>121</td>\n",
       "      <td>8.1</td>\n",
       "      <td>757074</td>\n",
       "      <td>333.13</td>\n",
       "      <td>76.0</td>\n",
       "    </tr>\n",
       "    <tr>\n",
       "      <th>1</th>\n",
       "      <td>2</td>\n",
       "      <td>Prometheus</td>\n",
       "      <td>Adventure,Mystery,Sci-Fi</td>\n",
       "      <td>Following clues to the origin of mankind, a te...</td>\n",
       "      <td>Ridley Scott</td>\n",
       "      <td>Noomi Rapace, Logan Marshall-Green, Michael Fa...</td>\n",
       "      <td>2012</td>\n",
       "      <td>124</td>\n",
       "      <td>7.0</td>\n",
       "      <td>485820</td>\n",
       "      <td>126.46</td>\n",
       "      <td>65.0</td>\n",
       "    </tr>\n",
       "    <tr>\n",
       "      <th>2</th>\n",
       "      <td>3</td>\n",
       "      <td>Split</td>\n",
       "      <td>Horror,Thriller</td>\n",
       "      <td>Three girls are kidnapped by a man with a diag...</td>\n",
       "      <td>M. Night Shyamalan</td>\n",
       "      <td>James McAvoy, Anya Taylor-Joy, Haley Lu Richar...</td>\n",
       "      <td>2016</td>\n",
       "      <td>117</td>\n",
       "      <td>7.3</td>\n",
       "      <td>157606</td>\n",
       "      <td>138.12</td>\n",
       "      <td>62.0</td>\n",
       "    </tr>\n",
       "    <tr>\n",
       "      <th>3</th>\n",
       "      <td>4</td>\n",
       "      <td>Sing</td>\n",
       "      <td>Animation,Comedy,Family</td>\n",
       "      <td>In a city of humanoid animals, a hustling thea...</td>\n",
       "      <td>Christophe Lourdelet</td>\n",
       "      <td>Matthew McConaughey,Reese Witherspoon, Seth Ma...</td>\n",
       "      <td>2016</td>\n",
       "      <td>108</td>\n",
       "      <td>7.2</td>\n",
       "      <td>60545</td>\n",
       "      <td>270.32</td>\n",
       "      <td>59.0</td>\n",
       "    </tr>\n",
       "    <tr>\n",
       "      <th>4</th>\n",
       "      <td>5</td>\n",
       "      <td>Suicide Squad</td>\n",
       "      <td>Action,Adventure,Fantasy</td>\n",
       "      <td>A secret government agency recruits some of th...</td>\n",
       "      <td>David Ayer</td>\n",
       "      <td>Will Smith, Jared Leto, Margot Robbie, Viola D...</td>\n",
       "      <td>2016</td>\n",
       "      <td>123</td>\n",
       "      <td>6.2</td>\n",
       "      <td>393727</td>\n",
       "      <td>325.02</td>\n",
       "      <td>40.0</td>\n",
       "    </tr>\n",
       "    <tr>\n",
       "      <th>...</th>\n",
       "      <td>...</td>\n",
       "      <td>...</td>\n",
       "      <td>...</td>\n",
       "      <td>...</td>\n",
       "      <td>...</td>\n",
       "      <td>...</td>\n",
       "      <td>...</td>\n",
       "      <td>...</td>\n",
       "      <td>...</td>\n",
       "      <td>...</td>\n",
       "      <td>...</td>\n",
       "      <td>...</td>\n",
       "    </tr>\n",
       "    <tr>\n",
       "      <th>995</th>\n",
       "      <td>996</td>\n",
       "      <td>Secret in Their Eyes</td>\n",
       "      <td>Crime,Drama,Mystery</td>\n",
       "      <td>A tight-knit team of rising investigators, alo...</td>\n",
       "      <td>Billy Ray</td>\n",
       "      <td>Chiwetel Ejiofor, Nicole Kidman, Julia Roberts...</td>\n",
       "      <td>2015</td>\n",
       "      <td>111</td>\n",
       "      <td>6.2</td>\n",
       "      <td>27585</td>\n",
       "      <td>NaN</td>\n",
       "      <td>45.0</td>\n",
       "    </tr>\n",
       "    <tr>\n",
       "      <th>996</th>\n",
       "      <td>997</td>\n",
       "      <td>Hostel: Part II</td>\n",
       "      <td>Horror</td>\n",
       "      <td>Three American college students studying abroa...</td>\n",
       "      <td>Eli Roth</td>\n",
       "      <td>Lauren German, Heather Matarazzo, Bijou Philli...</td>\n",
       "      <td>2007</td>\n",
       "      <td>94</td>\n",
       "      <td>5.5</td>\n",
       "      <td>73152</td>\n",
       "      <td>17.54</td>\n",
       "      <td>46.0</td>\n",
       "    </tr>\n",
       "    <tr>\n",
       "      <th>997</th>\n",
       "      <td>998</td>\n",
       "      <td>Step Up 2: The Streets</td>\n",
       "      <td>Drama,Music,Romance</td>\n",
       "      <td>Romantic sparks occur between two dance studen...</td>\n",
       "      <td>Jon M. Chu</td>\n",
       "      <td>Robert Hoffman, Briana Evigan, Cassie Ventura,...</td>\n",
       "      <td>2008</td>\n",
       "      <td>98</td>\n",
       "      <td>6.2</td>\n",
       "      <td>70699</td>\n",
       "      <td>58.01</td>\n",
       "      <td>50.0</td>\n",
       "    </tr>\n",
       "    <tr>\n",
       "      <th>998</th>\n",
       "      <td>999</td>\n",
       "      <td>Search Party</td>\n",
       "      <td>Adventure,Comedy</td>\n",
       "      <td>A pair of friends embark on a mission to reuni...</td>\n",
       "      <td>Scot Armstrong</td>\n",
       "      <td>Adam Pally, T.J. Miller, Thomas Middleditch,Sh...</td>\n",
       "      <td>2014</td>\n",
       "      <td>93</td>\n",
       "      <td>5.6</td>\n",
       "      <td>4881</td>\n",
       "      <td>NaN</td>\n",
       "      <td>22.0</td>\n",
       "    </tr>\n",
       "    <tr>\n",
       "      <th>999</th>\n",
       "      <td>1000</td>\n",
       "      <td>Nine Lives</td>\n",
       "      <td>Comedy,Family,Fantasy</td>\n",
       "      <td>A stuffy businessman finds himself trapped ins...</td>\n",
       "      <td>Barry Sonnenfeld</td>\n",
       "      <td>Kevin Spacey, Jennifer Garner, Robbie Amell,Ch...</td>\n",
       "      <td>2016</td>\n",
       "      <td>87</td>\n",
       "      <td>5.3</td>\n",
       "      <td>12435</td>\n",
       "      <td>19.64</td>\n",
       "      <td>11.0</td>\n",
       "    </tr>\n",
       "  </tbody>\n",
       "</table>\n",
       "<p>1000 rows × 12 columns</p>\n",
       "</div>"
      ],
      "text/plain": [
       "     Rank                    Title                     Genre  \\\n",
       "0       1  Guardians of the Galaxy   Action,Adventure,Sci-Fi   \n",
       "1       2               Prometheus  Adventure,Mystery,Sci-Fi   \n",
       "2       3                    Split           Horror,Thriller   \n",
       "3       4                     Sing   Animation,Comedy,Family   \n",
       "4       5            Suicide Squad  Action,Adventure,Fantasy   \n",
       "..    ...                      ...                       ...   \n",
       "995   996     Secret in Their Eyes       Crime,Drama,Mystery   \n",
       "996   997          Hostel: Part II                    Horror   \n",
       "997   998   Step Up 2: The Streets       Drama,Music,Romance   \n",
       "998   999             Search Party          Adventure,Comedy   \n",
       "999  1000               Nine Lives     Comedy,Family,Fantasy   \n",
       "\n",
       "                                           Description              Director  \\\n",
       "0    A group of intergalactic criminals are forced ...            James Gunn   \n",
       "1    Following clues to the origin of mankind, a te...          Ridley Scott   \n",
       "2    Three girls are kidnapped by a man with a diag...    M. Night Shyamalan   \n",
       "3    In a city of humanoid animals, a hustling thea...  Christophe Lourdelet   \n",
       "4    A secret government agency recruits some of th...            David Ayer   \n",
       "..                                                 ...                   ...   \n",
       "995  A tight-knit team of rising investigators, alo...             Billy Ray   \n",
       "996  Three American college students studying abroa...              Eli Roth   \n",
       "997  Romantic sparks occur between two dance studen...            Jon M. Chu   \n",
       "998  A pair of friends embark on a mission to reuni...        Scot Armstrong   \n",
       "999  A stuffy businessman finds himself trapped ins...      Barry Sonnenfeld   \n",
       "\n",
       "                                                Actors  Year  \\\n",
       "0    Chris Pratt, Vin Diesel, Bradley Cooper, Zoe S...  2014   \n",
       "1    Noomi Rapace, Logan Marshall-Green, Michael Fa...  2012   \n",
       "2    James McAvoy, Anya Taylor-Joy, Haley Lu Richar...  2016   \n",
       "3    Matthew McConaughey,Reese Witherspoon, Seth Ma...  2016   \n",
       "4    Will Smith, Jared Leto, Margot Robbie, Viola D...  2016   \n",
       "..                                                 ...   ...   \n",
       "995  Chiwetel Ejiofor, Nicole Kidman, Julia Roberts...  2015   \n",
       "996  Lauren German, Heather Matarazzo, Bijou Philli...  2007   \n",
       "997  Robert Hoffman, Briana Evigan, Cassie Ventura,...  2008   \n",
       "998  Adam Pally, T.J. Miller, Thomas Middleditch,Sh...  2014   \n",
       "999  Kevin Spacey, Jennifer Garner, Robbie Amell,Ch...  2016   \n",
       "\n",
       "     Runtime (Minutes)  Rating   Votes  Revenue (Millions)  Metascore  \n",
       "0                  121     8.1  757074              333.13       76.0  \n",
       "1                  124     7.0  485820              126.46       65.0  \n",
       "2                  117     7.3  157606              138.12       62.0  \n",
       "3                  108     7.2   60545              270.32       59.0  \n",
       "4                  123     6.2  393727              325.02       40.0  \n",
       "..                 ...     ...     ...                 ...        ...  \n",
       "995                111     6.2   27585                 NaN       45.0  \n",
       "996                 94     5.5   73152               17.54       46.0  \n",
       "997                 98     6.2   70699               58.01       50.0  \n",
       "998                 93     5.6    4881                 NaN       22.0  \n",
       "999                 87     5.3   12435               19.64       11.0  \n",
       "\n",
       "[1000 rows x 12 columns]"
      ]
     },
     "execution_count": 7,
     "metadata": {},
     "output_type": "execute_result"
    }
   ],
   "source": [
    "movieDB = pd.read_csv('IMDB-Movie-Data.csv') # can also use argument index_col making specific col as index\n",
    "movieDB"
   ]
  },
  {
   "cell_type": "code",
   "execution_count": 8,
   "id": "8f2007ff-db53-42a6-a318-e938b825e93d",
   "metadata": {
    "scrolled": true
   },
   "outputs": [
    {
     "data": {
      "text/plain": [
       "Rank                    0\n",
       "Title                   0\n",
       "Genre                   0\n",
       "Description             0\n",
       "Director                0\n",
       "Actors                  0\n",
       "Year                    0\n",
       "Runtime (Minutes)       0\n",
       "Rating                  0\n",
       "Votes                   0\n",
       "Revenue (Millions)    128\n",
       "Metascore              64\n",
       "dtype: int64"
      ]
     },
     "execution_count": 8,
     "metadata": {},
     "output_type": "execute_result"
    }
   ],
   "source": [
    "# isnull()  - returns a DataFrame where each cell is either True or False depending on that cell's null status.\n",
    "# returns a data frame of the same size with the values masked as True for NA values and False for non-NA values.\n",
    "# movieDB.isnull() #can also try for isna()\n",
    "movieDB.isnull().sum()"
   ]
  },
  {
   "cell_type": "markdown",
   "id": "bff79a56-384a-4f77-90c3-4788313d4b0e",
   "metadata": {},
   "source": [
    "### (17) Removing null values\n",
    "### df.drop('column_name', axis=1): Drops a column.\n",
    "### df.drop(index_name, axis=0): Drops a row."
   ]
  },
  {
   "cell_type": "code",
   "execution_count": null,
   "id": "734c662c-988c-40a8-b29f-d6410ea1163e",
   "metadata": {
    "scrolled": true
   },
   "outputs": [],
   "source": [
    "# delete any row with at least a single null value, but it will return a new DataFrame without altering the original one.\n",
    "Mdb = movieDB.dropna()\n",
    "# Mdb\n",
    "# movieDB.drop('Title', axis=1)\n",
    "movieDB.drop(1, axis=0)\n",
    "# movieDB"
   ]
  },
  {
   "cell_type": "markdown",
   "id": "96d51441-a822-43d0-9f51-b6e1e23dc789",
   "metadata": {},
   "source": [
    "### (18) <b>Handling missing values:</b> A technique used for replacing the missing data with some substitute values to retain most of the data/information of the dataset. These values can be either the <b><u>average</u></b> of values in the dataset or the value with <b><u>maximum</u></b> frequency etc.\n",
    "\n",
    "### Functions: Pandas provides several functions to handle missing data:\n",
    "### (I) <b>isna()</b> or <b>isnull()</b>: Checks if a value is NA.\n",
    "### (II) <b>dropna()</b>: Drops rows or columns containing NA values.\n",
    "### (III) <b>fillna()</b>: Fills NA values with a specified value."
   ]
  },
  {
   "cell_type": "code",
   "execution_count": null,
   "id": "fe102078-e02a-4401-9f81-77b4b63af81c",
   "metadata": {},
   "outputs": [],
   "source": [
    "import pandas as pd\n",
    "# import numpy as np\n",
    "#Creating a dataframe\n",
    "df = pd.DataFrame({\"Value_1\":[None, 14, 35, None, 1,12, 74, 65, None, 1],\n",
    "                   \"Value_2\":[None, 24, 54, 3, None,None, 2, 54, 3, None],\n",
    "                   \"Value_3\":[20, 16, None, 3, 8,None, 2, 54, 3, None],\n",
    "                   \"Value_4\":[None, 2, 54, 3, None,14, 3, None, None, 6]})\n",
    "\n",
    "# print(df)\n",
    "df.head()"
   ]
  },
  {
   "cell_type": "code",
   "execution_count": null,
   "id": "c70b7fba-fca0-4d12-89df-2b672fc303ea",
   "metadata": {},
   "outputs": [],
   "source": [
    "df=df.astype({\n",
    "    \"Value_1\": pd.Int64Dtype(),\n",
    "    \"Value_2\": pd.Int64Dtype(),\n",
    "    \"Value_3\": pd.Int64Dtype(),\n",
    "    \"Value_4\": pd.Int64Dtype()\n",
    "})\n",
    "\n",
    "print(df)"
   ]
  },
  {
   "cell_type": "markdown",
   "id": "1a0d0130-db5c-4733-95ec-3441496bfe7e",
   "metadata": {},
   "source": [
    "### Fill missed columns with Mean value"
   ]
  },
  {
   "cell_type": "code",
   "execution_count": null,
   "id": "833a18ba-83bb-4cde-809e-ba0f92189a8c",
   "metadata": {},
   "outputs": [],
   "source": [
    "# df_Fdata=df\n",
    "#Fill the missing value with average values in column Value1.\n",
    "# df_Fdata['Value_1'].fillna(int(df_Fdata['Value_1'].mean()))\n",
    "# n : int, default 5 ; Number of rows to select.\n",
    "# df_Fdata.head()\n",
    "df_Fdata.mean(axis=0)\n",
    "# df_Fdata(['Value_1']).mean()"
   ]
  },
  {
   "cell_type": "markdown",
   "id": "1f8d5c01-12f0-4c56-a72e-b8fca3094bfc",
   "metadata": {},
   "source": [
    "### Fill missed columns with Median value"
   ]
  },
  {
   "cell_type": "code",
   "execution_count": null,
   "id": "fbd1a308-b001-4349-82a5-233fbc6e4a6a",
   "metadata": {
    "scrolled": true
   },
   "outputs": [],
   "source": [
    "df_mdn=df\n",
    "#Fill the missing values with the median value\n",
    "df_mdn['Value_2'].fillna(df_mdn['Value_2'].median(), inplace = True)\n",
    "#By default head() function will return first 5 rows from the dataset\n",
    "df_mdn.head()"
   ]
  },
  {
   "cell_type": "markdown",
   "id": "4b173e84-bf3a-4b58-8e6d-95f7fc2b0319",
   "metadata": {},
   "source": [
    "### Fill missed columns with Mode value - This technique involves replacing the missing values with the highest frequency values of the row or column we are dealing with."
   ]
  },
  {
   "cell_type": "code",
   "execution_count": null,
   "id": "56c37763-53d4-44f1-a297-b295237f1f39",
   "metadata": {
    "scrolled": true
   },
   "outputs": [],
   "source": [
    "print(df)\n",
    "df_md=df\n",
    "#Filling the missing value with the maximum frequency element \n",
    "df_md['Value_3'].fillna(df_md['Value_3'].mode(), inplace = True)\n",
    "df_md.head(6)"
   ]
  },
  {
   "cell_type": "markdown",
   "id": "7eaf0244-f96a-4bcb-ba6a-4045198ab838",
   "metadata": {},
   "source": [
    "### (19) DataFrame slicing, selecting, extracting"
   ]
  },
  {
   "cell_type": "code",
   "execution_count": null,
   "id": "41908d6c-ff7f-4f91-9d2e-9d14dda5b75a",
   "metadata": {
    "scrolled": true
   },
   "outputs": [],
   "source": [
    "movieDB\n",
    "# genre_col = movieDB['Genre']\n",
    "# print(genre_col)\n",
    "# type(genre_col)"
   ]
  },
  {
   "cell_type": "code",
   "execution_count": null,
   "id": "b1a9b8ea-f03a-45db-a663-9a97f06c4c37",
   "metadata": {},
   "outputs": [],
   "source": [
    "subset = movieDB[['Genre', 'Rating']]\n",
    "\n",
    "subset.head()"
   ]
  },
  {
   "cell_type": "markdown",
   "id": "3b5af072-93fa-4b2c-8dc2-d8fc9eeac34f",
   "metadata": {},
   "source": [
    "### By column heading as indexing"
   ]
  },
  {
   "cell_type": "code",
   "execution_count": null,
   "id": "6a6111e3-bba4-48b2-930c-326443da0549",
   "metadata": {},
   "outputs": [],
   "source": [
    "import pandas as pd\n",
    "ValuesDF = pd.DataFrame({\"Value_1\":[None, 14, 35, None, 1,12, 74, 65, None, 1],\n",
    "                   \"Value_2\":[None, 24, 54, 3, None,None, 2, 54, 3, None],\n",
    "                   \"Value_3\":[20, 16, None, 3, 8,None, 2, 54, 3, None],\n",
    "                   \"Value_4\":[None, 2, 54, 3, None,14, 3, None, None, 6]})"
   ]
  },
  {
   "cell_type": "code",
   "execution_count": null,
   "id": "e5efde2a-aba0-47d1-a163-dd7f0ebb954c",
   "metadata": {},
   "outputs": [],
   "source": [
    "ValuesDF\n",
    "ValuesDF[['Value_3']]"
   ]
  },
  {
   "cell_type": "code",
   "execution_count": null,
   "id": "786fedbb-9916-47b0-a99e-6675c2fbfe19",
   "metadata": {},
   "outputs": [],
   "source": [
    "colVal = ValuesDF[['Value_3', 'Value_4']]\n",
    "colVal"
   ]
  },
  {
   "cell_type": "markdown",
   "id": "5bac5e6b-b3aa-4279-88ae-e28ff3382a44",
   "metadata": {},
   "source": [
    "### By rows indexing\n",
    "### .loc - locates by name (Access a group of rows and columns by label(s) or a boolean array.)\n",
    "### .iloc- locates by numerical index (Purely integer-location based indexing for selection by position.)"
   ]
  },
  {
   "cell_type": "code",
   "execution_count": null,
   "id": "c783a3b2-b605-46da-8ad1-a1e907506a05",
   "metadata": {},
   "outputs": [],
   "source": [
    "print(ValuesDF)\n",
    "# bylocIndx = ValuesDF.loc[3,'Value_3']\n",
    "# bylocIndx_Slicing = ValuesDF.loc[0:3,['Value_1','Value_3']]\n",
    "bylocIndx_Slicing = ValuesDF.loc[0:2,['Value_3']]\n",
    "# bylocIndx\n",
    "bylocIndx_Slicing"
   ]
  },
  {
   "cell_type": "code",
   "execution_count": null,
   "id": "d6c1af8f-2fc9-4187-bd8b-448528b93a64",
   "metadata": {
    "scrolled": true
   },
   "outputs": [],
   "source": [
    "print(ValuesDF)\n",
    "bylocIndx = ValuesDF.iloc[:,[0,2]]\n",
    "bylocIndx"
   ]
  },
  {
   "cell_type": "markdown",
   "id": "7d1344c5-85c1-46fe-9ac2-dc7753192dd0",
   "metadata": {},
   "source": [
    "### (20) Understanding your variables - Using describe() on an entire DataFrame we can get a summary of the distribution of continuous variables:"
   ]
  },
  {
   "cell_type": "code",
   "execution_count": null,
   "id": "ba6eb54c-96ae-4d7a-bbbd-c2ea1a809d0b",
   "metadata": {},
   "outputs": [],
   "source": [
    "movieDB.describe()"
   ]
  },
  {
   "cell_type": "code",
   "execution_count": null,
   "id": "16eb1b8b-0883-416f-8feb-7bf8f7c4d31c",
   "metadata": {},
   "outputs": [],
   "source": [
    "movieDB['Metascore'].describe"
   ]
  },
  {
   "cell_type": "markdown",
   "id": "cc1f8ae8-eab8-4ff4-a6b2-a2d97865c31a",
   "metadata": {},
   "source": [
    "### .value_counts() can tell us the frequency of all values in a column:"
   ]
  },
  {
   "cell_type": "code",
   "execution_count": null,
   "id": "67992509-b564-49bd-84ed-ddca49fd62f9",
   "metadata": {},
   "outputs": [],
   "source": [
    "movieDB['Metascore'].value_counts().head(10)"
   ]
  },
  {
   "cell_type": "code",
   "execution_count": null,
   "id": "731e4860-01c7-4238-b811-15a0bdcdd0fc",
   "metadata": {},
   "outputs": [],
   "source": [
    "movieDB['Rating'].value_counts().head()"
   ]
  },
  {
   "cell_type": "markdown",
   "id": "e4a5be47-9d40-4f59-b180-0c39c30d5996",
   "metadata": {},
   "source": [
    "#### (21) DataFrame slicing, selecting, extracting"
   ]
  },
  {
   "cell_type": "markdown",
   "id": "e9068734-ee96-47ec-abd5-4c1af06a2d57",
   "metadata": {},
   "source": [
    "### By column"
   ]
  },
  {
   "cell_type": "code",
   "execution_count": null,
   "id": "d1ace139-2553-4127-97b5-631eeccdb359",
   "metadata": {},
   "outputs": [],
   "source": [
    "# type(movieDB['Rating'])\n",
    "type(movieDB[['Rating']])"
   ]
  },
  {
   "cell_type": "code",
   "execution_count": null,
   "id": "6c2e0ac2-da83-41c1-98d5-39988b57bb43",
   "metadata": {},
   "outputs": [],
   "source": [
    "movieDB.loc[0:2,['Rating']]"
   ]
  },
  {
   "cell_type": "markdown",
   "id": "fdf6b07e-c425-41d5-ae18-264b875b5b7c",
   "metadata": {},
   "source": [
    "### By rows - iloc[] used to filter the data based on the row index"
   ]
  },
  {
   "cell_type": "code",
   "execution_count": null,
   "id": "1dad7d12-7c72-4fdd-96a0-b4da0c1d98ef",
   "metadata": {},
   "outputs": [],
   "source": [
    "movieDB.iloc[999]"
   ]
  },
  {
   "cell_type": "markdown",
   "id": "f063bfd8-ae87-462c-87dd-2479a65b0ca2",
   "metadata": {},
   "source": [
    "### (21) Conditional selections"
   ]
  },
  {
   "cell_type": "code",
   "execution_count": 85,
   "id": "f4afe8bd-bb72-44be-81f4-485f796ec40a",
   "metadata": {},
   "outputs": [
    {
     "data": {
      "text/html": [
       "<div>\n",
       "<style scoped>\n",
       "    .dataframe tbody tr th:only-of-type {\n",
       "        vertical-align: middle;\n",
       "    }\n",
       "\n",
       "    .dataframe tbody tr th {\n",
       "        vertical-align: top;\n",
       "    }\n",
       "\n",
       "    .dataframe thead th {\n",
       "        text-align: right;\n",
       "    }\n",
       "</style>\n",
       "<table border=\"1\" class=\"dataframe\">\n",
       "  <thead>\n",
       "    <tr style=\"text-align: right;\">\n",
       "      <th></th>\n",
       "      <th>Title</th>\n",
       "      <th>Genre</th>\n",
       "      <th>Release_year</th>\n",
       "      <th>Rating</th>\n",
       "    </tr>\n",
       "  </thead>\n",
       "  <tbody>\n",
       "    <tr>\n",
       "      <th>0</th>\n",
       "      <td>Pathaan</td>\n",
       "      <td>Action</td>\n",
       "      <td>2023</td>\n",
       "      <td>4.5</td>\n",
       "    </tr>\n",
       "    <tr>\n",
       "      <th>1</th>\n",
       "      <td>RRR</td>\n",
       "      <td>Action</td>\n",
       "      <td>2022</td>\n",
       "      <td>4.8</td>\n",
       "    </tr>\n",
       "    <tr>\n",
       "      <th>2</th>\n",
       "      <td>Kantara</td>\n",
       "      <td>Action, Drama</td>\n",
       "      <td>2022</td>\n",
       "      <td>4.7</td>\n",
       "    </tr>\n",
       "    <tr>\n",
       "      <th>3</th>\n",
       "      <td>Pushpa: The Rise</td>\n",
       "      <td>Action, Drama</td>\n",
       "      <td>2021</td>\n",
       "      <td>4.3</td>\n",
       "    </tr>\n",
       "    <tr>\n",
       "      <th>4</th>\n",
       "      <td>Vikram Vedha</td>\n",
       "      <td>Action, Thriller</td>\n",
       "      <td>2022</td>\n",
       "      <td>4.2</td>\n",
       "    </tr>\n",
       "  </tbody>\n",
       "</table>\n",
       "</div>"
      ],
      "text/plain": [
       "              Title             Genre  Release_year  Rating\n",
       "0           Pathaan            Action          2023     4.5\n",
       "1               RRR            Action          2022     4.8\n",
       "2           Kantara     Action, Drama          2022     4.7\n",
       "3  Pushpa: The Rise     Action, Drama          2021     4.3\n",
       "4      Vikram Vedha  Action, Thriller          2022     4.2"
      ]
     },
     "execution_count": 85,
     "metadata": {},
     "output_type": "execute_result"
    }
   ],
   "source": [
    "moviesDF = pd.read_json('TopRatedMovies.json')\n",
    "moviesDF"
   ]
  },
  {
   "cell_type": "code",
   "execution_count": 84,
   "id": "cac68d28-9158-4d8b-89ee-7e79eb4c3630",
   "metadata": {},
   "outputs": [
    {
     "data": {
      "text/plain": [
       "0     True\n",
       "1    False\n",
       "2    False\n",
       "3    False\n",
       "4    False\n",
       "Name: Title, dtype: bool"
      ]
     },
     "execution_count": 84,
     "metadata": {},
     "output_type": "execute_result"
    }
   ],
   "source": [
    "# movieList = (moviesDF['Title'] == 'Pathaan')\n",
    "movieList\n",
    "# moviesDF[moviesDF['Rating']==4.7]\n",
    "# moviesDF[moviesDF['Rating']<4.7].head(2)\n",
    "# moviesDF[(moviesDF['Release_year']==2022) | (moviesDF['Rating']==4.7)]"
   ]
  },
  {
   "cell_type": "code",
   "execution_count": 93,
   "id": "bbc5880e-1c48-4f35-8474-5a44ca3850f8",
   "metadata": {
    "scrolled": true
   },
   "outputs": [
    {
     "data": {
      "text/plain": [
       "0      NaN\n",
       "1      NaN\n",
       "2      NaN\n",
       "3      NaN\n",
       "4      NaN\n",
       "      ... \n",
       "995    NaN\n",
       "996    NaN\n",
       "997    NaN\n",
       "998    NaN\n",
       "999    NaN\n",
       "Name: Actors, Length: 1000, dtype: object"
      ]
     },
     "execution_count": 93,
     "metadata": {},
     "output_type": "execute_result"
    }
   ],
   "source": [
    "movies_df = pd.read_csv('IMDB-Movie-Data.csv')\n",
    "# movies_df.head(2)\n",
    "# movies_df == 'James Gunn'\n",
    "movies_df[movies_df == 'James Gunn']\n",
    "movies_df[movies_df == 'James Gunn']['Actors']\n",
    "# movies_df[\n",
    "#     ((movies_df['Year'] >= 2005) & (movies_df['Year'] <= 2010))\n",
    "#     & (movies_df['Rating'] > 8.0)\n",
    "#     & (movies_df['Revenue'] < movies_df['Revenue'].quantile(0.25))\n",
    "# ]"
   ]
  },
  {
   "cell_type": "markdown",
   "id": "3c70650f-1338-4dd0-ac78-2bc87f2e3478",
   "metadata": {},
   "source": [
    "### (22) Plotting"
   ]
  },
  {
   "cell_type": "code",
   "execution_count": 82,
   "id": "ef1b773f-13a6-46eb-af6f-79a72d12736f",
   "metadata": {
    "scrolled": true
   },
   "outputs": [
    {
     "data": {
      "image/png": "[encoded data removed]",
      "text/plain": [
       "<Figure size 640x480 with 1 Axes>"
      ]
     },
     "metadata": {},
     "output_type": "display_data"
    }
   ],
   "source": [
    "movies_df.shape\n",
    "# movies_df.plot(kind='scatter', x='Rating', y='Revenue (Millions)', title='Revenue (millions) vs Rating')\n",
    "# movies_df['Rating'].plot(kind='hist', title='Rating')\n",
    "# movies_df['Rating'].describe()\n",
    "movies_df['Rating'].plot(kind=\"box\");"
   ]
  },
  {
   "cell_type": "code",
   "execution_count": null,
   "id": "e2c50f76-dbba-4231-90e1-e9a355a890c7",
   "metadata": {},
   "outputs": [],
   "source": []
  }
 ],
 "metadata": {
  "kernelspec": {
   "display_name": "Python 3",
   "language": "python",
   "name": "python3"
  },
  "language_info": {
   "codemirror_mode": {
    "name": "ipython",
    "version": 3
   },
   "file_extension": ".py",
   "mimetype": "text/x-python",
   "name": "python",
   "nbconvert_exporter": "python",
   "pygments_lexer": "ipython3",
   "version": "3.12.6"
  }
 },
 "nbformat": 4,
 "nbformat_minor": 5
}
