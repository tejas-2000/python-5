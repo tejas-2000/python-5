{
 "cells": [
  {
   "cell_type": "markdown",
   "id": "2af3d535-0165-44a3-9ed6-a6501fe944d2",
   "metadata": {},
   "source": [
    "### (1) Creating Path Objects using pathlib module of Path class"
   ]
  },
  {
   "cell_type": "code",
   "execution_count": 2,
   "id": "fd554143-59b3-44b4-85e3-f097c66c61fa",
   "metadata": {},
   "outputs": [
    {
     "data": {
      "text/plain": [
       "WindowsPath('C:/Users/tejas')"
      ]
     },
     "execution_count": 2,
     "metadata": {},
     "output_type": "execute_result"
    }
   ],
   "source": [
    "from pathlib import Path\n",
    "Path.home()"
   ]
  },
  {
   "cell_type": "markdown",
   "id": "42034d7c-e6d6-4660-a82b-7d9ca2971628",
   "metadata": {
    "jp-MarkdownHeadingCollapsed": true
   },
   "source": [
    "### (2) Get the Home directory"
   ]
  },
  {
   "cell_type": "code",
   "execution_count": 3,
   "id": "9bfd37ae-254b-4f66-a3a9-22699a05391c",
   "metadata": {},
   "outputs": [
    {
     "name": "stdout",
     "output_type": "stream",
     "text": [
      "C:\\Users\\tejas\n"
     ]
    }
   ],
   "source": [
    "homedir = Path.home() #Path.home().cwd() // current working directory can also be verified\n",
    "print(homedir)  # homedir"
   ]
  },
  {
   "cell_type": "markdown",
   "id": "a57736cf-d589-4365-843f-d45e2b854a36",
   "metadata": {},
   "source": [
    "### (3) Get Nth  parent directory"
   ]
  },
  {
   "cell_type": "code",
   "execution_count": 2,
   "id": "eb4a62cb-0a36-4290-a6d6-823707bf1688",
   "metadata": {},
   "outputs": [
    {
     "data": {
      "text/plain": [
       "WindowsPath('c:/Users/tejas')"
      ]
     },
     "execution_count": 2,
     "metadata": {},
     "output_type": "execute_result"
    }
   ],
   "source": [
    "from pathlib import Path\n",
    "par_dir  = Path.cwd().parents[3]\n",
    "par_dir"
   ]
  },
  {
   "cell_type": "markdown",
   "id": "18515236-4e08-4ac5-9394-e555f0a587cb",
   "metadata": {},
   "source": [
    "### (4) Creating Path Objects from Strings"
   ]
  },
  {
   "cell_type": "code",
   "execution_count": 7,
   "id": "23805de0-3557-46cf-a372-7618c32fca39",
   "metadata": {},
   "outputs": [],
   "source": [
    "filePath = Path(\"D:/Myfile.txt\") #filePath = Path(\"F:\\Myfile.txt\")"
   ]
  },
  {
   "cell_type": "code",
   "execution_count": 8,
   "id": "100e79a6-6ed2-4f9c-8020-cdf0de695a4f",
   "metadata": {},
   "outputs": [
    {
     "name": "stdout",
     "output_type": "stream",
     "text": [
      "D:\\Myfile.txt\n"
     ]
    }
   ],
   "source": [
    "print(filePath)"
   ]
  },
  {
   "cell_type": "markdown",
   "id": "bafe77e3-03b6-4f65-9bb5-b1574019d396",
   "metadata": {
    "jp-MarkdownHeadingCollapsed": true
   },
   "source": [
    "### (5) To check home directory and current working director"
   ]
  },
  {
   "cell_type": "code",
   "execution_count": 13,
   "id": "0797ade6-31f1-4527-ae07-6648f9cc7484",
   "metadata": {},
   "outputs": [
    {
     "data": {
      "text/plain": [
       "WindowsPath('C:/Users/tejas')"
      ]
     },
     "execution_count": 13,
     "metadata": {},
     "output_type": "execute_result"
    }
   ],
   "source": [
    "homepath = Path.home()\n",
    "homepath"
   ]
  },
  {
   "cell_type": "code",
   "execution_count": 10,
   "id": "1bcb800f-2436-4283-bbd7-8871a9a188ac",
   "metadata": {},
   "outputs": [
    {
     "name": "stdout",
     "output_type": "stream",
     "text": [
      "C:\\Users\\tejas\n"
     ]
    }
   ],
   "source": [
    "print(homepath)"
   ]
  },
  {
   "cell_type": "code",
   "execution_count": 11,
   "id": "3d2b0dd4-f40e-4a0f-8c45-ab8d7f93b5c9",
   "metadata": {},
   "outputs": [],
   "source": [
    "curr_wrk_dir = Path.cwd()"
   ]
  },
  {
   "cell_type": "code",
   "execution_count": 12,
   "id": "5d636fe7-09fb-477f-9f54-ad89543f2910",
   "metadata": {},
   "outputs": [
    {
     "name": "stdout",
     "output_type": "stream",
     "text": [
      "c:\\Users\\tejas\\OneDrive\\Desktop\\python 5th sem\n"
     ]
    }
   ],
   "source": [
    "print(curr_wrk_dir)"
   ]
  },
  {
   "cell_type": "markdown",
   "id": "6ddb4d38-df8c-4077-acfa-9a0bf1a022b2",
   "metadata": {
    "jp-MarkdownHeadingCollapsed": true
   },
   "source": [
    "### (6) Accessing File Path Components"
   ]
  },
  {
   "cell_type": "code",
   "execution_count": 13,
   "id": "2540bf5d-1947-463c-b0ab-24c40d37c848",
   "metadata": {},
   "outputs": [
    {
     "name": "stdout",
     "output_type": "stream",
     "text": [
      "C:\\Users\\tejas\\Myimage.png\n"
     ]
    }
   ],
   "source": [
    "print(Path.home() / \"Myimage.png\")"
   ]
  },
  {
   "cell_type": "code",
   "execution_count": 3,
   "id": "ce7d361d-688a-414a-b768-1951f70dcd96",
   "metadata": {},
   "outputs": [
    {
     "data": {
      "text/plain": [
       "[WindowsPath('C:/Users'), WindowsPath('C:/')]"
      ]
     },
     "execution_count": 3,
     "metadata": {},
     "output_type": "execute_result"
    }
   ],
   "source": [
    "list(Path.home().parents) #list(Path.home().parents)"
   ]
  },
  {
   "cell_type": "code",
   "execution_count": 4,
   "id": "56973f06-8cfc-498a-8cf5-cbbc2b523948",
   "metadata": {},
   "outputs": [
    {
     "name": "stdout",
     "output_type": "stream",
     "text": [
      "C:\\Users\n",
      "C:\\\n"
     ]
    }
   ],
   "source": [
    "for p in Path.home().parents:\n",
    "    print(p)"
   ]
  },
  {
   "cell_type": "markdown",
   "id": "3879ddb3-c9c3-475d-8120-31eeda6c5845",
   "metadata": {
    "jp-MarkdownHeadingCollapsed": true
   },
   "source": [
    "### (7) Checking Whether Or Not a File Path Exists"
   ]
  },
  {
   "cell_type": "code",
   "execution_count": null,
   "id": "41b01b83-be89-4072-972e-ed572895e6fc",
   "metadata": {},
   "outputs": [],
   "source": [
    "fp = Path.home() / \"F:\\SDM\" #Path.home() / \"F:\\SDM\"\n",
    "print(fp.exists())"
   ]
  },
  {
   "cell_type": "markdown",
   "id": "1b230960-7206-40c6-a435-8087d7e95596",
   "metadata": {
    "jp-MarkdownHeadingCollapsed": true
   },
   "source": [
    "### (8) Creating Directories"
   ]
  },
  {
   "cell_type": "code",
   "execution_count": null,
   "id": "e55d1ebb-a55a-45f2-bcaa-35be2c52ea38",
   "metadata": {},
   "outputs": [],
   "source": [
    "mydir = Path(\"F:\\SDM\\myfiles2\") # Path.cwd.home() \"\\myfolder\" #(Path(\"F:\\SDM\") / \"myfolder\").mkdir()\n",
    "print(mydir)\n",
    "mydir.mkdir()"
   ]
  },
  {
   "cell_type": "markdown",
   "id": "8ed69e73-2757-425b-8915-f6b9e63beecb",
   "metadata": {
    "jp-MarkdownHeadingCollapsed": true
   },
   "source": [
    "### (9) Check for directory exists or not"
   ]
  },
  {
   "cell_type": "code",
   "execution_count": null,
   "id": "07469837-538e-4cc5-907c-6c6e4156a853",
   "metadata": {},
   "outputs": [],
   "source": [
    "labdir = Path(\"F:\\SDM\\pylab1\")\n",
    "print(labdir)\n",
    "labdir.exists()"
   ]
  },
  {
   "cell_type": "markdown",
   "id": "00c90483-04f0-410a-9ee5-2b05cd6063dd",
   "metadata": {},
   "source": [
    "### (10) Verify given file is a directory or file"
   ]
  },
  {
   "cell_type": "code",
   "execution_count": null,
   "id": "458d7800-85f9-433b-8d74-c0926f9a5b71",
   "metadata": {
    "jupyter": {
     "source_hidden": true
    }
   },
   "outputs": [],
   "source": [
    "filetype = Path(\"F:\\csecourses.txt\")\n",
    "diretype = Path(\"F:\\csecourses\")\n",
    "diretype_existing = Path(\"F:\\SDM\")\n",
    "print(filetype.exists())\n",
    "print(filetype.is_dir())\n",
    "print(diretype_existing.is_dir())"
   ]
  },
  {
   "cell_type": "markdown",
   "id": "eff9668b-0f16-45bb-adbd-f83f3c9e4739",
   "metadata": {
    "jp-MarkdownHeadingCollapsed": true
   },
   "source": [
    "### (11) Create a directory by avoiding \"FileExisitsError\""
   ]
  },
  {
   "cell_type": "code",
   "execution_count": 3,
   "id": "1a10783f-d2c5-4a28-b11d-29483b666186",
   "metadata": {},
   "outputs": [
    {
     "name": "stdout",
     "output_type": "stream",
     "text": [
      "F:\\myfd2\n"
     ]
    },
    {
     "name": "stderr",
     "output_type": "stream",
     "text": [
      "<>:2: SyntaxWarning: invalid escape sequence '\\m'\n",
      "<>:2: SyntaxWarning: invalid escape sequence '\\m'\n",
      "C:\\Users\\tejas\\AppData\\Local\\Temp\\ipykernel_11732\\1307026660.py:2: SyntaxWarning: invalid escape sequence '\\m'\n",
      "  mydir = Path(\"F:\\myfd2\")\n",
      "C:\\Users\\tejas\\AppData\\Local\\Temp\\ipykernel_11732\\1307026660.py:2: SyntaxWarning: invalid escape sequence '\\m'\n",
      "  mydir = Path(\"F:\\myfd2\")\n"
     ]
    },
    {
     "ename": "FileNotFoundError",
     "evalue": "[WinError 3] The system cannot find the path specified: 'F:\\\\myfd2'",
     "output_type": "error",
     "traceback": [
      "\u001b[1;31m---------------------------------------------------------------------------\u001b[0m",
      "\u001b[1;31mFileNotFoundError\u001b[0m                         Traceback (most recent call last)",
      "Cell \u001b[1;32mIn[3], line 4\u001b[0m\n\u001b[0;32m      2\u001b[0m mydir \u001b[38;5;241m=\u001b[39m Path(\u001b[38;5;124m\"\u001b[39m\u001b[38;5;124mF:\u001b[39m\u001b[38;5;124m\\\u001b[39m\u001b[38;5;124mmyfd2\u001b[39m\u001b[38;5;124m\"\u001b[39m)\n\u001b[0;32m      3\u001b[0m \u001b[38;5;28mprint\u001b[39m(mydir)\n\u001b[1;32m----> 4\u001b[0m \u001b[43mmydir\u001b[49m\u001b[38;5;241;43m.\u001b[39;49m\u001b[43mmkdir\u001b[49m\u001b[43m(\u001b[49m\u001b[43mexist_ok\u001b[49m\u001b[38;5;241;43m=\u001b[39;49m\u001b[38;5;28;43;01mTrue\u001b[39;49;00m\u001b[43m)\u001b[49m\n",
      "File \u001b[1;32mc:\\Users\\tejas\\AppData\\Local\\Programs\\Python\\Python312\\Lib\\pathlib.py:1311\u001b[0m, in \u001b[0;36mPath.mkdir\u001b[1;34m(self, mode, parents, exist_ok)\u001b[0m\n\u001b[0;32m   1307\u001b[0m \u001b[38;5;250m\u001b[39m\u001b[38;5;124;03m\"\"\"\u001b[39;00m\n\u001b[0;32m   1308\u001b[0m \u001b[38;5;124;03mCreate a new directory at this given path.\u001b[39;00m\n\u001b[0;32m   1309\u001b[0m \u001b[38;5;124;03m\"\"\"\u001b[39;00m\n\u001b[0;32m   1310\u001b[0m \u001b[38;5;28;01mtry\u001b[39;00m:\n\u001b[1;32m-> 1311\u001b[0m     \u001b[43mos\u001b[49m\u001b[38;5;241;43m.\u001b[39;49m\u001b[43mmkdir\u001b[49m\u001b[43m(\u001b[49m\u001b[38;5;28;43mself\u001b[39;49m\u001b[43m,\u001b[49m\u001b[43m \u001b[49m\u001b[43mmode\u001b[49m\u001b[43m)\u001b[49m\n\u001b[0;32m   1312\u001b[0m \u001b[38;5;28;01mexcept\u001b[39;00m \u001b[38;5;167;01mFileNotFoundError\u001b[39;00m:\n\u001b[0;32m   1313\u001b[0m     \u001b[38;5;28;01mif\u001b[39;00m \u001b[38;5;129;01mnot\u001b[39;00m parents \u001b[38;5;129;01mor\u001b[39;00m \u001b[38;5;28mself\u001b[39m\u001b[38;5;241m.\u001b[39mparent \u001b[38;5;241m==\u001b[39m \u001b[38;5;28mself\u001b[39m:\n",
      "\u001b[1;31mFileNotFoundError\u001b[0m: [WinError 3] The system cannot find the path specified: 'F:\\\\myfd2'"
     ]
    }
   ],
   "source": [
    "from pathlib import Path \n",
    "mydir = Path(\"F:\\myfd2\")\n",
    "print(mydir)\n",
    "mydir.mkdir(exist_ok=True)"
   ]
  },
  {
   "cell_type": "markdown",
   "id": "28d05102-eea7-4543-ab96-27314ce12a85",
   "metadata": {},
   "source": [
    "### (12) Creating subfolders"
   ]
  },
  {
   "cell_type": "code",
   "execution_count": 10,
   "id": "899912ba-cac3-455e-95ab-cc3a066cf6e7",
   "metadata": {},
   "outputs": [
    {
     "data": {
      "text/plain": [
       "WindowsPath('c:/Users/tejas/OneDrive/Desktop/python 5th sem/Driver')"
      ]
     },
     "execution_count": 10,
     "metadata": {},
     "output_type": "execute_result"
    }
   ],
   "source": [
    "subfldr = Path(\"F:\\myfd2\")\n",
    "subfldr.mkdir(parents = False, exist_ok = True)\n",
    "subfldr"
   ]
  },
  {
   "cell_type": "markdown",
   "id": "c9c3695f-88c3-4613-9805-bc49ee2b9dfb",
   "metadata": {
    "jp-MarkdownHeadingCollapsed": true
   },
   "source": [
    "### (13) Create a file"
   ]
  },
  {
   "cell_type": "code",
   "execution_count": 6,
   "id": "59557c76-09f0-4050-bf98-675154dd849f",
   "metadata": {},
   "outputs": [
    {
     "name": "stdout",
     "output_type": "stream",
     "text": [
      "ftype.txt\n"
     ]
    }
   ],
   "source": [
    "ffp = Path(\"ftype.txt\")\n",
    "print(ffp)"
   ]
  },
  {
   "cell_type": "code",
   "execution_count": 7,
   "id": "6110e2b1-574d-4b38-b0bc-946604436a2b",
   "metadata": {},
   "outputs": [
    {
     "data": {
      "text/plain": [
       "True"
      ]
     },
     "execution_count": 7,
     "metadata": {},
     "output_type": "execute_result"
    }
   ],
   "source": [
    "ffp.touch()\n",
    "ffp.exists()"
   ]
  },
  {
   "cell_type": "markdown",
   "id": "144859b3-3d56-4e01-9981-aa92ab5a9506",
   "metadata": {
    "jp-MarkdownHeadingCollapsed": true
   },
   "source": [
    "### (14) Iterating Over Directory Contents"
   ]
  },
  {
   "cell_type": "code",
   "execution_count": null,
   "id": "e1c183ce-8cf9-4465-8ef6-ee8d9067410d",
   "metadata": {},
   "outputs": [],
   "source": [
    "fpt = Path(\"F:/folder_c\")\n",
    "for p in fpt.iterdir():\n",
    "    print(p)"
   ]
  },
  {
   "cell_type": "markdown",
   "id": "c66a2c92-2e69-4c8a-aae5-4f7afc9239a4",
   "metadata": {},
   "source": [
    "### (15) Read a content to text file"
   ]
  },
  {
   "cell_type": "code",
   "execution_count": null,
   "id": "0cc4c98b-e0b0-4606-9c09-e17082dc9228",
   "metadata": {},
   "outputs": [],
   "source": [
    "# Open the file in read mode\n",
    "with open('F:\\\\f1.txt', mode='r') as file:\n",
    "    # Read and print each line\n",
    "    for line in file:\n",
    "        print(line.strip())  # Remove trailing newline characters, Also try for lstrip() and rstrip() functions"
   ]
  },
  {
   "cell_type": "markdown",
   "id": "8952f31d-a7bb-428b-baa7-c7f6c4e430ea",
   "metadata": {
    "jp-MarkdownHeadingCollapsed": true
   },
   "source": [
    "### (16) Write and append a data to a text file"
   ]
  },
  {
   "cell_type": "code",
   "execution_count": null,
   "id": "59b8c48a-aed8-44e4-809c-ba5b7abe4a83",
   "metadata": {},
   "outputs": [],
   "source": [
    "# Create a text file and write content to it\n",
    "statements = [\"Hi, All This is first line\\n, Hello, this is second line of text\\n, Everyone, This is third line of text\"]\n",
    "with open('F:\\\\my_file.txt', 'w') as file:\n",
    "    # Writing multiple lines of statements using lists:\n",
    "    # file.writelines(statements)\n",
    "    \n",
    "    file.write(\"Hello!!! Students, we are learning writing a content to file.\\n\")\n",
    "    file.write(\"Computer Science and Engineering department.\\n\")\n",
    "if(file !=\"\"):\n",
    "    # print(file)\n",
    "    print(f'Content writing done successfully')\n",
    "else:\n",
    "    print(f'Problem in writing content to a specified file..!!!')\n",
    "\n",
    "# Append more content to the same file\n",
    "with open('F:\\\\my_file.txt', 'a') as file:\n",
    "    file.write(\"Every day technology keep changing.\\n\")\n",
    "    file.write(\"Everyone has to upgrade to compete today's world.\\n\")\n",
    "if(file):\n",
    "    print(f'Content appending done successfully')\n",
    "else:\n",
    "    print(f'Problem in append operation to a specified file..!!!')"
   ]
  },
  {
   "cell_type": "markdown",
   "id": "5b51d2aa-9c75-4f43-9d93-6bf15b8786f2",
   "metadata": {
    "jp-MarkdownHeadingCollapsed": true
   },
   "source": [
    "### (17) Write a python script to read N natural numbers from the file and find sum of N numbers:"
   ]
  },
  {
   "cell_type": "code",
   "execution_count": null,
   "id": "d960c268-030c-48da-bc63-e2c5254f2a7a",
   "metadata": {},
   "outputs": [],
   "source": [
    "# Assuming the file 'numbers.txt' contains a single integer N\n",
    "with open('F:\\\\Natural_numbers.txt', 'r') as file:\n",
    "    N = int(file.read())\n",
    "\n",
    "# Calculate the sum of first N natural numbers using the formula\n",
    "sum_of_N = N * (N + 1) // 2\n",
    "\n",
    "print(\"Sum of first\", N, \"natural numbers:\", sum_of_N)"
   ]
  },
  {
   "cell_type": "markdown",
   "id": "af344453-29bb-4744-854e-f4564fbdaee0",
   "metadata": {
    "jp-MarkdownHeadingCollapsed": true
   },
   "source": [
    "### (18) Write a python script to read series of numbers from the file and find sum of N numbers:"
   ]
  },
  {
   "cell_type": "code",
   "execution_count": null,
   "id": "6a143821-71e4-4a2b-87a5-da7386ba026e",
   "metadata": {},
   "outputs": [],
   "source": [
    "# Open the file containing the numbers\n",
    "with open('F:\\\\NaturalNumbers.txt', 'r') as file:\n",
    "    total = 0\n",
    "    for line in file:\n",
    "        number = int(line.rstrip())  # Convert each line to an integer\n",
    "        total += number\n",
    "\n",
    "# Print the calculated sum\n",
    "print(\"Sum of numbers:\", total)"
   ]
  },
  {
   "cell_type": "markdown",
   "id": "c9364b10-65b4-4670-82c1-246cfebdbec7",
   "metadata": {},
   "source": [
    "### (19) Pattern matching or searching a string in the given file:"
   ]
  },
  {
   "cell_type": "code",
   "execution_count": 133,
   "id": "e9e9a6a2-3b27-4bd7-a508-7649bfefc444",
   "metadata": {},
   "outputs": [],
   "source": [
    "# import fnmatch\n",
    "\n",
    "# Open the text file\n",
    "# with open('F:\\\\Search_String.txt', 'r') as file:\n",
    "#     for line in file:\n",
    "#         # Search for lines matching the wildcard pattern\n",
    "#         if fnmatch.fnmatch(line.strip(), '*Science*'):\n",
    "#             print(line.strip())\n",
    "# with open('F:\\\\Search_String.txt', 'r') as file:\n",
    "#     for line in file:\n",
    "#         if fnmatch.filter(line.strip(), '*[IT]*'):\n",
    "#             print(line.strip())\n",
    "import re\n",
    "with open('F:\\\\Search_String.txt', 'r') as file:\n",
    "    pat = 'cse*T'\n",
    "    for line in file:\n",
    "        # Matches strings like \"abc\", \"axbc\", \"aybc\", \"azbc\", \"aabcc\", etc.\n",
    "        # findall(pattern, text)\n",
    "        # search(pattern, text)\n",
    "        # match(pattern, text)\n",
    "        if re.findall(pat, line):\n",
    "            print(line, end='')"
   ]
  },
  {
   "cell_type": "code",
   "execution_count": null,
   "id": "0492f523-61ed-4f5b-a0ce-23f54fa66655",
   "metadata": {
    "scrolled": true
   },
   "outputs": [],
   "source": []
  },
  {
   "cell_type": "markdown",
   "id": "32374a08-f5bf-44a1-a12e-005d15d73cbb",
   "metadata": {},
   "source": [
    "<h2><center>CSV File Type</center></h2>"
   ]
  },
  {
   "cell_type": "markdown",
   "id": "0291d881-0c65-41be-841c-ea9692ce40e3",
   "metadata": {},
   "source": [
    "### (20) Read student marks (IA, CIE & SEE) from CSV file and display the same"
   ]
  },
  {
   "cell_type": "code",
   "execution_count": null,
   "id": "ce7f4d8d-86ec-4b8b-b603-1c2e4119cd23",
   "metadata": {},
   "outputs": [],
   "source": [
    "import csv\n",
    "# Read the CSV file\n",
    "with open(\"student_marks.csv\", mode = \"r\",encoding = \"utf-8\") as file:\n",
    "    reader = csv.reader(file)\n",
    "    header = next(reader)  # Read the header row\n",
    "\n",
    "    # Print the header row\n",
    "    print(header)\n",
    "\n",
    "    # Print the remaining rows (student marks)\n",
    "    for row in reader:\n",
    "        print(row)"
   ]
  },
  {
   "cell_type": "markdown",
   "id": "f6308a32-2d23-40cb-95e7-b2d0a9510bff",
   "metadata": {},
   "source": [
    "### (21) Read Students details using CSV file format"
   ]
  },
  {
   "cell_type": "code",
   "execution_count": null,
   "id": "129a2327-8b57-4236-9ef7-218f2862276f",
   "metadata": {
    "jupyter": {
     "source_hidden": true
    }
   },
   "outputs": [],
   "source": [
    "import csv\n",
    "from pathlib import Path\n",
    "\n",
    "# Specify the file path\n",
    "file_path = Path('student_details.csv')\n",
    "\n",
    "# Read the CSV file\n",
    "with file_path.open('r') as file:\n",
    "    reader = csv.reader(file)\n",
    "    header = next(reader)  # Read the header row\n",
    "\n",
    "    # Print the header row\n",
    "    print(header)\n",
    "\n",
    "    # Print the remaining rows (student details)\n",
    "    for row in reader:\n",
    "        print(row)"
   ]
  },
  {
   "cell_type": "markdown",
   "id": "971353c3-7bdb-43b6-9f01-fd7d416373c4",
   "metadata": {},
   "source": [
    "### (22) Write city-wise temprature data stored in dictionary to the CSV file "
   ]
  },
  {
   "cell_type": "code",
   "execution_count": null,
   "id": "39d7b233-a36c-4237-b678-544dff6ed6ab",
   "metadata": {
    "scrolled": true
   },
   "outputs": [],
   "source": [
    "import csv\n",
    "\n",
    "# city-temperature data\n",
    "city_temps = {\n",
    "    \"Delhi\": 32,\n",
    "    \"Mumbai\": 28,\n",
    "    \"Kolkata\": 30,\n",
    "    \"Chennai\": 35,\n",
    "    \"Bangalore\": 25\n",
    "}\n",
    "# Write the data to a CSV file\n",
    "with open('city_temperatures.csv', mode = 'w', newline='') as csvfile:\n",
    "    fieldnames = ['City', 'Temperature']\n",
    "    writer = csv.DictWriter(csvfile, fieldnames=fieldnames)\n",
    "    #################print(writer.fieldnames)\n",
    "    \n",
    "    for city, temp in city_temps.items():\n",
    "        writer.writerow({'City': city, 'Temperature': temp})\n",
    "print(\"City-wise temprature data is written to CSV file successfully!\")"
   ]
  },
  {
   "cell_type": "markdown",
   "id": "4f4f3fb9-5e9d-4bc5-ae69-8787ee0ced0c",
   "metadata": {},
   "source": [
    "### (23) Read students IA marks and store it into a CSV file"
   ]
  },
  {
   "cell_type": "code",
   "execution_count": null,
   "id": "eb9eda6c-d06b-4168-89d7-3b0098cf94cf",
   "metadata": {
    "scrolled": true
   },
   "outputs": [],
   "source": [
    "import csv\n",
    "\n",
    "# Get subject marks from the user\n",
    "IA1 = int(input(\"Enter marks for IA 1: \"))\n",
    "IA2 = int(input(\"Enter marks for IA 2: \"))\n",
    "IA3 = int(input(\"Enter marks for IA 3: \"))\n",
    "\n",
    "# Create a list of marks\n",
    "marks = [IA1, IA2, IA3]\n",
    "\n",
    "# Write the marks to a CSV file\n",
    "with open('IAMarks_details.csv', 'a', newline='') as csvfile:\n",
    "    writer = csv.writer(csvfile)\n",
    "    writer.writerow(marks)\n",
    "\n",
    "print(\"Marks written to CSV file successfully!\")"
   ]
  },
  {
   "cell_type": "markdown",
   "id": "aa0edb0b-89a2-4771-95f8-34d4ce3b532b",
   "metadata": {},
   "source": [
    "### (24) Read and write CSV file having semicolon and colon (;) & (:) as a delimiter "
   ]
  },
  {
   "cell_type": "code",
   "execution_count": null,
   "id": "bdc9aec1-a0c3-4f13-bb05-07677d9fa221",
   "metadata": {
    "scrolled": true
   },
   "outputs": [],
   "source": [
    "import csv\n",
    "\n",
    "# Specify the CSV file path\n",
    "file_path = \"DataWithDelimit.csv\"\n",
    "\n",
    "# Read the CSV file\n",
    "with open(file_path, 'r') as file:\n",
    "    reader = csv.reader(file, delimiter=':')\n",
    "    for row in reader:\n",
    "        print(row)\n",
    "\n",
    "# Write to a new CSV file\n",
    "with open('DataWithDelimit_new.csv', 'w', newline='') as file:\n",
    "    writer = csv.writer(file, delimiter=';')\n",
    "    writer.writerow(['Name', 'Roll_No', 'Branch']) # Writes a single row into a writer instance; writerow -> write a row\n",
    "    writer.writerow(['Ramesh Arvind', '124', 'Machine Learning'])\n",
    "    writer.writerow(['Punit R', '254', 'Civil Engineering'])"
   ]
  }
 ],
 "metadata": {
  "kernelspec": {
   "display_name": "Python 3",
   "language": "python",
   "name": "python3"
  },
  "language_info": {
   "codemirror_mode": {
    "name": "ipython",
    "version": 3
   },
   "file_extension": ".py",
   "mimetype": "text/x-python",
   "name": "python",
   "nbconvert_exporter": "python",
   "pygments_lexer": "ipython3",
   "version": "3.12.6"
  }
 },
 "nbformat": 4,
 "nbformat_minor": 5
}
